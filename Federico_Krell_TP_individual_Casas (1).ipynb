{
  "nbformat": 4,
  "nbformat_minor": 0,
  "metadata": {
    "colab": {
      "name": "Federico Krell TP individual Casas.ipynb",
      "provenance": [],
      "collapsed_sections": []
    },
    "kernelspec": {
      "name": "python3",
      "display_name": "Python 3"
    },
    "language_info": {
      "name": "python"
    }
  },
  "cells": [
    {
      "cell_type": "code",
      "source": [
        "# # https://www.properati.com.ar/data\n",
        "# ! wget -O ar_properties.csv.gz -q https://storage.googleapis.com/properati-data-public/ar_properties.csv.gz\n",
        "# ! gzip -d -f /content/ar_properties.csv.gz"
      ],
      "metadata": {
        "id": "A7BBykw5oQNl"
      },
      "execution_count": 1,
      "outputs": []
    },
    {
      "cell_type": "code",
      "execution_count": 2,
      "metadata": {
        "id": "jw8ogMDOpvKP"
      },
      "outputs": [],
      "source": [
        "import pandas as pd\n",
        "import numpy as np\n",
        "\n",
        "import sklearn as sk\n",
        "from sklearn import model_selection\n",
        "from sklearn import ensemble\n",
        "from sklearn import metrics\n",
        "\n",
        "import matplotlib.pyplot as plt\n",
        "import seaborn as sns\n",
        "\n",
        "\n",
        "from pprint import pprint"
      ]
    },
    {
      "cell_type": "markdown",
      "source": [
        "# Lectura de datos"
      ],
      "metadata": {
        "id": "20D-m6GPyefp"
      }
    },
    {
      "cell_type": "code",
      "source": [
        "from google.colab import drive\n",
        "drive.mount('/content/drive')"
      ],
      "metadata": {
        "colab": {
          "base_uri": "https://localhost:8080/"
        },
        "id": "elViU3DvxNlv",
        "outputId": "aa821491-9db5-4c1c-e871-19ff5913805e"
      },
      "execution_count": 3,
      "outputs": [
        {
          "output_type": "stream",
          "name": "stdout",
          "text": [
            "Drive already mounted at /content/drive; to attempt to forcibly remount, call drive.mount(\"/content/drive\", force_remount=True).\n"
          ]
        }
      ]
    },
    {
      "cell_type": "code",
      "source": [
        "# ! gzip -d -f /content/drive/MyDrive/ar_properties.csv.gz"
      ],
      "metadata": {
        "id": "2dbybcxDyeDO"
      },
      "execution_count": 4,
      "outputs": []
    },
    {
      "cell_type": "code",
      "source": [
        "# df = pd.read_csv('/content/drive/MyDrive/ar_properties.csv', index_col=\"id\")  \n",
        "df = pd.read_csv('/content/drive/MyDrive/inmoblimpio.csv', index_col=\"id\")"
      ],
      "metadata": {
        "id": "CtV0wOGsqJLC"
      },
      "execution_count": 7,
      "outputs": []
    },
    {
      "cell_type": "code",
      "source": [
        "df.head()"
      ],
      "metadata": {
        "id": "thKYxfNuulgB",
        "colab": {
          "base_uri": "https://localhost:8080/",
          "height": 695
        },
        "outputId": "3125f7fe-1f90-4c26-9c7b-d827cc3f2e1b"
      },
      "execution_count": 8,
      "outputs": [
        {
          "output_type": "execute_result",
          "data": {
            "text/plain": [
              "                            ad_type  start_date    end_date  created_on  \\\n",
              "id                                                                        \n",
              "hjHZd/BZqSBy3zb+RrqPYg==  Propiedad  2020-08-22  2020-09-04  2020-08-22   \n",
              "2KF4gGpEVoyqnMVFBcF7IA==  Propiedad  2020-08-22  2020-09-04  2020-08-22   \n",
              "BRbo9ohkAnogBN3vgcbh1Q==  Propiedad  2020-08-22  2020-09-04  2020-08-22   \n",
              "twX40kvJoG1MI6LVXnRKpA==  Propiedad  2020-08-22  2020-09-04  2020-08-22   \n",
              "+KGGxikZuWylLGEfAS1QQQ==  Propiedad  2020-08-22  2020-09-04  2020-08-22   \n",
              "\n",
              "                                lat        lon         l1               l2  \\\n",
              "id                                                                           \n",
              "hjHZd/BZqSBy3zb+RrqPYg== -34.638910 -58.476073  Argentina  Capital Federal   \n",
              "2KF4gGpEVoyqnMVFBcF7IA== -34.562124 -58.464449  Argentina  Capital Federal   \n",
              "BRbo9ohkAnogBN3vgcbh1Q== -34.598112 -58.400784  Argentina  Capital Federal   \n",
              "twX40kvJoG1MI6LVXnRKpA== -34.614123 -58.378985  Argentina  Capital Federal   \n",
              "+KGGxikZuWylLGEfAS1QQQ== -34.603233 -58.385218  Argentina  Capital Federal   \n",
              "\n",
              "                                   l3   l4  ...  bathrooms  surface_total  \\\n",
              "id                                          ...                             \n",
              "hjHZd/BZqSBy3zb+RrqPYg==     Floresta  NaN  ...        NaN          372.0   \n",
              "2KF4gGpEVoyqnMVFBcF7IA==     Belgrano  NaN  ...        NaN            NaN   \n",
              "BRbo9ohkAnogBN3vgcbh1Q==     Recoleta  NaN  ...        3.0          265.0   \n",
              "twX40kvJoG1MI6LVXnRKpA==    Monserrat  NaN  ...        3.0          150.0   \n",
              "+KGGxikZuWylLGEfAS1QQQ==  San Nicolás  NaN  ...        1.0            NaN   \n",
              "\n",
              "                          surface_covered     price  currency  price_period  \\\n",
              "id                                                                            \n",
              "hjHZd/BZqSBy3zb+RrqPYg==              NaN  450000.0       USD       Mensual   \n",
              "2KF4gGpEVoyqnMVFBcF7IA==              NaN   20000.0       USD       Mensual   \n",
              "BRbo9ohkAnogBN3vgcbh1Q==            265.0  600000.0       USD       Mensual   \n",
              "twX40kvJoG1MI6LVXnRKpA==            150.0  195000.0       USD       Mensual   \n",
              "+KGGxikZuWylLGEfAS1QQQ==             12.0   22000.0       USD       Mensual   \n",
              "\n",
              "                                                                      title  \\\n",
              "id                                                                            \n",
              "hjHZd/BZqSBy3zb+RrqPYg==                                  Exclente lote !!    \n",
              "2KF4gGpEVoyqnMVFBcF7IA==  Excelente cochera fija y cubierta en edificio ...   \n",
              "BRbo9ohkAnogBN3vgcbh1Q==              Oficina comercial · 265m² · 2 Cochera   \n",
              "twX40kvJoG1MI6LVXnRKpA==      Importante Oficina en Micro centro de 150 m2.   \n",
              "+KGGxikZuWylLGEfAS1QQQ==                              Oficina - San Nicolas   \n",
              "\n",
              "                                                                description  \\\n",
              "id                                                                            \n",
              "hjHZd/BZqSBy3zb+RrqPYg==  Lote 365 mts 8,90 x 43 mts C3 II.. FOT 3.6 PAR...   \n",
              "2KF4gGpEVoyqnMVFBcF7IA==  Muy buena cochera, en el 4to piso en excelente...   \n",
              "BRbo9ohkAnogBN3vgcbh1Q==  Gran Oportunidad! Unica piso de oficinas de 26...   \n",
              "twX40kvJoG1MI6LVXnRKpA==  Importante  Oficina de de 150 m2 con palier pr...   \n",
              "+KGGxikZuWylLGEfAS1QQQ==  VENTA DE OFICINA A METROS DEL PALACIO DE TRIBU...   \n",
              "\n",
              "                         property_type operation_type  \n",
              "id                                                     \n",
              "hjHZd/BZqSBy3zb+RrqPYg==          Lote          Venta  \n",
              "2KF4gGpEVoyqnMVFBcF7IA==       Cochera          Venta  \n",
              "BRbo9ohkAnogBN3vgcbh1Q==       Oficina          Venta  \n",
              "twX40kvJoG1MI6LVXnRKpA==       Oficina          Venta  \n",
              "+KGGxikZuWylLGEfAS1QQQ==       Oficina          Venta  \n",
              "\n",
              "[5 rows x 24 columns]"
            ],
            "text/html": [
              "\n",
              "  <div id=\"df-9c4aed08-039c-49bf-99b5-a0afe444224f\">\n",
              "    <div class=\"colab-df-container\">\n",
              "      <div>\n",
              "<style scoped>\n",
              "    .dataframe tbody tr th:only-of-type {\n",
              "        vertical-align: middle;\n",
              "    }\n",
              "\n",
              "    .dataframe tbody tr th {\n",
              "        vertical-align: top;\n",
              "    }\n",
              "\n",
              "    .dataframe thead th {\n",
              "        text-align: right;\n",
              "    }\n",
              "</style>\n",
              "<table border=\"1\" class=\"dataframe\">\n",
              "  <thead>\n",
              "    <tr style=\"text-align: right;\">\n",
              "      <th></th>\n",
              "      <th>ad_type</th>\n",
              "      <th>start_date</th>\n",
              "      <th>end_date</th>\n",
              "      <th>created_on</th>\n",
              "      <th>lat</th>\n",
              "      <th>lon</th>\n",
              "      <th>l1</th>\n",
              "      <th>l2</th>\n",
              "      <th>l3</th>\n",
              "      <th>l4</th>\n",
              "      <th>...</th>\n",
              "      <th>bathrooms</th>\n",
              "      <th>surface_total</th>\n",
              "      <th>surface_covered</th>\n",
              "      <th>price</th>\n",
              "      <th>currency</th>\n",
              "      <th>price_period</th>\n",
              "      <th>title</th>\n",
              "      <th>description</th>\n",
              "      <th>property_type</th>\n",
              "      <th>operation_type</th>\n",
              "    </tr>\n",
              "    <tr>\n",
              "      <th>id</th>\n",
              "      <th></th>\n",
              "      <th></th>\n",
              "      <th></th>\n",
              "      <th></th>\n",
              "      <th></th>\n",
              "      <th></th>\n",
              "      <th></th>\n",
              "      <th></th>\n",
              "      <th></th>\n",
              "      <th></th>\n",
              "      <th></th>\n",
              "      <th></th>\n",
              "      <th></th>\n",
              "      <th></th>\n",
              "      <th></th>\n",
              "      <th></th>\n",
              "      <th></th>\n",
              "      <th></th>\n",
              "      <th></th>\n",
              "      <th></th>\n",
              "      <th></th>\n",
              "    </tr>\n",
              "  </thead>\n",
              "  <tbody>\n",
              "    <tr>\n",
              "      <th>hjHZd/BZqSBy3zb+RrqPYg==</th>\n",
              "      <td>Propiedad</td>\n",
              "      <td>2020-08-22</td>\n",
              "      <td>2020-09-04</td>\n",
              "      <td>2020-08-22</td>\n",
              "      <td>-34.638910</td>\n",
              "      <td>-58.476073</td>\n",
              "      <td>Argentina</td>\n",
              "      <td>Capital Federal</td>\n",
              "      <td>Floresta</td>\n",
              "      <td>NaN</td>\n",
              "      <td>...</td>\n",
              "      <td>NaN</td>\n",
              "      <td>372.0</td>\n",
              "      <td>NaN</td>\n",
              "      <td>450000.0</td>\n",
              "      <td>USD</td>\n",
              "      <td>Mensual</td>\n",
              "      <td>Exclente lote !!</td>\n",
              "      <td>Lote 365 mts 8,90 x 43 mts C3 II.. FOT 3.6 PAR...</td>\n",
              "      <td>Lote</td>\n",
              "      <td>Venta</td>\n",
              "    </tr>\n",
              "    <tr>\n",
              "      <th>2KF4gGpEVoyqnMVFBcF7IA==</th>\n",
              "      <td>Propiedad</td>\n",
              "      <td>2020-08-22</td>\n",
              "      <td>2020-09-04</td>\n",
              "      <td>2020-08-22</td>\n",
              "      <td>-34.562124</td>\n",
              "      <td>-58.464449</td>\n",
              "      <td>Argentina</td>\n",
              "      <td>Capital Federal</td>\n",
              "      <td>Belgrano</td>\n",
              "      <td>NaN</td>\n",
              "      <td>...</td>\n",
              "      <td>NaN</td>\n",
              "      <td>NaN</td>\n",
              "      <td>NaN</td>\n",
              "      <td>20000.0</td>\n",
              "      <td>USD</td>\n",
              "      <td>Mensual</td>\n",
              "      <td>Excelente cochera fija y cubierta en edificio ...</td>\n",
              "      <td>Muy buena cochera, en el 4to piso en excelente...</td>\n",
              "      <td>Cochera</td>\n",
              "      <td>Venta</td>\n",
              "    </tr>\n",
              "    <tr>\n",
              "      <th>BRbo9ohkAnogBN3vgcbh1Q==</th>\n",
              "      <td>Propiedad</td>\n",
              "      <td>2020-08-22</td>\n",
              "      <td>2020-09-04</td>\n",
              "      <td>2020-08-22</td>\n",
              "      <td>-34.598112</td>\n",
              "      <td>-58.400784</td>\n",
              "      <td>Argentina</td>\n",
              "      <td>Capital Federal</td>\n",
              "      <td>Recoleta</td>\n",
              "      <td>NaN</td>\n",
              "      <td>...</td>\n",
              "      <td>3.0</td>\n",
              "      <td>265.0</td>\n",
              "      <td>265.0</td>\n",
              "      <td>600000.0</td>\n",
              "      <td>USD</td>\n",
              "      <td>Mensual</td>\n",
              "      <td>Oficina comercial · 265m² · 2 Cochera</td>\n",
              "      <td>Gran Oportunidad! Unica piso de oficinas de 26...</td>\n",
              "      <td>Oficina</td>\n",
              "      <td>Venta</td>\n",
              "    </tr>\n",
              "    <tr>\n",
              "      <th>twX40kvJoG1MI6LVXnRKpA==</th>\n",
              "      <td>Propiedad</td>\n",
              "      <td>2020-08-22</td>\n",
              "      <td>2020-09-04</td>\n",
              "      <td>2020-08-22</td>\n",
              "      <td>-34.614123</td>\n",
              "      <td>-58.378985</td>\n",
              "      <td>Argentina</td>\n",
              "      <td>Capital Federal</td>\n",
              "      <td>Monserrat</td>\n",
              "      <td>NaN</td>\n",
              "      <td>...</td>\n",
              "      <td>3.0</td>\n",
              "      <td>150.0</td>\n",
              "      <td>150.0</td>\n",
              "      <td>195000.0</td>\n",
              "      <td>USD</td>\n",
              "      <td>Mensual</td>\n",
              "      <td>Importante Oficina en Micro centro de 150 m2.</td>\n",
              "      <td>Importante  Oficina de de 150 m2 con palier pr...</td>\n",
              "      <td>Oficina</td>\n",
              "      <td>Venta</td>\n",
              "    </tr>\n",
              "    <tr>\n",
              "      <th>+KGGxikZuWylLGEfAS1QQQ==</th>\n",
              "      <td>Propiedad</td>\n",
              "      <td>2020-08-22</td>\n",
              "      <td>2020-09-04</td>\n",
              "      <td>2020-08-22</td>\n",
              "      <td>-34.603233</td>\n",
              "      <td>-58.385218</td>\n",
              "      <td>Argentina</td>\n",
              "      <td>Capital Federal</td>\n",
              "      <td>San Nicolás</td>\n",
              "      <td>NaN</td>\n",
              "      <td>...</td>\n",
              "      <td>1.0</td>\n",
              "      <td>NaN</td>\n",
              "      <td>12.0</td>\n",
              "      <td>22000.0</td>\n",
              "      <td>USD</td>\n",
              "      <td>Mensual</td>\n",
              "      <td>Oficina - San Nicolas</td>\n",
              "      <td>VENTA DE OFICINA A METROS DEL PALACIO DE TRIBU...</td>\n",
              "      <td>Oficina</td>\n",
              "      <td>Venta</td>\n",
              "    </tr>\n",
              "  </tbody>\n",
              "</table>\n",
              "<p>5 rows × 24 columns</p>\n",
              "</div>\n",
              "      <button class=\"colab-df-convert\" onclick=\"convertToInteractive('df-9c4aed08-039c-49bf-99b5-a0afe444224f')\"\n",
              "              title=\"Convert this dataframe to an interactive table.\"\n",
              "              style=\"display:none;\">\n",
              "        \n",
              "  <svg xmlns=\"http://www.w3.org/2000/svg\" height=\"24px\"viewBox=\"0 0 24 24\"\n",
              "       width=\"24px\">\n",
              "    <path d=\"M0 0h24v24H0V0z\" fill=\"none\"/>\n",
              "    <path d=\"M18.56 5.44l.94 2.06.94-2.06 2.06-.94-2.06-.94-.94-2.06-.94 2.06-2.06.94zm-11 1L8.5 8.5l.94-2.06 2.06-.94-2.06-.94L8.5 2.5l-.94 2.06-2.06.94zm10 10l.94 2.06.94-2.06 2.06-.94-2.06-.94-.94-2.06-.94 2.06-2.06.94z\"/><path d=\"M17.41 7.96l-1.37-1.37c-.4-.4-.92-.59-1.43-.59-.52 0-1.04.2-1.43.59L10.3 9.45l-7.72 7.72c-.78.78-.78 2.05 0 2.83L4 21.41c.39.39.9.59 1.41.59.51 0 1.02-.2 1.41-.59l7.78-7.78 2.81-2.81c.8-.78.8-2.07 0-2.86zM5.41 20L4 18.59l7.72-7.72 1.47 1.35L5.41 20z\"/>\n",
              "  </svg>\n",
              "      </button>\n",
              "      \n",
              "  <style>\n",
              "    .colab-df-container {\n",
              "      display:flex;\n",
              "      flex-wrap:wrap;\n",
              "      gap: 12px;\n",
              "    }\n",
              "\n",
              "    .colab-df-convert {\n",
              "      background-color: #E8F0FE;\n",
              "      border: none;\n",
              "      border-radius: 50%;\n",
              "      cursor: pointer;\n",
              "      display: none;\n",
              "      fill: #1967D2;\n",
              "      height: 32px;\n",
              "      padding: 0 0 0 0;\n",
              "      width: 32px;\n",
              "    }\n",
              "\n",
              "    .colab-df-convert:hover {\n",
              "      background-color: #E2EBFA;\n",
              "      box-shadow: 0px 1px 2px rgba(60, 64, 67, 0.3), 0px 1px 3px 1px rgba(60, 64, 67, 0.15);\n",
              "      fill: #174EA6;\n",
              "    }\n",
              "\n",
              "    [theme=dark] .colab-df-convert {\n",
              "      background-color: #3B4455;\n",
              "      fill: #D2E3FC;\n",
              "    }\n",
              "\n",
              "    [theme=dark] .colab-df-convert:hover {\n",
              "      background-color: #434B5C;\n",
              "      box-shadow: 0px 1px 3px 1px rgba(0, 0, 0, 0.15);\n",
              "      filter: drop-shadow(0px 1px 2px rgba(0, 0, 0, 0.3));\n",
              "      fill: #FFFFFF;\n",
              "    }\n",
              "  </style>\n",
              "\n",
              "      <script>\n",
              "        const buttonEl =\n",
              "          document.querySelector('#df-9c4aed08-039c-49bf-99b5-a0afe444224f button.colab-df-convert');\n",
              "        buttonEl.style.display =\n",
              "          google.colab.kernel.accessAllowed ? 'block' : 'none';\n",
              "\n",
              "        async function convertToInteractive(key) {\n",
              "          const element = document.querySelector('#df-9c4aed08-039c-49bf-99b5-a0afe444224f');\n",
              "          const dataTable =\n",
              "            await google.colab.kernel.invokeFunction('convertToInteractive',\n",
              "                                                     [key], {});\n",
              "          if (!dataTable) return;\n",
              "\n",
              "          const docLinkHtml = 'Like what you see? Visit the ' +\n",
              "            '<a target=\"_blank\" href=https://colab.research.google.com/notebooks/data_table.ipynb>data table notebook</a>'\n",
              "            + ' to learn more about interactive tables.';\n",
              "          element.innerHTML = '';\n",
              "          dataTable['output_type'] = 'display_data';\n",
              "          await google.colab.output.renderOutput(dataTable, element);\n",
              "          const docLink = document.createElement('div');\n",
              "          docLink.innerHTML = docLinkHtml;\n",
              "          element.appendChild(docLink);\n",
              "        }\n",
              "      </script>\n",
              "    </div>\n",
              "  </div>\n",
              "  "
            ]
          },
          "metadata": {},
          "execution_count": 8
        }
      ]
    },
    {
      "cell_type": "markdown",
      "source": [
        "<h1> Análisis del conjunto de datos\n",
        " <h2> Parte 1 PreProcesamiento."
      ],
      "metadata": {
        "id": "byV0dQi-yiEd"
      }
    },
    {
      "cell_type": "code",
      "source": [
        "df.shape"
      ],
      "metadata": {
        "colab": {
          "base_uri": "https://localhost:8080/"
        },
        "id": "fTHBTiNw05Nb",
        "outputId": "80d8c685-4ae2-44c8-f7a5-9f55ea18f947"
      },
      "execution_count": 9,
      "outputs": [
        {
          "output_type": "execute_result",
          "data": {
            "text/plain": [
              "(175149, 24)"
            ]
          },
          "metadata": {},
          "execution_count": 9
        }
      ]
    },
    {
      "cell_type": "code",
      "source": [
        "df.columns"
      ],
      "metadata": {
        "colab": {
          "base_uri": "https://localhost:8080/"
        },
        "id": "ixu1VZip07v1",
        "outputId": "5b4f9a8d-35aa-451c-f103-676deef56dbd"
      },
      "execution_count": 10,
      "outputs": [
        {
          "output_type": "execute_result",
          "data": {
            "text/plain": [
              "Index(['ad_type', 'start_date', 'end_date', 'created_on', 'lat', 'lon', 'l1',\n",
              "       'l2', 'l3', 'l4', 'l5', 'l6', 'rooms', 'bedrooms', 'bathrooms',\n",
              "       'surface_total', 'surface_covered', 'price', 'currency', 'price_period',\n",
              "       'title', 'description', 'property_type', 'operation_type'],\n",
              "      dtype='object')"
            ]
          },
          "metadata": {},
          "execution_count": 10
        }
      ]
    },
    {
      "cell_type": "code",
      "source": [
        "df.info()"
      ],
      "metadata": {
        "colab": {
          "base_uri": "https://localhost:8080/"
        },
        "id": "WWYGz7Qn1aPK",
        "outputId": "6ea44579-be69-4b94-ba74-cf2479df1651"
      },
      "execution_count": 11,
      "outputs": [
        {
          "output_type": "stream",
          "name": "stdout",
          "text": [
            "<class 'pandas.core.frame.DataFrame'>\n",
            "Index: 175149 entries, hjHZd/BZqSBy3zb+RrqPYg== to fJLVUIziPl31ACoaE/fj1g==\n",
            "Data columns (total 24 columns):\n",
            " #   Column           Non-Null Count   Dtype  \n",
            "---  ------           --------------   -----  \n",
            " 0   ad_type          175149 non-null  object \n",
            " 1   start_date       175149 non-null  object \n",
            " 2   end_date         175149 non-null  object \n",
            " 3   created_on       175149 non-null  object \n",
            " 4   lat              165257 non-null  float64\n",
            " 5   lon              165257 non-null  float64\n",
            " 6   l1               175149 non-null  object \n",
            " 7   l2               175149 non-null  object \n",
            " 8   l3               175149 non-null  object \n",
            " 9   l4               8615 non-null    object \n",
            " 10  l5               0 non-null       float64\n",
            " 11  l6               0 non-null       float64\n",
            " 12  rooms            148869 non-null  float64\n",
            " 13  bedrooms         128525 non-null  float64\n",
            " 14  bathrooms        153305 non-null  float64\n",
            " 15  surface_total    117880 non-null  float64\n",
            " 16  surface_covered  117107 non-null  float64\n",
            " 17  price            175149 non-null  float64\n",
            " 18  currency         175149 non-null  object \n",
            " 19  price_period     85695 non-null   object \n",
            " 20  title            175149 non-null  object \n",
            " 21  description      175149 non-null  object \n",
            " 22  property_type    175149 non-null  object \n",
            " 23  operation_type   175149 non-null  object \n",
            "dtypes: float64(10), object(14)\n",
            "memory usage: 33.4+ MB\n"
          ]
        }
      ]
    },
    {
      "cell_type": "markdown",
      "source": [
        "Primeras concluciones:\n",
        "\n",
        "---\n",
        "\n",
        "\n",
        " \n",
        "\n",
        "*   l6 no tiene informacion, se dropea.\n",
        "*   hay un 10% del database sin lat y long puede evaluarse tirar las filas sin esa info.\n",
        "*   **Mas importante hay una parte del databse sin precio, eso se tira seguro.**\n",
        "\n",
        "---\n",
        "A nivel operativo las fechas hay que pasarlas a formato de fecha. <br />\n",
        "\n",
        "\n",
        "\n",
        "\n",
        "\n",
        "\n",
        "\n"
      ],
      "metadata": {
        "id": "0rq9YDs21uTp"
      }
    },
    {
      "cell_type": "markdown",
      "source": [
        "En mis datos a predecir solo hay USD asique para evitar problemas de cambio de unidades voy a eleminar las que no son en USD.\n",
        "Tambien es solo de argentina a predecir. <br />\n",
        "EL objetivo es solo precios por lo que operaciones que no sean de comrpa tambien se van.<br />\n",
        "Mis datos son solo de Capital Federal asique voy a filtrar tambien por eso.<br />\n",
        "Estoy buscando precios de abril del 2022 asique en principio podria ver que precios estan viejos. Mi base de datos es de mayo 2021 asique tendre que hacer ajustes con numeros conocidos de evolución de precios.\n",
        "<br />\n",
        "Por ultimo, hay busco datos de barrios especificos asique lo que este por fuera solo añade ruido."
      ],
      "metadata": {
        "id": "xB40jqGL5IE-"
      }
    },
    {
      "cell_type": "code",
      "source": [
        "df.currency.value_counts()"
      ],
      "metadata": {
        "colab": {
          "base_uri": "https://localhost:8080/"
        },
        "id": "aXduj-Bo4aES",
        "outputId": "dd020cc6-ac22-4a51-ef0c-cf8dae2dc3a9"
      },
      "execution_count": 12,
      "outputs": [
        {
          "output_type": "execute_result",
          "data": {
            "text/plain": [
              "USD    175149\n",
              "Name: currency, dtype: int64"
            ]
          },
          "metadata": {},
          "execution_count": 12
        }
      ]
    },
    {
      "cell_type": "code",
      "source": [
        "df=df[df.currency=='USD']"
      ],
      "metadata": {
        "id": "Dh5nzv8n5h0j"
      },
      "execution_count": 13,
      "outputs": []
    },
    {
      "cell_type": "code",
      "source": [
        "df=df[df.l1=='Argentina']"
      ],
      "metadata": {
        "id": "-yIlP51jWZz6"
      },
      "execution_count": 14,
      "outputs": []
    },
    {
      "cell_type": "code",
      "source": [
        "df=df[df.l2=='Capital Federal']"
      ],
      "metadata": {
        "id": "QznHazIVSQxi"
      },
      "execution_count": 15,
      "outputs": []
    },
    {
      "cell_type": "markdown",
      "source": [
        "Estos son los barrios que vienen del set de los que quiero predecir."
      ],
      "metadata": {
        "id": "bjOh2gpwKkt3"
      }
    },
    {
      "cell_type": "code",
      "source": [
        "a=['Balvanera', 'Villa Urquiza', 'Palermo', 'Belgrano', 'Floresta',\n",
        "       'Villa Pueyrredon', 'Saavedra', 'Villa Devoto', 'San Nicolás',\n",
        "       'Chacarita', 'Villa Crespo', 'Boedo', 'Flores', 'Paternal', 'Boca',\n",
        "       'Recoleta', 'Caballito', 'Nuñez', 'Constitución', 'Colegiales',\n",
        "       'San Telmo', 'Monserrat', 'Puerto Madero', 'Villa del Parque',\n",
        "       'Almagro', 'Villa Ortuzar', 'Villa Lugano', 'San Cristobal',\n",
        "       'Barracas', 'Liniers', '2 Ambientes', 'Mataderos',\n",
        "       'Villa Santa Rita', 'Parque Patricios', 'Parque Chas',\n",
        "       'Villa General Mitre', 'Retiro', 'Parque Avellaneda',\n",
        "       'Monte Castro', 'Parque Chacabuco', 'Villa Luro', 'Versalles',\n",
        "       'Coghlan', 'Vélez Sarsfield', 'Nueva Pompeya', 'Agronomía',\n",
        "       'Villa Real', 'GBA Norte']"
      ],
      "metadata": {
        "id": "CBgCT4jElLCT"
      },
      "execution_count": 16,
      "outputs": []
    },
    {
      "cell_type": "code",
      "source": [
        "df = df[df['l3'].isin(a)]"
      ],
      "metadata": {
        "id": "eBNzqZqlk111"
      },
      "execution_count": 17,
      "outputs": []
    },
    {
      "cell_type": "code",
      "source": [
        "# df.to_csv(\"inmoblimpio.csv\")"
      ],
      "metadata": {
        "id": "nGZ1JiJT9hX_"
      },
      "execution_count": 18,
      "outputs": []
    },
    {
      "cell_type": "code",
      "source": [
        "df['start_date']=pd.to_datetime(df['start_date'])"
      ],
      "metadata": {
        "id": "UAwS1SeNa5Ai"
      },
      "execution_count": 19,
      "outputs": []
    },
    {
      "cell_type": "code",
      "source": [
        "df['start_date'].max()"
      ],
      "metadata": {
        "colab": {
          "base_uri": "https://localhost:8080/"
        },
        "id": "ES6vG_T3bKUY",
        "outputId": "b93b67f1-63e5-4dd3-cf26-3359efb4bd83"
      },
      "execution_count": 20,
      "outputs": [
        {
          "output_type": "execute_result",
          "data": {
            "text/plain": [
              "Timestamp('2021-06-17 00:00:00')"
            ]
          },
          "metadata": {},
          "execution_count": 20
        }
      ]
    },
    {
      "cell_type": "code",
      "source": [
        "df['start_date'].min()"
      ],
      "metadata": {
        "colab": {
          "base_uri": "https://localhost:8080/"
        },
        "id": "EUMJP9t2e73s",
        "outputId": "30555ed6-c097-4c9e-a912-6b4312d2c962"
      },
      "execution_count": 21,
      "outputs": [
        {
          "output_type": "execute_result",
          "data": {
            "text/plain": [
              "Timestamp('2020-05-24 00:00:00')"
            ]
          },
          "metadata": {},
          "execution_count": 21
        }
      ]
    },
    {
      "cell_type": "code",
      "source": [
        "df['end_date'].replace('9999-12-31','2020-12-31', inplace=True)"
      ],
      "metadata": {
        "id": "V1EQS4mCE4j_"
      },
      "execution_count": 22,
      "outputs": []
    },
    {
      "cell_type": "code",
      "source": [
        "df['end_date']=pd.to_datetime(df['end_date'])\n",
        "df['end_date'].max()"
      ],
      "metadata": {
        "colab": {
          "base_uri": "https://localhost:8080/"
        },
        "id": "jVqxVelNb_Mr",
        "outputId": "2587d554-69d8-4ef9-b34b-94ba63e1a12a"
      },
      "execution_count": 23,
      "outputs": [
        {
          "output_type": "execute_result",
          "data": {
            "text/plain": [
              "Timestamp('2021-08-16 00:00:00')"
            ]
          },
          "metadata": {},
          "execution_count": 23
        }
      ]
    },
    {
      "cell_type": "code",
      "source": [
        "df=df[df.start_date>'2021-01-01']"
      ],
      "metadata": {
        "id": "tmUqhJoSTd0d"
      },
      "execution_count": 24,
      "outputs": []
    },
    {
      "cell_type": "markdown",
      "source": [
        "Hago un ajuste preliminar de la columna precios."
      ],
      "metadata": {
        "id": "bVAzTwhxcYvd"
      }
    },
    {
      "cell_type": "code",
      "source": [
        "df.l3.unique()"
      ],
      "metadata": {
        "colab": {
          "base_uri": "https://localhost:8080/"
        },
        "id": "99DGGFrq_HGk",
        "outputId": "39f0ad4e-86ba-4a8a-9491-24d787a5e1d0"
      },
      "execution_count": 25,
      "outputs": [
        {
          "output_type": "execute_result",
          "data": {
            "text/plain": [
              "array(['Recoleta', 'Monserrat', 'Balvanera', 'Almagro', 'Palermo',\n",
              "       'San Telmo', 'San Nicolás', 'Villa Crespo', 'Flores', 'Caballito',\n",
              "       'Retiro', 'Floresta', 'Monte Castro', 'Villa General Mitre',\n",
              "       'Villa Urquiza', 'Parque Chacabuco', 'Belgrano', 'Barracas',\n",
              "       'Boedo', 'Nuñez', 'Puerto Madero', 'Coghlan', 'Parque Chas',\n",
              "       'San Cristobal', 'Villa Santa Rita', 'Villa Lugano', 'Saavedra',\n",
              "       'Colegiales', 'Villa Devoto', 'Liniers', 'Boca',\n",
              "       'Parque Avellaneda', 'Mataderos', 'Versalles', 'Villa Real',\n",
              "       'Parque Patricios', 'Villa Ortuzar', 'Villa Luro',\n",
              "       'Villa del Parque', 'Chacarita', 'Constitución', 'Paternal',\n",
              "       'Agronomía'], dtype=object)"
            ]
          },
          "metadata": {},
          "execution_count": 25
        }
      ]
    },
    {
      "cell_type": "code",
      "source": [
        "df.loc[df.l3 == 'Palermo', ['price']]=df.price*0.9\n",
        "df.loc[df.l3 ==  'Belgrano',['price']]=df.price*0.95\n",
        "df.loc[df.l3 == 'Recoleta', ['price']]=df.price*0.87\n",
        "df.loc[df.l3 ==  'Caballito',['price']]=df.price*0.93\n",
        "df.loc[df.l3 == 'Villa Urquiza', ['price']]=df.price*0.9\n",
        "df.loc[df.l3 ==  'Almagro',['price']]=df.price*0.922\n",
        "df.loc[df.l3 == 'Villa Crespo', ['price']]=df.price*0.824\n",
        "df.loc[df.l3 ==  'Nuñez',['price']]=df.price*0.946\n",
        "\n",
        "df.loc[df.l3 == 'Flores', ['price']]=df.price*0.94\n",
        "df.loc[df.l3 ==  'Balvanera',['price']]=df.price*0.95\n",
        "df.loc[df.l3 == 'Puerto Madero', ['price']]=df.price*0.96\n",
        "df.loc[df.l3 ==  'Colegiales',['price']]=df.price*0.91\n",
        "df.loc[df.l3 == 'Saavedra', ['price']]=df.price*0.9\n",
        "df.loc[df.l3 ==  'Villa Devoto',['price']]=df.price*0.922\n",
        "df.loc[df.l3 == 'Floresta', ['price']]=df.price*0.904\n",
        "df.loc[df.l3 ==  'Villa Del Parque',['price']]=df.price*0.894\n",
        "\n",
        "df.loc[df.l3 == 'Retiro', ['price']]=df.price*0.881\n",
        "df.loc[df.l3 ==  'Barracas',['price']]=df.price*1.08\n",
        "df.loc[df.l3 == 'San Cristobal', ['price']]=df.price*0.811\n",
        "df.loc[df.l3 ==  'San Telmo',['price']]=df.price*0.971\n",
        "df.loc[df.l3 == 'Boedo', ['price']]=df.price*0.898\n",
        "df.loc[df.l3 ==  'San Nicolas',['price']]=df.price*0.923\n",
        "df.loc[df.l3 == 'Mataderos', ['price']]=df.price*0.806\n",
        "df.loc[df.l3 ==  'Liniers',['price']]=df.price*0.854\n",
        "\n",
        "\n"
      ],
      "metadata": {
        "id": "cBRgo66EcdZ4"
      },
      "execution_count": 26,
      "outputs": []
    },
    {
      "cell_type": "code",
      "source": [
        "df.currency.value_counts()"
      ],
      "metadata": {
        "colab": {
          "base_uri": "https://localhost:8080/"
        },
        "id": "VacXaPUj5yPn",
        "outputId": "08007cb5-b634-48b5-8c93-3da8113473e6"
      },
      "execution_count": 27,
      "outputs": [
        {
          "output_type": "execute_result",
          "data": {
            "text/plain": [
              "USD    71384\n",
              "Name: currency, dtype: int64"
            ]
          },
          "metadata": {},
          "execution_count": 27
        }
      ]
    },
    {
      "cell_type": "code",
      "source": [
        "df=df.drop('l6', axis=1)"
      ],
      "metadata": {
        "id": "jFewIffK4_44"
      },
      "execution_count": 28,
      "outputs": []
    },
    {
      "cell_type": "code",
      "source": [
        "df['price_period'].value_counts()"
      ],
      "metadata": {
        "colab": {
          "base_uri": "https://localhost:8080/"
        },
        "id": "cv9c8hLlAaxE",
        "outputId": "c2eb1e5c-28da-40cd-edf2-a78af258a508"
      },
      "execution_count": 29,
      "outputs": [
        {
          "output_type": "execute_result",
          "data": {
            "text/plain": [
              "Mensual    42815\n",
              "Name: price_period, dtype: int64"
            ]
          },
          "metadata": {},
          "execution_count": 29
        }
      ]
    },
    {
      "cell_type": "code",
      "source": [
        "df.ad_type.value_counts()"
      ],
      "metadata": {
        "colab": {
          "base_uri": "https://localhost:8080/"
        },
        "id": "9kQSCmzNFiWI",
        "outputId": "492808bc-f61f-42f4-e85c-ec19263b8b03"
      },
      "execution_count": 30,
      "outputs": [
        {
          "output_type": "execute_result",
          "data": {
            "text/plain": [
              "Propiedad    71384\n",
              "Name: ad_type, dtype: int64"
            ]
          },
          "metadata": {},
          "execution_count": 30
        }
      ]
    },
    {
      "cell_type": "markdown",
      "source": [
        "Puedo tirar tambien el price period y ad type."
      ],
      "metadata": {
        "id": "_DFrgcCaBPBh"
      }
    },
    {
      "cell_type": "code",
      "source": [
        "df.dropna(subset=['price','lat','lon','l3','title','description','operation_type'], inplace=True)"
      ],
      "metadata": {
        "id": "qZ7NDIA-8M0h"
      },
      "execution_count": 31,
      "outputs": []
    },
    {
      "cell_type": "code",
      "source": [
        "df=df.drop('price_period', axis=1)"
      ],
      "metadata": {
        "id": "LZcda2h3BODI"
      },
      "execution_count": 32,
      "outputs": []
    },
    {
      "cell_type": "code",
      "source": [
        "df=df.drop('ad_type', axis=1)"
      ],
      "metadata": {
        "id": "deFxgd_6GJO-"
      },
      "execution_count": 33,
      "outputs": []
    },
    {
      "cell_type": "code",
      "source": [
        "df.shape"
      ],
      "metadata": {
        "colab": {
          "base_uri": "https://localhost:8080/"
        },
        "id": "7sTGyLEDGy97",
        "outputId": "71bc1900-1145-4a5f-acd9-a0b025ba1af9"
      },
      "execution_count": 34,
      "outputs": [
        {
          "output_type": "execute_result",
          "data": {
            "text/plain": [
              "(68255, 21)"
            ]
          },
          "metadata": {},
          "execution_count": 34
        }
      ]
    },
    {
      "cell_type": "markdown",
      "source": [
        "<h1>Interludio para df_pred"
      ],
      "metadata": {
        "id": "ltUZ3fNIDaSZ"
      }
    },
    {
      "cell_type": "markdown",
      "source": [
        "<h1> Análisis del conjunto de datos\n",
        " <h2> Parte 2 Analisis de datos y creación de features.\n",
        " Aca empiezo a hacer cambios en los datos, podria ya sumar lo que voy a predecir asi los concateno y despues los separo."
      ],
      "metadata": {
        "id": "2_5rvGcqFt_Y"
      }
    },
    {
      "cell_type": "markdown",
      "source": [
        "Modifiquemos lat y lon"
      ],
      "metadata": {
        "id": "elfYer_wIMD-"
      }
    },
    {
      "cell_type": "code",
      "source": [
        "\n",
        "\n",
        "df['rot_45_x'] = (0.707 * df['lat']) + (0.707 * df['lon'])\n",
        "df['rot_45_y'] = (0.707 * df['lon']) + (0.707 * df['lat'])\n",
        "df['rot_30_x'] = (0.866 * df['lat']) + (0.5 * df['lon'])\n",
        "df['rot_30_y'] = (0.866 * df['lon']) + (0.5 * df['lat'])\n",
        "\n",
        "\n"
      ],
      "metadata": {
        "id": "41VNjibYILze"
      },
      "execution_count": 35,
      "outputs": []
    },
    {
      "cell_type": "code",
      "source": [
        "df['start_date']=pd.to_datetime(df['start_date'])\n",
        "df['anio_s']=pd.DatetimeIndex(df['start_date']).year\n",
        "df['mes_s']=pd.DatetimeIndex(df['start_date']).month\n",
        "df['end_date']=pd.to_datetime(df['end_date'])\n",
        "df['anio_e']=pd.DatetimeIndex(df['end_date']).year\n",
        "df['mes_e']=pd.DatetimeIndex(df['end_date']).month\n",
        "df['created_on']=pd.to_datetime(df['created_on'])\n",
        "df['anio_c']=pd.DatetimeIndex(df['created_on']).year\n",
        "df['mes_c']=pd.DatetimeIndex(df['created_on']).month"
      ],
      "metadata": {
        "id": "8-TXcJQJB4Ka"
      },
      "execution_count": 36,
      "outputs": []
    },
    {
      "cell_type": "code",
      "source": [
        "# np.log(df.rooms).plot.hist()"
      ],
      "metadata": {
        "id": "5vdqb06tGNrt"
      },
      "execution_count": 37,
      "outputs": []
    },
    {
      "cell_type": "code",
      "source": [
        "df['logr']=np.log(df.rooms)"
      ],
      "metadata": {
        "id": "p4NHoogpKggT"
      },
      "execution_count": 38,
      "outputs": []
    },
    {
      "cell_type": "code",
      "source": [
        "df.bedrooms.value_counts()"
      ],
      "metadata": {
        "colab": {
          "base_uri": "https://localhost:8080/"
        },
        "id": "2hytbjhuGqzp",
        "outputId": "5a173231-b4b1-4d69-a38e-10c97d3916ce"
      },
      "execution_count": 39,
      "outputs": [
        {
          "output_type": "execute_result",
          "data": {
            "text/plain": [
              " 1.0      18733\n",
              " 2.0      15480\n",
              " 3.0      10894\n",
              " 4.0       3366\n",
              " 0.0       3210\n",
              " 5.0        593\n",
              " 6.0        208\n",
              " 7.0         51\n",
              " 8.0         46\n",
              " 10.0        18\n",
              " 9.0         16\n",
              " 12.0        14\n",
              " 15.0         8\n",
              " 27.0         5\n",
              " 16.0         4\n",
              " 20.0         4\n",
              " 14.0         4\n",
              " 13.0         4\n",
              " 30.0         3\n",
              " 24.0         3\n",
              " 11.0         3\n",
              " 22.0         2\n",
              " 32.0         2\n",
              " 39.0         2\n",
              " 101.0        2\n",
              " 18.0         2\n",
              " 17.0         2\n",
              " 33.0         1\n",
              " 82.0         1\n",
              " 40.0         1\n",
              " 43.0         1\n",
              " 36.0         1\n",
              "-2.0          1\n",
              " 23.0         1\n",
              " 64.0         1\n",
              " 34.0         1\n",
              " 25.0         1\n",
              " 37.0         1\n",
              " 50.0         1\n",
              "-1.0          1\n",
              "Name: bedrooms, dtype: int64"
            ]
          },
          "metadata": {},
          "execution_count": 39
        }
      ]
    },
    {
      "cell_type": "code",
      "source": [
        "# df.bedrooms = np.where(df.bedrooms < 1, 0.1, df.bedrooms)\n",
        "df=df[df.bedrooms>0]"
      ],
      "metadata": {
        "id": "rW8di_wYHLmC"
      },
      "execution_count": 40,
      "outputs": []
    },
    {
      "cell_type": "code",
      "source": [
        "np.log(df.bedrooms).plot.hist()"
      ],
      "metadata": {
        "colab": {
          "base_uri": "https://localhost:8080/",
          "height": 284
        },
        "id": "_KnqzsoiJXyM",
        "outputId": "1822a0a8-923c-4ee3-85e6-8f7fcce2e006"
      },
      "execution_count": 41,
      "outputs": [
        {
          "output_type": "execute_result",
          "data": {
            "text/plain": [
              "<matplotlib.axes._subplots.AxesSubplot at 0x7f723f9d87d0>"
            ]
          },
          "metadata": {},
          "execution_count": 41
        },
        {
          "output_type": "display_data",
          "data": {
            "text/plain": [
              "<Figure size 432x288 with 1 Axes>"
            ],
            "image/png": "[encoded data removed]"
          },
          "metadata": {
            "needs_background": "light"
          }
        }
      ]
    },
    {
      "cell_type": "code",
      "source": [
        "df['logbed']=np.log(df.bedrooms)"
      ],
      "metadata": {
        "id": "ky2GlQpHKmUt"
      },
      "execution_count": 42,
      "outputs": []
    },
    {
      "cell_type": "code",
      "source": [
        "# np.log(df.bathrooms).plot.hist()"
      ],
      "metadata": {
        "id": "LePdKBVhKqSU"
      },
      "execution_count": 43,
      "outputs": []
    },
    {
      "cell_type": "code",
      "source": [
        "df.bedrooms.plot.hist()"
      ],
      "metadata": {
        "colab": {
          "base_uri": "https://localhost:8080/",
          "height": 284
        },
        "id": "PSN7rZSQKxSj",
        "outputId": "d1e62a3a-6e6d-44f4-ecea-e80bcf71e207"
      },
      "execution_count": 44,
      "outputs": [
        {
          "output_type": "execute_result",
          "data": {
            "text/plain": [
              "<matplotlib.axes._subplots.AxesSubplot at 0x7f723f936c90>"
            ]
          },
          "metadata": {},
          "execution_count": 44
        },
        {
          "output_type": "display_data",
          "data": {
            "text/plain": [
              "<Figure size 432x288 with 1 Axes>"
            ],
            "image/png": "[encoded data removed]"
          },
          "metadata": {
            "needs_background": "light"
          }
        }
      ]
    },
    {
      "cell_type": "code",
      "source": [
        "df['logbath']=np.log(df.bathrooms)"
      ],
      "metadata": {
        "id": "cqGuL_rnK0z3"
      },
      "execution_count": 45,
      "outputs": []
    },
    {
      "cell_type": "code",
      "source": [
        "df.shape"
      ],
      "metadata": {
        "colab": {
          "base_uri": "https://localhost:8080/"
        },
        "id": "8FSJqF_32Wcn",
        "outputId": "f4bde4ba-cc21-4a99-9060-fd716c7a31e4"
      },
      "execution_count": 46,
      "outputs": [
        {
          "output_type": "execute_result",
          "data": {
            "text/plain": [
              "(49480, 34)"
            ]
          },
          "metadata": {},
          "execution_count": 46
        }
      ]
    },
    {
      "cell_type": "code",
      "source": [
        "df.surface_covered.max()"
      ],
      "metadata": {
        "colab": {
          "base_uri": "https://localhost:8080/"
        },
        "id": "mF_tAmYjK7uK",
        "outputId": "fbe3482e-7c68-4c6b-92b3-1973fc43dc5f"
      },
      "execution_count": 47,
      "outputs": [
        {
          "output_type": "execute_result",
          "data": {
            "text/plain": [
              "123000.0"
            ]
          },
          "metadata": {},
          "execution_count": 47
        }
      ]
    },
    {
      "cell_type": "code",
      "source": [
        "df.surface_covered[df.surface_covered.between(df.surface_covered.quantile(.0), df.surface_covered.quantile(.85))].plot.hist()"
      ],
      "metadata": {
        "colab": {
          "base_uri": "https://localhost:8080/",
          "height": 284
        },
        "id": "monkLgNvMw_Y",
        "outputId": "50809c90-875b-4089-ff89-efd1e3464860"
      },
      "execution_count": 48,
      "outputs": [
        {
          "output_type": "execute_result",
          "data": {
            "text/plain": [
              "<matplotlib.axes._subplots.AxesSubplot at 0x7f723f421a10>"
            ]
          },
          "metadata": {},
          "execution_count": 48
        },
        {
          "output_type": "display_data",
          "data": {
            "text/plain": [
              "<Figure size 432x288 with 1 Axes>"
            ],
            "image/png": "[encoded data removed]"
          },
          "metadata": {
            "needs_background": "light"
          }
        }
      ]
    },
    {
      "cell_type": "markdown",
      "source": [
        "Limpio algunos outliers de superficie cubierta."
      ],
      "metadata": {
        "id": "StGYBXGl2FDN"
      }
    },
    {
      "cell_type": "code",
      "source": [
        "df.surface_covered.value_counts();"
      ],
      "metadata": {
        "id": "Y1Yi3Jx_2nEy"
      },
      "execution_count": 49,
      "outputs": []
    },
    {
      "cell_type": "code",
      "source": [
        "np.log(df.surface_covered).plot.hist()"
      ],
      "metadata": {
        "colab": {
          "base_uri": "https://localhost:8080/",
          "height": 284
        },
        "id": "_EDNaRQX17__",
        "outputId": "c582478f-5243-4121-8717-d3813274bc86"
      },
      "execution_count": 50,
      "outputs": [
        {
          "output_type": "execute_result",
          "data": {
            "text/plain": [
              "<matplotlib.axes._subplots.AxesSubplot at 0x7f723f3b2690>"
            ]
          },
          "metadata": {},
          "execution_count": 50
        },
        {
          "output_type": "display_data",
          "data": {
            "text/plain": [
              "<Figure size 432x288 with 1 Axes>"
            ],
            "image/png": "[encoded data removed]"
          },
          "metadata": {
            "needs_background": "light"
          }
        }
      ]
    },
    {
      "cell_type": "code",
      "source": [
        "df['logsupcov']=np.log(df.surface_covered)"
      ],
      "metadata": {
        "id": "zfSBqgCR33yK"
      },
      "execution_count": 51,
      "outputs": []
    },
    {
      "cell_type": "code",
      "source": [
        "df.shape"
      ],
      "metadata": {
        "colab": {
          "base_uri": "https://localhost:8080/"
        },
        "id": "LO5QQpDa3Jwh",
        "outputId": "26187687-f21b-4d97-9355-6773930b196b"
      },
      "execution_count": 52,
      "outputs": [
        {
          "output_type": "execute_result",
          "data": {
            "text/plain": [
              "(49480, 35)"
            ]
          },
          "metadata": {},
          "execution_count": 52
        }
      ]
    },
    {
      "cell_type": "code",
      "source": [
        "# df=df[df.surface_covered<df.surface_covered.quantile(.9999)]\n",
        "# df.surface_covered.plot.hist()\n",
        "\n",
        "# df.shape (405996, 24) de original (834056, 24)\n"
      ],
      "metadata": {
        "id": "xTYH2jLs1T4d"
      },
      "execution_count": 53,
      "outputs": []
    },
    {
      "cell_type": "code",
      "source": [
        "np.log(df.surface_total).plot.hist()"
      ],
      "metadata": {
        "colab": {
          "base_uri": "https://localhost:8080/",
          "height": 284
        },
        "id": "K4gsEmGy4DZ_",
        "outputId": "4c9f7af7-b9cf-4607-8fdb-ff48fa47af7d"
      },
      "execution_count": 54,
      "outputs": [
        {
          "output_type": "execute_result",
          "data": {
            "text/plain": [
              "<matplotlib.axes._subplots.AxesSubplot at 0x7f723f3098d0>"
            ]
          },
          "metadata": {},
          "execution_count": 54
        },
        {
          "output_type": "display_data",
          "data": {
            "text/plain": [
              "<Figure size 432x288 with 1 Axes>"
            ],
            "image/png": "[encoded data removed]"
          },
          "metadata": {
            "needs_background": "light"
          }
        }
      ]
    },
    {
      "cell_type": "code",
      "source": [
        "df.surface_total.plot.hist()"
      ],
      "metadata": {
        "colab": {
          "base_uri": "https://localhost:8080/",
          "height": 284
        },
        "id": "nWMc6Cf94RPr",
        "outputId": "56cfb7c4-66f7-4183-a668-009dd929d6b7"
      },
      "execution_count": 55,
      "outputs": [
        {
          "output_type": "execute_result",
          "data": {
            "text/plain": [
              "<matplotlib.axes._subplots.AxesSubplot at 0x7f723f239ed0>"
            ]
          },
          "metadata": {},
          "execution_count": 55
        },
        {
          "output_type": "display_data",
          "data": {
            "text/plain": [
              "<Figure size 432x288 with 1 Axes>"
            ],
            "image/png": "[encoded data removed]"
          },
          "metadata": {
            "needs_background": "light"
          }
        }
      ]
    },
    {
      "cell_type": "code",
      "source": [
        "df['logsuptot']=np.log(df.surface_total)"
      ],
      "metadata": {
        "id": "qWRozk8g4VTD"
      },
      "execution_count": 56,
      "outputs": []
    },
    {
      "cell_type": "code",
      "source": [
        "df.l2.unique()"
      ],
      "metadata": {
        "colab": {
          "base_uri": "https://localhost:8080/"
        },
        "id": "yJDIMNJZ9h13",
        "outputId": "094c901d-27bb-4221-bc31-26dcf0ba847d"
      },
      "execution_count": 57,
      "outputs": [
        {
          "output_type": "execute_result",
          "data": {
            "text/plain": [
              "array(['Capital Federal'], dtype=object)"
            ]
          },
          "metadata": {},
          "execution_count": 57
        }
      ]
    },
    {
      "cell_type": "code",
      "source": [
        "df.l1.unique()"
      ],
      "metadata": {
        "colab": {
          "base_uri": "https://localhost:8080/"
        },
        "id": "62DK8W8iU92t",
        "outputId": "eca4f6c1-cb6e-4de9-90bb-4cec1aee763d"
      },
      "execution_count": 58,
      "outputs": [
        {
          "output_type": "execute_result",
          "data": {
            "text/plain": [
              "array(['Argentina'], dtype=object)"
            ]
          },
          "metadata": {},
          "execution_count": 58
        }
      ]
    },
    {
      "cell_type": "code",
      "source": [
        "df.l3.value_counts()"
      ],
      "metadata": {
        "colab": {
          "base_uri": "https://localhost:8080/"
        },
        "id": "bd9XJ0oz9kwn",
        "outputId": "3db57595-5f75-4973-af42-9fd656b70424"
      },
      "execution_count": 59,
      "outputs": [
        {
          "output_type": "execute_result",
          "data": {
            "text/plain": [
              "Belgrano               8837\n",
              "Palermo                7552\n",
              "Recoleta               3354\n",
              "Caballito              3290\n",
              "Villa Urquiza          2725\n",
              "Almagro                1807\n",
              "Villa Crespo           1595\n",
              "Nuñez                  1518\n",
              "Flores                 1465\n",
              "Balvanera              1328\n",
              "Puerto Madero          1326\n",
              "Colegiales             1138\n",
              "Saavedra                917\n",
              "Villa Devoto            901\n",
              "Floresta                803\n",
              "Villa del Parque        789\n",
              "Retiro                  740\n",
              "Barracas                732\n",
              "San Cristobal           681\n",
              "San Telmo               629\n",
              "Boedo                   628\n",
              "San Nicolás             609\n",
              "Mataderos               536\n",
              "Liniers                 492\n",
              "Parque Chacabuco        438\n",
              "Coghlan                 430\n",
              "Monserrat               430\n",
              "Villa Luro              403\n",
              "Villa Lugano            354\n",
              "Parque Patricios        339\n",
              "Chacarita               306\n",
              "Villa Ortuzar           293\n",
              "Monte Castro            261\n",
              "Constitución            255\n",
              "Paternal                240\n",
              "Villa General Mitre     237\n",
              "Boca                    210\n",
              "Parque Avellaneda       207\n",
              "Villa Santa Rita        200\n",
              "Parque Chas             160\n",
              "Versalles               142\n",
              "Agronomía               108\n",
              "Villa Real               75\n",
              "Name: l3, dtype: int64"
            ]
          },
          "metadata": {},
          "execution_count": 59
        }
      ]
    },
    {
      "cell_type": "code",
      "source": [
        "df.property_type.unique()"
      ],
      "metadata": {
        "colab": {
          "base_uri": "https://localhost:8080/"
        },
        "id": "B8APtRu3-x6y",
        "outputId": "8da6073d-d029-497b-8818-c3117d4b9a24"
      },
      "execution_count": 60,
      "outputs": [
        {
          "output_type": "execute_result",
          "data": {
            "text/plain": [
              "array(['Departamento', 'Oficina', 'PH', 'Casa', 'Otro', 'Depósito',\n",
              "       'Lote', 'Local comercial', 'Cochera', 'Casa de campo'],\n",
              "      dtype=object)"
            ]
          },
          "metadata": {},
          "execution_count": 60
        }
      ]
    },
    {
      "cell_type": "code",
      "source": [
        "df[\"Nuevo\"] = df[\"description\"].str.lower().str.contains(\"excel\")"
      ],
      "metadata": {
        "id": "ot_gPA5BL85w"
      },
      "execution_count": 61,
      "outputs": []
    },
    {
      "cell_type": "code",
      "source": [
        "df[\"1am\"] = df[\"description\"].str.lower().str.contains(\"1 ambiente\")"
      ],
      "metadata": {
        "id": "pbQni_yjVmbX"
      },
      "execution_count": 62,
      "outputs": []
    },
    {
      "cell_type": "code",
      "source": [
        "df[\"2am\"] = df[\"description\"].str.lower().str.contains(\"2 ambiente\")"
      ],
      "metadata": {
        "id": "Atpf8NnUWdjW"
      },
      "execution_count": 63,
      "outputs": []
    },
    {
      "cell_type": "code",
      "source": [
        "df[\"3am\"] = df[\"description\"].str.lower().str.contains(\"3 ambiente\")"
      ],
      "metadata": {
        "id": "CXg1VwvQWfVW"
      },
      "execution_count": 64,
      "outputs": []
    },
    {
      "cell_type": "code",
      "source": [
        "df.Nuevo.value_counts()"
      ],
      "metadata": {
        "colab": {
          "base_uri": "https://localhost:8080/"
        },
        "id": "WKv-WqcgZM77",
        "outputId": "a78f5fab-ac2a-42ca-c239-16d739619476"
      },
      "execution_count": 65,
      "outputs": [
        {
          "output_type": "execute_result",
          "data": {
            "text/plain": [
              "False    24775\n",
              "True     24705\n",
              "Name: Nuevo, dtype: int64"
            ]
          },
          "metadata": {},
          "execution_count": 65
        }
      ]
    },
    {
      "cell_type": "code",
      "source": [
        "df['1am'].value_counts()"
      ],
      "metadata": {
        "colab": {
          "base_uri": "https://localhost:8080/"
        },
        "id": "K6bJIjL_Wjrs",
        "outputId": "1acba24e-af58-4e5e-cf5f-3a13a21c1d4f"
      },
      "execution_count": 66,
      "outputs": [
        {
          "output_type": "execute_result",
          "data": {
            "text/plain": [
              "False    48816\n",
              "True       664\n",
              "Name: 1am, dtype: int64"
            ]
          },
          "metadata": {},
          "execution_count": 66
        }
      ]
    },
    {
      "cell_type": "code",
      "source": [
        "df['2am'].value_counts()"
      ],
      "metadata": {
        "colab": {
          "base_uri": "https://localhost:8080/"
        },
        "id": "3lW_C_xEWrxS",
        "outputId": "1c19f357-6b99-4105-80d9-bbe7db3b4b03"
      },
      "execution_count": 67,
      "outputs": [
        {
          "output_type": "execute_result",
          "data": {
            "text/plain": [
              "False    38373\n",
              "True     11107\n",
              "Name: 2am, dtype: int64"
            ]
          },
          "metadata": {},
          "execution_count": 67
        }
      ]
    },
    {
      "cell_type": "code",
      "source": [
        "df['3am'].value_counts()"
      ],
      "metadata": {
        "colab": {
          "base_uri": "https://localhost:8080/"
        },
        "id": "vZDzg0U8WuKr",
        "outputId": "4c0628d4-ae01-484d-e8aa-80d29d4a64a3"
      },
      "execution_count": 68,
      "outputs": [
        {
          "output_type": "execute_result",
          "data": {
            "text/plain": [
              "False    38352\n",
              "True     11128\n",
              "Name: 3am, dtype: int64"
            ]
          },
          "metadata": {},
          "execution_count": 68
        }
      ]
    },
    {
      "cell_type": "markdown",
      "source": [
        "# Tratamiento de los datos"
      ],
      "metadata": {
        "id": "zjaTnfxkyvo8"
      }
    },
    {
      "cell_type": "code",
      "source": [
        "df.info()"
      ],
      "metadata": {
        "colab": {
          "base_uri": "https://localhost:8080/"
        },
        "id": "HS7UYzFNOvAr",
        "outputId": "f3ec8b4d-d7ba-4ace-95b4-8f11600e956f"
      },
      "execution_count": 69,
      "outputs": [
        {
          "output_type": "stream",
          "name": "stdout",
          "text": [
            "<class 'pandas.core.frame.DataFrame'>\n",
            "Index: 49480 entries, MZ5qRJ730rzfdiow7rT9Pg== to YlLn73RCQP4pM51jaWJtNg==\n",
            "Data columns (total 40 columns):\n",
            " #   Column           Non-Null Count  Dtype         \n",
            "---  ------           --------------  -----         \n",
            " 0   start_date       49480 non-null  datetime64[ns]\n",
            " 1   end_date         49480 non-null  datetime64[ns]\n",
            " 2   created_on       49480 non-null  datetime64[ns]\n",
            " 3   lat              49480 non-null  float64       \n",
            " 4   lon              49480 non-null  float64       \n",
            " 5   l1               49480 non-null  object        \n",
            " 6   l2               49480 non-null  object        \n",
            " 7   l3               49480 non-null  object        \n",
            " 8   l4               1899 non-null   object        \n",
            " 9   l5               0 non-null      float64       \n",
            " 10  rooms            46670 non-null  float64       \n",
            " 11  bedrooms         49480 non-null  float64       \n",
            " 12  bathrooms        48306 non-null  float64       \n",
            " 13  surface_total    30498 non-null  float64       \n",
            " 14  surface_covered  31514 non-null  float64       \n",
            " 15  price            49480 non-null  float64       \n",
            " 16  currency         49480 non-null  object        \n",
            " 17  title            49480 non-null  object        \n",
            " 18  description      49480 non-null  object        \n",
            " 19  property_type    49480 non-null  object        \n",
            " 20  operation_type   49480 non-null  object        \n",
            " 21  rot_45_x         49480 non-null  float64       \n",
            " 22  rot_45_y         49480 non-null  float64       \n",
            " 23  rot_30_x         49480 non-null  float64       \n",
            " 24  rot_30_y         49480 non-null  float64       \n",
            " 25  anio_s           49480 non-null  int64         \n",
            " 26  mes_s            49480 non-null  int64         \n",
            " 27  anio_e           49480 non-null  int64         \n",
            " 28  mes_e            49480 non-null  int64         \n",
            " 29  anio_c           49480 non-null  int64         \n",
            " 30  mes_c            49480 non-null  int64         \n",
            " 31  logr             46670 non-null  float64       \n",
            " 32  logbed           49480 non-null  float64       \n",
            " 33  logbath          48306 non-null  float64       \n",
            " 34  logsupcov        31514 non-null  float64       \n",
            " 35  logsuptot        30498 non-null  float64       \n",
            " 36  Nuevo            49480 non-null  bool          \n",
            " 37  1am              49480 non-null  bool          \n",
            " 38  2am              49480 non-null  bool          \n",
            " 39  3am              49480 non-null  bool          \n",
            "dtypes: bool(4), datetime64[ns](3), float64(18), int64(6), object(9)\n",
            "memory usage: 14.2+ MB\n"
          ]
        }
      ]
    },
    {
      "cell_type": "code",
      "source": [
        "df.columns"
      ],
      "metadata": {
        "colab": {
          "base_uri": "https://localhost:8080/"
        },
        "id": "h_0l_7JYFama",
        "outputId": "d9658ec6-c622-48ce-af99-8329aa3ec013"
      },
      "execution_count": 70,
      "outputs": [
        {
          "output_type": "execute_result",
          "data": {
            "text/plain": [
              "Index(['start_date', 'end_date', 'created_on', 'lat', 'lon', 'l1', 'l2', 'l3',\n",
              "       'l4', 'l5', 'rooms', 'bedrooms', 'bathrooms', 'surface_total',\n",
              "       'surface_covered', 'price', 'currency', 'title', 'description',\n",
              "       'property_type', 'operation_type', 'rot_45_x', 'rot_45_y', 'rot_30_x',\n",
              "       'rot_30_y', 'anio_s', 'mes_s', 'anio_e', 'mes_e', 'anio_c', 'mes_c',\n",
              "       'logr', 'logbed', 'logbath', 'logsupcov', 'logsuptot', 'Nuevo', '1am',\n",
              "       '2am', '3am'],\n",
              "      dtype='object')"
            ]
          },
          "metadata": {},
          "execution_count": 70
        }
      ]
    },
    {
      "cell_type": "markdown",
      "source": [
        "# Modelización"
      ],
      "metadata": {
        "id": "i2jRJmQ-tD4Z"
      }
    },
    {
      "cell_type": "code",
      "source": [
        "from sklearn.model_selection import train_test_split\n",
        "# Separate target from predictors\n",
        "numerical_cols=['rooms', 'bedrooms', 'bathrooms']\n",
        "numerical_cols2=['logsuptot', 'logsupcov']\n",
        "numerical_cols3=['rot_45_x', 'rot_45_y', 'rot_30_x','rot_30_y']\n",
        "categorical_cols=['l3','property_type',\"Nuevo\",'1am','2am','3am']\n",
        "my_cols = categorical_cols + numerical_cols + numerical_cols2 + numerical_cols3\n",
        "y = df.price\n",
        "X = df[my_cols]\n",
        "# X = df.drop(['price'], axis=1)\n",
        "\n",
        "# Divide data into training and validation subsets\n",
        "X_train_full, X_valid_full, y_train, y_valid = train_test_split(X, y, train_size=0.8, test_size=0.2,random_state=42)\n",
        "\n",
        "\n",
        "                                                                \n",
        "\n",
        "X_train = X_train_full[my_cols].copy()\n",
        "X_valid = X_valid_full[my_cols].copy()"
      ],
      "metadata": {
        "id": "iGQiXenAAGSX"
      },
      "execution_count": 71,
      "outputs": []
    },
    {
      "cell_type": "code",
      "source": [
        "def log_transform(x):\n",
        "    return np.log(x + 1)"
      ],
      "metadata": {
        "id": "_Fu2KNNg9MZX"
      },
      "execution_count": 72,
      "outputs": []
    },
    {
      "cell_type": "code",
      "source": [
        "from sklearn.compose import ColumnTransformer\n",
        "from sklearn.pipeline import Pipeline\n",
        "from sklearn.impute import SimpleImputer\n",
        "from sklearn.preprocessing import OneHotEncoder\n",
        "from sklearn.preprocessing import RobustScaler\n",
        "from sklearn.preprocessing import FunctionTransformer\n",
        "from sklearn.preprocessing import StandardScaler\n",
        "\n",
        "\n",
        "# Preprocessing for numerical data\n",
        "scaler = StandardScaler()\n",
        "scaler2 = RobustScaler()\n",
        "# Define a pipeline to search for the best combination of PCA truncation\n",
        "# and classifier regularization.\n",
        "\n",
        "\n",
        "\n",
        "transformer = FunctionTransformer(log_transform)\n",
        "numerical_transformer = Pipeline(steps=[('numimputer', SimpleImputer(strategy='mean')),\n",
        "                                        ('scaler', scaler)])\n",
        "# Preprocessing for numerical data 2\n",
        "numerical_transformer2 = Pipeline(steps=[('numimputer2', SimpleImputer(strategy='mean'))]\n",
        "                                        )\n",
        "\n",
        "# Preprocessing for categorical data\n",
        "categorical_transformer = Pipeline(steps=[\n",
        "    ('imputer', SimpleImputer(strategy='most_frequent')),\n",
        "    ('onehot', OneHotEncoder(handle_unknown='ignore')),\n",
        "])\n",
        "\n",
        "# Bundle preprocessing for numerical and categorical data\n",
        "preprocessor = ColumnTransformer(\n",
        "    transformers=[\n",
        "        ('num', numerical_transformer, numerical_cols),\n",
        "         ('num2', numerical_transformer2, numerical_cols2),\n",
        "        #  ('num3', numerical_transformer3, numerical_cols3),\n",
        "        ('cat', categorical_transformer, categorical_cols)\n",
        "    ])"
      ],
      "metadata": {
        "id": "fbVoAKtT-VEE"
      },
      "execution_count": 73,
      "outputs": []
    },
    {
      "cell_type": "code",
      "source": [
        "from sklearn.ensemble import RandomForestRegressor\n",
        "\n",
        "model = RandomForestRegressor(n_estimators=200,max_depth=10, random_state=42, n_jobs=-1)\n"
      ],
      "metadata": {
        "id": "Yd5xRFfJ_RG9"
      },
      "execution_count": 96,
      "outputs": []
    },
    {
      "cell_type": "code",
      "source": [
        ""
      ],
      "metadata": {
        "id": "QFBt1IB-nNfr"
      },
      "execution_count": 74,
      "outputs": []
    },
    {
      "cell_type": "code",
      "source": [
        "df.shape"
      ],
      "metadata": {
        "colab": {
          "base_uri": "https://localhost:8080/"
        },
        "id": "EABa6PVMYZHB",
        "outputId": "7a433931-0384-460b-936d-fc81fe3dff6c"
      },
      "execution_count": 92,
      "outputs": [
        {
          "output_type": "execute_result",
          "data": {
            "text/plain": [
              "(49480, 40)"
            ]
          },
          "metadata": {},
          "execution_count": 92
        }
      ]
    },
    {
      "cell_type": "code",
      "source": [
        "from sklearn.metrics import mean_absolute_error\n",
        "# Bundle preprocessing and modeling code in a pipeline\n",
        "my_pipeline = Pipeline(steps=[('preprocessor', preprocessor),\n",
        "                              ('model', model)\n",
        "                             ])\n",
        "\n",
        "# # Preprocessing of training data, fit model \n",
        "my_pipeline.fit(X_train, y_train)\n",
        "\n",
        "# # Preprocessing of validation data, get predictions\n",
        "preds = my_pipeline.predict(X_valid)\n",
        "\n",
        "# Evaluate the model\n",
        "score = sk.model_selection.cross_val_score(my_pipeline, X_train, y=y_train, cv=4, scoring='neg_root_mean_squared_error',error_score='raise')\n",
        "# score = mean_absolute_error(y_valid, preds)\n",
        "\n",
        "print('Score:', score)"
      ],
      "metadata": {
        "colab": {
          "base_uri": "https://localhost:8080/"
        },
        "id": "xp4hyegT9dVt",
        "outputId": "b0a02e14-c8f6-4d9e-bf8a-2ca88486d437"
      },
      "execution_count": 98,
      "outputs": [
        {
          "output_type": "stream",
          "name": "stdout",
          "text": [
            "Score: [-275007.10350834 -246775.95654654 -242799.09525019 -255417.24686534]\n"
          ]
        }
      ]
    },
    {
      "cell_type": "code",
      "source": [
        "score2 = mean_absolute_error(y_valid, preds)\n",
        "print('Score2:', score2)"
      ],
      "metadata": {
        "colab": {
          "base_uri": "https://localhost:8080/"
        },
        "id": "y_jGLsJ8Y_A9",
        "outputId": "f5a338f3-6fe1-418f-bf64-9388c2b54fed"
      },
      "execution_count": 99,
      "outputs": [
        {
          "output_type": "stream",
          "name": "stdout",
          "text": [
            "Score2: 83653.20779278832\n"
          ]
        }
      ]
    },
    {
      "cell_type": "code",
      "source": [
        "import math\n",
        "math.sqrt(score2)"
      ],
      "metadata": {
        "colab": {
          "base_uri": "https://localhost:8080/"
        },
        "id": "LT38e9SmJwnJ",
        "outputId": "d46cb5cd-f0a5-4641-bca7-e8b33c9bc0b2"
      },
      "execution_count": 100,
      "outputs": [
        {
          "output_type": "execute_result",
          "data": {
            "text/plain": [
              "289.22864275999416"
            ]
          },
          "metadata": {},
          "execution_count": 100
        }
      ]
    },
    {
      "cell_type": "code",
      "source": [
        "corr_matrix = df.corr()"
      ],
      "metadata": {
        "id": "ic3XRHtZoxFx"
      },
      "execution_count": 101,
      "outputs": []
    },
    {
      "cell_type": "code",
      "source": [
        "corr_matrix['price'].sort_values(ascending=False)"
      ],
      "metadata": {
        "colab": {
          "base_uri": "https://localhost:8080/"
        },
        "id": "jl_dEZG-o3t4",
        "outputId": "4990c9af-6715-44e6-e9e0-b9aec51d53ad"
      },
      "execution_count": 102,
      "outputs": [
        {
          "output_type": "execute_result",
          "data": {
            "text/plain": [
              "price              1.000000\n",
              "logsupcov          0.532198\n",
              "logsuptot          0.517566\n",
              "bathrooms          0.465890\n",
              "logbath            0.434976\n",
              "rooms              0.413429\n",
              "logr               0.388975\n",
              "logbed             0.372270\n",
              "bedrooms           0.327741\n",
              "rot_30_x           0.161915\n",
              "rot_45_y           0.150277\n",
              "rot_45_x           0.150277\n",
              "lat                0.129928\n",
              "rot_30_y           0.129698\n",
              "surface_total      0.127739\n",
              "surface_covered    0.109074\n",
              "lon                0.079723\n",
              "Nuevo              0.031699\n",
              "anio_e             0.013774\n",
              "mes_s             -0.005340\n",
              "mes_c             -0.005340\n",
              "mes_e             -0.011752\n",
              "1am               -0.039848\n",
              "3am               -0.077757\n",
              "2am               -0.172229\n",
              "l5                      NaN\n",
              "anio_s                  NaN\n",
              "anio_c                  NaN\n",
              "Name: price, dtype: float64"
            ]
          },
          "metadata": {},
          "execution_count": 102
        }
      ]
    },
    {
      "cell_type": "code",
      "source": [
        "# columnas_2=df.columns.drop('price')\n",
        "columnas_2=X.columns\n",
        "columnas_2\n",
        "diccionario = pd.DataFrame(list(zip(columnas_2,my_pipeline.steps[1][1].feature_importances_*100)), columns = ['features','importance (%)']);\n",
        "primeros = diccionario.nlargest(40,columns=['importance (%)']);\n",
        "\n",
        "plt.figure(figsize=(12,5))\n",
        "sns.barplot(x = \"features\", y = \"importance (%)\",data = primeros)\n",
        "plt.xticks(rotation = 90,fontsize = 10)\n",
        "plt.yticks(fontsize = 10)\n",
        "plt.title('Importancia de features', fontsize=20)\n",
        "plt.xlabel('features', fontsize=20)\n",
        "plt.ylabel('importance (%)', fontsize=20)\n",
        "plt.show()"
      ],
      "metadata": {
        "colab": {
          "base_uri": "https://localhost:8080/",
          "height": 423
        },
        "id": "FOs5QAZnHu3m",
        "outputId": "187ae952-9fe7-4a77-d130-ff8436872119"
      },
      "execution_count": 103,
      "outputs": [
        {
          "output_type": "display_data",
          "data": {
            "text/plain": [
              "<Figure size 864x360 with 1 Axes>"
            ],
            "image/png": "[encoded data removed]"
          },
          "metadata": {
            "needs_background": "light"
          }
        }
      ]
    },
    {
      "cell_type": "markdown",
      "source": [
        "## Predicción para Kaggle\n"
      ],
      "metadata": {
        "id": "sqVkTPzj3kV0"
      }
    },
    {
      "cell_type": "code",
      "source": [
        "df_pred = pd.read_csv('/content/drive/MyDrive/a_predecir.csv', index_col=\"id\")\n",
        "df_pred.fillna(0, inplace=True)"
      ],
      "metadata": {
        "id": "01697gx81F5Z"
      },
      "execution_count": 104,
      "outputs": []
    },
    {
      "cell_type": "code",
      "source": [
        "\n",
        "df_pred['rot_45_x'] = (0.707 * df_pred['lat']) + (0.707 * df_pred['lon'])\n",
        "df_pred['rot_45_y'] = (0.707 * df_pred['lon']) + (0.707 * df_pred['lat'])\n",
        "df_pred['rot_30_x'] = (0.866 * df_pred['lat']) + (0.5 * df_pred['lon'])\n",
        "df_pred['rot_30_y'] = (0.866 * df_pred['lon']) + (0.5 * df_pred['lat'])\n",
        "\n",
        "\n",
        "\n",
        "df_pred['start_date']=pd.to_datetime(df_pred['start_date'])\n",
        "df_pred['anio_s']=pd.DatetimeIndex(df_pred['start_date']).year\n",
        "df_pred['mes_s']=pd.DatetimeIndex(df_pred['start_date']).month\n",
        "df_pred['end_date']=pd.to_datetime(df_pred['end_date'])\n",
        "df_pred['anio_e']=pd.DatetimeIndex(df_pred['end_date']).year\n",
        "df_pred['mes_e']=pd.DatetimeIndex(df_pred['end_date']).month\n",
        "df_pred['created_on']=pd.to_datetime(df_pred['created_on'])\n",
        "df_pred['anio_c']=pd.DatetimeIndex(df_pred['created_on']).year\n",
        "df_pred['mes_c']=pd.DatetimeIndex(df_pred['created_on']).month\n",
        "\n",
        "\n",
        "\n",
        "df_pred['logr']=np.log(df_pred.rooms)\n",
        "df_pred['logbed']=np.log(df_pred.bedrooms)\n",
        "df_pred['logbath']=np.log(df_pred.bathrooms)\n",
        "df_pred['logsupcov']=np.log(df_pred.surface_covered)\n",
        "df_pred['logsuptot']=np.log(df_pred.surface_total)\n",
        "\n",
        "\n",
        "df_pred[\"Nuevo\"] = df_pred[\"description\"].str.contains(\"Excel\")\n",
        "df_pred[\"1am\"] = df_pred[\"description\"].str.lower().str.contains(\"1 ambiente\")\n",
        "df_pred[\"2am\"] = df_pred[\"description\"].str.lower().str.contains(\"2 ambiente\")\n",
        "df_pred[\"3am\"] = df_pred[\"description\"].str.lower().str.contains(\"3 ambiente\")"
      ],
      "metadata": {
        "colab": {
          "base_uri": "https://localhost:8080/"
        },
        "id": "Kfgbq-2y27z4",
        "outputId": "3dd7f216-7325-4d0d-fe38-6b149629bc2b"
      },
      "execution_count": 105,
      "outputs": [
        {
          "output_type": "stream",
          "name": "stderr",
          "text": [
            "/usr/local/lib/python3.7/dist-packages/pandas/core/arraylike.py:364: RuntimeWarning: divide by zero encountered in log\n",
            "  result = getattr(ufunc, method)(*inputs, **kwargs)\n"
          ]
        }
      ]
    },
    {
      "cell_type": "code",
      "source": [
        "df_pred.l3.unique()"
      ],
      "metadata": {
        "colab": {
          "base_uri": "https://localhost:8080/"
        },
        "id": "IKtV8uOvfq_I",
        "outputId": "1ae316c7-452b-4c15-9bbc-df43232127c2"
      },
      "execution_count": 106,
      "outputs": [
        {
          "output_type": "execute_result",
          "data": {
            "text/plain": [
              "array(['Balvanera', 'Villa Urquiza', 'Palermo', 'Belgrano', 'Floresta',\n",
              "       'Villa Pueyrredon', 'Saavedra', 'Villa Devoto', 'San Nicolás',\n",
              "       'Chacarita', 'Villa Crespo', 'Boedo', 'Flores', 'Paternal', 'Boca',\n",
              "       'Recoleta', 'Caballito', 'Nuñez', 'Constitución', 'Colegiales',\n",
              "       'San Telmo', 'Monserrat', 'Puerto Madero', 'Villa del Parque',\n",
              "       'Almagro', 'Villa Ortuzar', 'Villa Lugano', 'San Cristobal',\n",
              "       'Barracas', 'Liniers', '2 Ambientes', 'Mataderos',\n",
              "       'Villa Santa Rita', 'Parque Patricios', 'Parque Chas',\n",
              "       'Villa General Mitre', 'Retiro', 'Parque Avellaneda',\n",
              "       'Monte Castro', 'Parque Chacabuco', 'Villa Luro', 'Versalles',\n",
              "       'Coghlan', 'Vélez Sarsfield', 'Nueva Pompeya', 'Agronomía',\n",
              "       'Villa Real', 'GBA Norte'], dtype=object)"
            ]
          },
          "metadata": {},
          "execution_count": 106
        }
      ]
    },
    {
      "cell_type": "code",
      "source": [
        "# quedate con las mismas columnas que ar_properties\n",
        "X_pred = df_pred[X.columns]"
      ],
      "metadata": {
        "id": "xzAwUNRA1Fzb"
      },
      "execution_count": 107,
      "outputs": []
    },
    {
      "cell_type": "code",
      "source": [
        "from sklearn import set_config\n",
        "set_config(display='diagram')\n",
        "my_pipeline"
      ],
      "metadata": {
        "colab": {
          "base_uri": "https://localhost:8080/",
          "height": 227
        },
        "id": "pFLjRlW36JXE",
        "outputId": "2a038072-2add-4c4e-91a7-e6984694e862"
      },
      "execution_count": 108,
      "outputs": [
        {
          "output_type": "execute_result",
          "data": {
            "text/plain": [
              "Pipeline(steps=[('preprocessor',\n",
              "                 ColumnTransformer(transformers=[('num',\n",
              "                                                  Pipeline(steps=[('numimputer',\n",
              "                                                                   SimpleImputer()),\n",
              "                                                                  ('scaler',\n",
              "                                                                   StandardScaler())]),\n",
              "                                                  ['rooms', 'bedrooms',\n",
              "                                                   'bathrooms']),\n",
              "                                                 ('num2',\n",
              "                                                  Pipeline(steps=[('numimputer2',\n",
              "                                                                   SimpleImputer())]),\n",
              "                                                  ['logsuptot', 'logsupcov']),\n",
              "                                                 ('cat',\n",
              "                                                  Pipeline(steps=[('imputer',\n",
              "                                                                   SimpleImputer(strategy='most_frequent')),\n",
              "                                                                  ('onehot',\n",
              "                                                                   OneHotEncoder(handle_unknown='ignore'))]),\n",
              "                                                  ['l3', 'property_type',\n",
              "                                                   'Nuevo', '1am', '2am',\n",
              "                                                   '3am'])])),\n",
              "                ('model',\n",
              "                 RandomForestRegressor(max_depth=10, n_estimators=200,\n",
              "                                       n_jobs=-1, random_state=42))])"
            ],
            "text/html": [
              "<style>#sk-f9118439-eac3-49f8-b0e9-838196790a62 {color: black;background-color: white;}#sk-f9118439-eac3-49f8-b0e9-838196790a62 pre{padding: 0;}#sk-f9118439-eac3-49f8-b0e9-838196790a62 div.sk-toggleable {background-color: white;}#sk-f9118439-eac3-49f8-b0e9-838196790a62 label.sk-toggleable__label {cursor: pointer;display: block;width: 100%;margin-bottom: 0;padding: 0.3em;box-sizing: border-box;text-align: center;}#sk-f9118439-eac3-49f8-b0e9-838196790a62 label.sk-toggleable__label-arrow:before {content: \"▸\";float: left;margin-right: 0.25em;color: #696969;}#sk-f9118439-eac3-49f8-b0e9-838196790a62 label.sk-toggleable__label-arrow:hover:before {color: black;}#sk-f9118439-eac3-49f8-b0e9-838196790a62 div.sk-estimator:hover label.sk-toggleable__label-arrow:before {color: black;}#sk-f9118439-eac3-49f8-b0e9-838196790a62 div.sk-toggleable__content {max-height: 0;max-width: 0;overflow: hidden;text-align: left;background-color: #f0f8ff;}#sk-f9118439-eac3-49f8-b0e9-838196790a62 div.sk-toggleable__content pre {margin: 0.2em;color: black;border-radius: 0.25em;background-color: #f0f8ff;}#sk-f9118439-eac3-49f8-b0e9-838196790a62 input.sk-toggleable__control:checked~div.sk-toggleable__content {max-height: 200px;max-width: 100%;overflow: auto;}#sk-f9118439-eac3-49f8-b0e9-838196790a62 input.sk-toggleable__control:checked~label.sk-toggleable__label-arrow:before {content: \"▾\";}#sk-f9118439-eac3-49f8-b0e9-838196790a62 div.sk-estimator input.sk-toggleable__control:checked~label.sk-toggleable__label {background-color: #d4ebff;}#sk-f9118439-eac3-49f8-b0e9-838196790a62 div.sk-label input.sk-toggleable__control:checked~label.sk-toggleable__label {background-color: #d4ebff;}#sk-f9118439-eac3-49f8-b0e9-838196790a62 input.sk-hidden--visually {border: 0;clip: rect(1px 1px 1px 1px);clip: rect(1px, 1px, 1px, 1px);height: 1px;margin: -1px;overflow: hidden;padding: 0;position: absolute;width: 1px;}#sk-f9118439-eac3-49f8-b0e9-838196790a62 div.sk-estimator {font-family: monospace;background-color: #f0f8ff;border: 1px dotted black;border-radius: 0.25em;box-sizing: border-box;margin-bottom: 0.5em;}#sk-f9118439-eac3-49f8-b0e9-838196790a62 div.sk-estimator:hover {background-color: #d4ebff;}#sk-f9118439-eac3-49f8-b0e9-838196790a62 div.sk-parallel-item::after {content: \"\";width: 100%;border-bottom: 1px solid gray;flex-grow: 1;}#sk-f9118439-eac3-49f8-b0e9-838196790a62 div.sk-label:hover label.sk-toggleable__label {background-color: #d4ebff;}#sk-f9118439-eac3-49f8-b0e9-838196790a62 div.sk-serial::before {content: \"\";position: absolute;border-left: 1px solid gray;box-sizing: border-box;top: 2em;bottom: 0;left: 50%;}#sk-f9118439-eac3-49f8-b0e9-838196790a62 div.sk-serial {display: flex;flex-direction: column;align-items: center;background-color: white;padding-right: 0.2em;padding-left: 0.2em;}#sk-f9118439-eac3-49f8-b0e9-838196790a62 div.sk-item {z-index: 1;}#sk-f9118439-eac3-49f8-b0e9-838196790a62 div.sk-parallel {display: flex;align-items: stretch;justify-content: center;background-color: white;}#sk-f9118439-eac3-49f8-b0e9-838196790a62 div.sk-parallel::before {content: \"\";position: absolute;border-left: 1px solid gray;box-sizing: border-box;top: 2em;bottom: 0;left: 50%;}#sk-f9118439-eac3-49f8-b0e9-838196790a62 div.sk-parallel-item {display: flex;flex-direction: column;position: relative;background-color: white;}#sk-f9118439-eac3-49f8-b0e9-838196790a62 div.sk-parallel-item:first-child::after {align-self: flex-end;width: 50%;}#sk-f9118439-eac3-49f8-b0e9-838196790a62 div.sk-parallel-item:last-child::after {align-self: flex-start;width: 50%;}#sk-f9118439-eac3-49f8-b0e9-838196790a62 div.sk-parallel-item:only-child::after {width: 0;}#sk-f9118439-eac3-49f8-b0e9-838196790a62 div.sk-dashed-wrapped {border: 1px dashed gray;margin: 0 0.4em 0.5em 0.4em;box-sizing: border-box;padding-bottom: 0.4em;background-color: white;position: relative;}#sk-f9118439-eac3-49f8-b0e9-838196790a62 div.sk-label label {font-family: monospace;font-weight: bold;background-color: white;display: inline-block;line-height: 1.2em;}#sk-f9118439-eac3-49f8-b0e9-838196790a62 div.sk-label-container {position: relative;z-index: 2;text-align: center;}#sk-f9118439-eac3-49f8-b0e9-838196790a62 div.sk-container {/* jupyter's `normalize.less` sets `[hidden] { display: none; }` but bootstrap.min.css set `[hidden] { display: none !important; }` so we also need the `!important` here to be able to override the default hidden behavior on the sphinx rendered scikit-learn.org. See: https://github.com/scikit-learn/scikit-learn/issues/21755 */display: inline-block !important;position: relative;}#sk-f9118439-eac3-49f8-b0e9-838196790a62 div.sk-text-repr-fallback {display: none;}</style><div id=\"sk-f9118439-eac3-49f8-b0e9-838196790a62\" class=\"sk-top-container\"><div class=\"sk-text-repr-fallback\"><pre>Pipeline(steps=[(&#x27;preprocessor&#x27;,\n",
              "                 ColumnTransformer(transformers=[(&#x27;num&#x27;,\n",
              "                                                  Pipeline(steps=[(&#x27;numimputer&#x27;,\n",
              "                                                                   SimpleImputer()),\n",
              "                                                                  (&#x27;scaler&#x27;,\n",
              "                                                                   StandardScaler())]),\n",
              "                                                  [&#x27;rooms&#x27;, &#x27;bedrooms&#x27;,\n",
              "                                                   &#x27;bathrooms&#x27;]),\n",
              "                                                 (&#x27;num2&#x27;,\n",
              "                                                  Pipeline(steps=[(&#x27;numimputer2&#x27;,\n",
              "                                                                   SimpleImputer())]),\n",
              "                                                  [&#x27;logsuptot&#x27;, &#x27;logsupcov&#x27;]),\n",
              "                                                 (&#x27;cat&#x27;,\n",
              "                                                  Pipeline(steps=[(&#x27;imputer&#x27;,\n",
              "                                                                   SimpleImputer(strategy=&#x27;most_frequent&#x27;)),\n",
              "                                                                  (&#x27;onehot&#x27;,\n",
              "                                                                   OneHotEncoder(handle_unknown=&#x27;ignore&#x27;))]),\n",
              "                                                  [&#x27;l3&#x27;, &#x27;property_type&#x27;,\n",
              "                                                   &#x27;Nuevo&#x27;, &#x27;1am&#x27;, &#x27;2am&#x27;,\n",
              "                                                   &#x27;3am&#x27;])])),\n",
              "                (&#x27;model&#x27;,\n",
              "                 RandomForestRegressor(max_depth=10, n_estimators=200,\n",
              "                                       n_jobs=-1, random_state=42))])</pre><b>Please rerun this cell to show the HTML repr or trust the notebook.</b></div><div class=\"sk-container\" hidden><div class=\"sk-item sk-dashed-wrapped\"><div class=\"sk-label-container\"><div class=\"sk-label sk-toggleable\"><input class=\"sk-toggleable__control sk-hidden--visually\" id=\"7c1fc738-40c9-4d98-b749-5b442112ce7c\" type=\"checkbox\" ><label for=\"7c1fc738-40c9-4d98-b749-5b442112ce7c\" class=\"sk-toggleable__label sk-toggleable__label-arrow\">Pipeline</label><div class=\"sk-toggleable__content\"><pre>Pipeline(steps=[(&#x27;preprocessor&#x27;,\n",
              "                 ColumnTransformer(transformers=[(&#x27;num&#x27;,\n",
              "                                                  Pipeline(steps=[(&#x27;numimputer&#x27;,\n",
              "                                                                   SimpleImputer()),\n",
              "                                                                  (&#x27;scaler&#x27;,\n",
              "                                                                   StandardScaler())]),\n",
              "                                                  [&#x27;rooms&#x27;, &#x27;bedrooms&#x27;,\n",
              "                                                   &#x27;bathrooms&#x27;]),\n",
              "                                                 (&#x27;num2&#x27;,\n",
              "                                                  Pipeline(steps=[(&#x27;numimputer2&#x27;,\n",
              "                                                                   SimpleImputer())]),\n",
              "                                                  [&#x27;logsuptot&#x27;, &#x27;logsupcov&#x27;]),\n",
              "                                                 (&#x27;cat&#x27;,\n",
              "                                                  Pipeline(steps=[(&#x27;imputer&#x27;,\n",
              "                                                                   SimpleImputer(strategy=&#x27;most_frequent&#x27;)),\n",
              "                                                                  (&#x27;onehot&#x27;,\n",
              "                                                                   OneHotEncoder(handle_unknown=&#x27;ignore&#x27;))]),\n",
              "                                                  [&#x27;l3&#x27;, &#x27;property_type&#x27;,\n",
              "                                                   &#x27;Nuevo&#x27;, &#x27;1am&#x27;, &#x27;2am&#x27;,\n",
              "                                                   &#x27;3am&#x27;])])),\n",
              "                (&#x27;model&#x27;,\n",
              "                 RandomForestRegressor(max_depth=10, n_estimators=200,\n",
              "                                       n_jobs=-1, random_state=42))])</pre></div></div></div><div class=\"sk-serial\"><div class=\"sk-item sk-dashed-wrapped\"><div class=\"sk-label-container\"><div class=\"sk-label sk-toggleable\"><input class=\"sk-toggleable__control sk-hidden--visually\" id=\"f3db69a3-aceb-4f92-99c3-deae15a89f65\" type=\"checkbox\" ><label for=\"f3db69a3-aceb-4f92-99c3-deae15a89f65\" class=\"sk-toggleable__label sk-toggleable__label-arrow\">preprocessor: ColumnTransformer</label><div class=\"sk-toggleable__content\"><pre>ColumnTransformer(transformers=[(&#x27;num&#x27;,\n",
              "                                 Pipeline(steps=[(&#x27;numimputer&#x27;,\n",
              "                                                  SimpleImputer()),\n",
              "                                                 (&#x27;scaler&#x27;, StandardScaler())]),\n",
              "                                 [&#x27;rooms&#x27;, &#x27;bedrooms&#x27;, &#x27;bathrooms&#x27;]),\n",
              "                                (&#x27;num2&#x27;,\n",
              "                                 Pipeline(steps=[(&#x27;numimputer2&#x27;,\n",
              "                                                  SimpleImputer())]),\n",
              "                                 [&#x27;logsuptot&#x27;, &#x27;logsupcov&#x27;]),\n",
              "                                (&#x27;cat&#x27;,\n",
              "                                 Pipeline(steps=[(&#x27;imputer&#x27;,\n",
              "                                                  SimpleImputer(strategy=&#x27;most_frequent&#x27;)),\n",
              "                                                 (&#x27;onehot&#x27;,\n",
              "                                                  OneHotEncoder(handle_unknown=&#x27;ignore&#x27;))]),\n",
              "                                 [&#x27;l3&#x27;, &#x27;property_type&#x27;, &#x27;Nuevo&#x27;, &#x27;1am&#x27;, &#x27;2am&#x27;,\n",
              "                                  &#x27;3am&#x27;])])</pre></div></div></div><div class=\"sk-parallel\"><div class=\"sk-parallel-item\"><div class=\"sk-item\"><div class=\"sk-label-container\"><div class=\"sk-label sk-toggleable\"><input class=\"sk-toggleable__control sk-hidden--visually\" id=\"8bb2a9f7-6a84-4463-a32e-6513ce03b7d8\" type=\"checkbox\" ><label for=\"8bb2a9f7-6a84-4463-a32e-6513ce03b7d8\" class=\"sk-toggleable__label sk-toggleable__label-arrow\">num</label><div class=\"sk-toggleable__content\"><pre>[&#x27;rooms&#x27;, &#x27;bedrooms&#x27;, &#x27;bathrooms&#x27;]</pre></div></div></div><div class=\"sk-serial\"><div class=\"sk-item\"><div class=\"sk-serial\"><div class=\"sk-item\"><div class=\"sk-estimator sk-toggleable\"><input class=\"sk-toggleable__control sk-hidden--visually\" id=\"d63abd47-90ae-473d-9f1c-a9cba5fca6d5\" type=\"checkbox\" ><label for=\"d63abd47-90ae-473d-9f1c-a9cba5fca6d5\" class=\"sk-toggleable__label sk-toggleable__label-arrow\">SimpleImputer</label><div class=\"sk-toggleable__content\"><pre>SimpleImputer()</pre></div></div></div><div class=\"sk-item\"><div class=\"sk-estimator sk-toggleable\"><input class=\"sk-toggleable__control sk-hidden--visually\" id=\"f10e3fb8-10b6-4de0-b841-f1509e6eeb73\" type=\"checkbox\" ><label for=\"f10e3fb8-10b6-4de0-b841-f1509e6eeb73\" class=\"sk-toggleable__label sk-toggleable__label-arrow\">StandardScaler</label><div class=\"sk-toggleable__content\"><pre>StandardScaler()</pre></div></div></div></div></div></div></div></div><div class=\"sk-parallel-item\"><div class=\"sk-item\"><div class=\"sk-label-container\"><div class=\"sk-label sk-toggleable\"><input class=\"sk-toggleable__control sk-hidden--visually\" id=\"b9361886-58a5-48c5-8b23-81eb03445d57\" type=\"checkbox\" ><label for=\"b9361886-58a5-48c5-8b23-81eb03445d57\" class=\"sk-toggleable__label sk-toggleable__label-arrow\">num2</label><div class=\"sk-toggleable__content\"><pre>[&#x27;logsuptot&#x27;, &#x27;logsupcov&#x27;]</pre></div></div></div><div class=\"sk-serial\"><div class=\"sk-item\"><div class=\"sk-serial\"><div class=\"sk-item\"><div class=\"sk-estimator sk-toggleable\"><input class=\"sk-toggleable__control sk-hidden--visually\" id=\"ef381678-f7dc-4d7f-b34c-45222ee403bf\" type=\"checkbox\" ><label for=\"ef381678-f7dc-4d7f-b34c-45222ee403bf\" class=\"sk-toggleable__label sk-toggleable__label-arrow\">SimpleImputer</label><div class=\"sk-toggleable__content\"><pre>SimpleImputer()</pre></div></div></div></div></div></div></div></div><div class=\"sk-parallel-item\"><div class=\"sk-item\"><div class=\"sk-label-container\"><div class=\"sk-label sk-toggleable\"><input class=\"sk-toggleable__control sk-hidden--visually\" id=\"24c19660-d321-47bf-a165-be60c903a020\" type=\"checkbox\" ><label for=\"24c19660-d321-47bf-a165-be60c903a020\" class=\"sk-toggleable__label sk-toggleable__label-arrow\">cat</label><div class=\"sk-toggleable__content\"><pre>[&#x27;l3&#x27;, &#x27;property_type&#x27;, &#x27;Nuevo&#x27;, &#x27;1am&#x27;, &#x27;2am&#x27;, &#x27;3am&#x27;]</pre></div></div></div><div class=\"sk-serial\"><div class=\"sk-item\"><div class=\"sk-serial\"><div class=\"sk-item\"><div class=\"sk-estimator sk-toggleable\"><input class=\"sk-toggleable__control sk-hidden--visually\" id=\"76aab7b5-d989-47b9-9d4c-3b31c7fa055d\" type=\"checkbox\" ><label for=\"76aab7b5-d989-47b9-9d4c-3b31c7fa055d\" class=\"sk-toggleable__label sk-toggleable__label-arrow\">SimpleImputer</label><div class=\"sk-toggleable__content\"><pre>SimpleImputer(strategy=&#x27;most_frequent&#x27;)</pre></div></div></div><div class=\"sk-item\"><div class=\"sk-estimator sk-toggleable\"><input class=\"sk-toggleable__control sk-hidden--visually\" id=\"e170ac60-cd31-4a07-a5a4-a5d74bcc60e6\" type=\"checkbox\" ><label for=\"e170ac60-cd31-4a07-a5a4-a5d74bcc60e6\" class=\"sk-toggleable__label sk-toggleable__label-arrow\">OneHotEncoder</label><div class=\"sk-toggleable__content\"><pre>OneHotEncoder(handle_unknown=&#x27;ignore&#x27;)</pre></div></div></div></div></div></div></div></div></div></div><div class=\"sk-item\"><div class=\"sk-estimator sk-toggleable\"><input class=\"sk-toggleable__control sk-hidden--visually\" id=\"f090a171-412d-4b6d-b568-0740dadfe821\" type=\"checkbox\" ><label for=\"f090a171-412d-4b6d-b568-0740dadfe821\" class=\"sk-toggleable__label sk-toggleable__label-arrow\">RandomForestRegressor</label><div class=\"sk-toggleable__content\"><pre>RandomForestRegressor(max_depth=10, n_estimators=200, n_jobs=-1,\n",
              "                      random_state=42)</pre></div></div></div></div></div></div></div>"
            ]
          },
          "metadata": {},
          "execution_count": 108
        }
      ]
    },
    {
      "cell_type": "code",
      "source": [
        "# los mejores hiperparámetros encontrados antes\n",
        "n_estimators = 200\n",
        "max_depth = 10\n",
        "\n",
        "# entrenamiento\n",
        "# reg = sk.ensemble.RandomForestRegressor(n_estimators=n_estimators, max_depth=max_depth, random_state=42, n_jobs=-1)\n",
        "my_pipeline.fit(X, y)\n",
        "\n",
        "# predicción\n",
        "df_pred[\"price\"] = my_pipeline.predict(X_pred)"
      ],
      "metadata": {
        "id": "81dOh5WvAPMa"
      },
      "execution_count": 109,
      "outputs": []
    },
    {
      "cell_type": "code",
      "source": [
        "# grabo la solución\n",
        "df_pred[[\"price\"]].to_csv(\"solucion.csv\")"
      ],
      "metadata": {
        "id": "mU9iV6cuBwKB"
      },
      "execution_count": 110,
      "outputs": []
    },
    {
      "cell_type": "code",
      "source": [
        ""
      ],
      "metadata": {
        "id": "vhI-JzV_igWE"
      },
      "execution_count": null,
      "outputs": []
    }
  ]
}