{
  "nbformat": 4,
  "nbformat_minor": 0,
  "metadata": {
    "colab": {
      "name": "Federico Krell TP individual Casas.ipynb",
      "provenance": [],
      "collapsed_sections": []
    },
    "kernelspec": {
      "name": "python3",
      "display_name": "Python 3"
    },
    "language_info": {
      "name": "python"
    }
  },
  "cells": [
    {
      "cell_type": "code",
      "source": [
        "# # https://www.properati.com.ar/data\n",
        "# ! wget -O ar_properties.csv.gz -q https://storage.googleapis.com/properati-data-public/ar_properties.csv.gz\n",
        "# ! gzip -d -f /content/ar_properties.csv.gz"
      ],
      "metadata": {
        "id": "A7BBykw5oQNl"
      },
      "execution_count": 1,
      "outputs": []
    },
    {
      "cell_type": "code",
      "execution_count": 2,
      "metadata": {
        "id": "jw8ogMDOpvKP"
      },
      "outputs": [],
      "source": [
        "import pandas as pd\n",
        "import numpy as np\n",
        "\n",
        "import sklearn as sk\n",
        "from sklearn import model_selection\n",
        "from sklearn import ensemble\n",
        "from sklearn import metrics\n",
        "\n",
        "import matplotlib.pyplot as plt\n",
        "import seaborn as sns"
      ]
    },
    {
      "cell_type": "markdown",
      "source": [
        "# Lectura de datos"
      ],
      "metadata": {
        "id": "20D-m6GPyefp"
      }
    },
    {
      "cell_type": "code",
      "source": [
        "from google.colab import drive\n",
        "drive.mount('/content/drive')"
      ],
      "metadata": {
        "colab": {
          "base_uri": "https://localhost:8080/"
        },
        "id": "elViU3DvxNlv",
        "outputId": "c7f1660c-9f8a-471d-d06f-9a85d5f40c22"
      },
      "execution_count": 3,
      "outputs": [
        {
          "output_type": "stream",
          "name": "stdout",
          "text": [
            "Drive already mounted at /content/drive; to attempt to forcibly remount, call drive.mount(\"/content/drive\", force_remount=True).\n"
          ]
        }
      ]
    },
    {
      "cell_type": "code",
      "source": [
        "# ! gzip -d -f /content/drive/MyDrive/ar_properties.csv.gz"
      ],
      "metadata": {
        "id": "2dbybcxDyeDO"
      },
      "execution_count": 4,
      "outputs": []
    },
    {
      "cell_type": "code",
      "source": [
        "df = pd.read_csv('/content/drive/MyDrive/ar_properties.csv', index_col=\"id\")  "
      ],
      "metadata": {
        "id": "CtV0wOGsqJLC"
      },
      "execution_count": 5,
      "outputs": []
    },
    {
      "cell_type": "code",
      "source": [
        "df.head()"
      ],
      "metadata": {
        "id": "thKYxfNuulgB",
        "colab": {
          "base_uri": "https://localhost:8080/",
          "height": 607
        },
        "outputId": "2e410747-c6fa-49d1-e604-39aad92c3ad1"
      },
      "execution_count": 6,
      "outputs": [
        {
          "output_type": "execute_result",
          "data": {
            "text/plain": [
              "                            ad_type  start_date    end_date  created_on  \\\n",
              "id                                                                        \n",
              "DyVXfkpKygVBKuUk5olH+A==  Propiedad  2020-08-22  2020-09-03  2020-08-22   \n",
              "9naojilaMecJN4jlQiTkGg==  Propiedad  2020-08-22  2020-09-04  2020-08-22   \n",
              "tlCPRJPjoDEUzuuCelemAQ==  Propiedad  2020-08-22  2020-08-31  2020-08-22   \n",
              "Zw3b91glQUO3HNrM5fPYlQ==  Propiedad  2020-08-22  2020-09-04  2020-08-22   \n",
              "bsU81gm9JEgtZCbTYgvykg==  Propiedad  2020-08-22  2020-09-04  2020-08-22   \n",
              "\n",
              "                                lat        lon         l1  \\\n",
              "id                                                          \n",
              "DyVXfkpKygVBKuUk5olH+A== -34.407468 -58.957367  Argentina   \n",
              "9naojilaMecJN4jlQiTkGg== -37.996039 -57.542509  Argentina   \n",
              "tlCPRJPjoDEUzuuCelemAQ== -31.380187 -58.009182  Argentina   \n",
              "Zw3b91glQUO3HNrM5fPYlQ== -27.494106 -55.123455  Argentina   \n",
              "bsU81gm9JEgtZCbTYgvykg== -32.948856 -60.630464  Argentina   \n",
              "\n",
              "                                                    l2             l3   l4  \\\n",
              "id                                                                           \n",
              "DyVXfkpKygVBKuUk5olH+A==      Bs.As. G.B.A. Zona Norte          Pilar  NaN   \n",
              "9naojilaMecJN4jlQiTkGg==  Buenos Aires Costa Atlántica  Mar del Plata  NaN   \n",
              "tlCPRJPjoDEUzuuCelemAQ==                    Entre Ríos      Concordia  NaN   \n",
              "Zw3b91glQUO3HNrM5fPYlQ==                      Misiones          Oberá  NaN   \n",
              "bsU81gm9JEgtZCbTYgvykg==                      Santa Fe        Rosario  NaN   \n",
              "\n",
              "                          ... bathrooms  surface_total  surface_covered  \\\n",
              "id                        ...                                             \n",
              "DyVXfkpKygVBKuUk5olH+A==  ...       NaN       133139.0              NaN   \n",
              "9naojilaMecJN4jlQiTkGg==  ...       NaN          687.0            687.0   \n",
              "tlCPRJPjoDEUzuuCelemAQ==  ...       1.0           80.0             80.0   \n",
              "Zw3b91glQUO3HNrM5fPYlQ==  ...       1.0            NaN              NaN   \n",
              "bsU81gm9JEgtZCbTYgvykg==  ...       1.0           76.0             66.0   \n",
              "\n",
              "                          price  currency  price_period  \\\n",
              "id                                                        \n",
              "DyVXfkpKygVBKuUk5olH+A==    NaN       NaN       Mensual   \n",
              "9naojilaMecJN4jlQiTkGg==    NaN       NaN       Mensual   \n",
              "tlCPRJPjoDEUzuuCelemAQ==    NaN       NaN       Mensual   \n",
              "Zw3b91glQUO3HNrM5fPYlQ==    NaN       NaN       Mensual   \n",
              "bsU81gm9JEgtZCbTYgvykg==    NaN       NaN       Mensual   \n",
              "\n",
              "                                                                      title  \\\n",
              "id                                                                            \n",
              "DyVXfkpKygVBKuUk5olH+A==  VENTA - Lote Industrial 130.000m2 - Parque Ind...   \n",
              "9naojilaMecJN4jlQiTkGg==                               Casa - Santa Cecilia   \n",
              "tlCPRJPjoDEUzuuCelemAQ==                                   Casa - Concordia   \n",
              "Zw3b91glQUO3HNrM5fPYlQ==                                    Terreno - Obera   \n",
              "bsU81gm9JEgtZCbTYgvykg==                             Departamento - Rosario   \n",
              "\n",
              "                                                                description  \\\n",
              "id                                                                            \n",
              "DyVXfkpKygVBKuUk5olH+A==  Lote (Nro.50) mide 133.139 m2\\n<br>Valor: U$S ...   \n",
              "9naojilaMecJN4jlQiTkGg==  Conjunto edilicio de casa y departamentos en b...   \n",
              "tlCPRJPjoDEUzuuCelemAQ==  Casa de un dormitorio, cocina, baño, living co...   \n",
              "Zw3b91glQUO3HNrM5fPYlQ==  IMPORTANTE PROPIEDAD EN VENTA EN OBERA MISIONE...   \n",
              "bsU81gm9JEgtZCbTYgvykg==  PORTAL DE LOS MARINOS<br>Es un complejo de viv...   \n",
              "\n",
              "                         property_type operation_type  \n",
              "id                                                     \n",
              "DyVXfkpKygVBKuUk5olH+A==          Lote          Venta  \n",
              "9naojilaMecJN4jlQiTkGg==          Otro          Venta  \n",
              "tlCPRJPjoDEUzuuCelemAQ==          Casa       Alquiler  \n",
              "Zw3b91glQUO3HNrM5fPYlQ==          Lote          Venta  \n",
              "bsU81gm9JEgtZCbTYgvykg==  Departamento          Venta  \n",
              "\n",
              "[5 rows x 24 columns]"
            ],
            "text/html": [
              "\n",
              "  <div id=\"df-fea7a8be-6739-43b3-afc7-a0fb08382abb\">\n",
              "    <div class=\"colab-df-container\">\n",
              "      <div>\n",
              "<style scoped>\n",
              "    .dataframe tbody tr th:only-of-type {\n",
              "        vertical-align: middle;\n",
              "    }\n",
              "\n",
              "    .dataframe tbody tr th {\n",
              "        vertical-align: top;\n",
              "    }\n",
              "\n",
              "    .dataframe thead th {\n",
              "        text-align: right;\n",
              "    }\n",
              "</style>\n",
              "<table border=\"1\" class=\"dataframe\">\n",
              "  <thead>\n",
              "    <tr style=\"text-align: right;\">\n",
              "      <th></th>\n",
              "      <th>ad_type</th>\n",
              "      <th>start_date</th>\n",
              "      <th>end_date</th>\n",
              "      <th>created_on</th>\n",
              "      <th>lat</th>\n",
              "      <th>lon</th>\n",
              "      <th>l1</th>\n",
              "      <th>l2</th>\n",
              "      <th>l3</th>\n",
              "      <th>l4</th>\n",
              "      <th>...</th>\n",
              "      <th>bathrooms</th>\n",
              "      <th>surface_total</th>\n",
              "      <th>surface_covered</th>\n",
              "      <th>price</th>\n",
              "      <th>currency</th>\n",
              "      <th>price_period</th>\n",
              "      <th>title</th>\n",
              "      <th>description</th>\n",
              "      <th>property_type</th>\n",
              "      <th>operation_type</th>\n",
              "    </tr>\n",
              "    <tr>\n",
              "      <th>id</th>\n",
              "      <th></th>\n",
              "      <th></th>\n",
              "      <th></th>\n",
              "      <th></th>\n",
              "      <th></th>\n",
              "      <th></th>\n",
              "      <th></th>\n",
              "      <th></th>\n",
              "      <th></th>\n",
              "      <th></th>\n",
              "      <th></th>\n",
              "      <th></th>\n",
              "      <th></th>\n",
              "      <th></th>\n",
              "      <th></th>\n",
              "      <th></th>\n",
              "      <th></th>\n",
              "      <th></th>\n",
              "      <th></th>\n",
              "      <th></th>\n",
              "      <th></th>\n",
              "    </tr>\n",
              "  </thead>\n",
              "  <tbody>\n",
              "    <tr>\n",
              "      <th>DyVXfkpKygVBKuUk5olH+A==</th>\n",
              "      <td>Propiedad</td>\n",
              "      <td>2020-08-22</td>\n",
              "      <td>2020-09-03</td>\n",
              "      <td>2020-08-22</td>\n",
              "      <td>-34.407468</td>\n",
              "      <td>-58.957367</td>\n",
              "      <td>Argentina</td>\n",
              "      <td>Bs.As. G.B.A. Zona Norte</td>\n",
              "      <td>Pilar</td>\n",
              "      <td>NaN</td>\n",
              "      <td>...</td>\n",
              "      <td>NaN</td>\n",
              "      <td>133139.0</td>\n",
              "      <td>NaN</td>\n",
              "      <td>NaN</td>\n",
              "      <td>NaN</td>\n",
              "      <td>Mensual</td>\n",
              "      <td>VENTA - Lote Industrial 130.000m2 - Parque Ind...</td>\n",
              "      <td>Lote (Nro.50) mide 133.139 m2\\n&lt;br&gt;Valor: U$S ...</td>\n",
              "      <td>Lote</td>\n",
              "      <td>Venta</td>\n",
              "    </tr>\n",
              "    <tr>\n",
              "      <th>9naojilaMecJN4jlQiTkGg==</th>\n",
              "      <td>Propiedad</td>\n",
              "      <td>2020-08-22</td>\n",
              "      <td>2020-09-04</td>\n",
              "      <td>2020-08-22</td>\n",
              "      <td>-37.996039</td>\n",
              "      <td>-57.542509</td>\n",
              "      <td>Argentina</td>\n",
              "      <td>Buenos Aires Costa Atlántica</td>\n",
              "      <td>Mar del Plata</td>\n",
              "      <td>NaN</td>\n",
              "      <td>...</td>\n",
              "      <td>NaN</td>\n",
              "      <td>687.0</td>\n",
              "      <td>687.0</td>\n",
              "      <td>NaN</td>\n",
              "      <td>NaN</td>\n",
              "      <td>Mensual</td>\n",
              "      <td>Casa - Santa Cecilia</td>\n",
              "      <td>Conjunto edilicio de casa y departamentos en b...</td>\n",
              "      <td>Otro</td>\n",
              "      <td>Venta</td>\n",
              "    </tr>\n",
              "    <tr>\n",
              "      <th>tlCPRJPjoDEUzuuCelemAQ==</th>\n",
              "      <td>Propiedad</td>\n",
              "      <td>2020-08-22</td>\n",
              "      <td>2020-08-31</td>\n",
              "      <td>2020-08-22</td>\n",
              "      <td>-31.380187</td>\n",
              "      <td>-58.009182</td>\n",
              "      <td>Argentina</td>\n",
              "      <td>Entre Ríos</td>\n",
              "      <td>Concordia</td>\n",
              "      <td>NaN</td>\n",
              "      <td>...</td>\n",
              "      <td>1.0</td>\n",
              "      <td>80.0</td>\n",
              "      <td>80.0</td>\n",
              "      <td>NaN</td>\n",
              "      <td>NaN</td>\n",
              "      <td>Mensual</td>\n",
              "      <td>Casa - Concordia</td>\n",
              "      <td>Casa de un dormitorio, cocina, baño, living co...</td>\n",
              "      <td>Casa</td>\n",
              "      <td>Alquiler</td>\n",
              "    </tr>\n",
              "    <tr>\n",
              "      <th>Zw3b91glQUO3HNrM5fPYlQ==</th>\n",
              "      <td>Propiedad</td>\n",
              "      <td>2020-08-22</td>\n",
              "      <td>2020-09-04</td>\n",
              "      <td>2020-08-22</td>\n",
              "      <td>-27.494106</td>\n",
              "      <td>-55.123455</td>\n",
              "      <td>Argentina</td>\n",
              "      <td>Misiones</td>\n",
              "      <td>Oberá</td>\n",
              "      <td>NaN</td>\n",
              "      <td>...</td>\n",
              "      <td>1.0</td>\n",
              "      <td>NaN</td>\n",
              "      <td>NaN</td>\n",
              "      <td>NaN</td>\n",
              "      <td>NaN</td>\n",
              "      <td>Mensual</td>\n",
              "      <td>Terreno - Obera</td>\n",
              "      <td>IMPORTANTE PROPIEDAD EN VENTA EN OBERA MISIONE...</td>\n",
              "      <td>Lote</td>\n",
              "      <td>Venta</td>\n",
              "    </tr>\n",
              "    <tr>\n",
              "      <th>bsU81gm9JEgtZCbTYgvykg==</th>\n",
              "      <td>Propiedad</td>\n",
              "      <td>2020-08-22</td>\n",
              "      <td>2020-09-04</td>\n",
              "      <td>2020-08-22</td>\n",
              "      <td>-32.948856</td>\n",
              "      <td>-60.630464</td>\n",
              "      <td>Argentina</td>\n",
              "      <td>Santa Fe</td>\n",
              "      <td>Rosario</td>\n",
              "      <td>NaN</td>\n",
              "      <td>...</td>\n",
              "      <td>1.0</td>\n",
              "      <td>76.0</td>\n",
              "      <td>66.0</td>\n",
              "      <td>NaN</td>\n",
              "      <td>NaN</td>\n",
              "      <td>Mensual</td>\n",
              "      <td>Departamento - Rosario</td>\n",
              "      <td>PORTAL DE LOS MARINOS&lt;br&gt;Es un complejo de viv...</td>\n",
              "      <td>Departamento</td>\n",
              "      <td>Venta</td>\n",
              "    </tr>\n",
              "  </tbody>\n",
              "</table>\n",
              "<p>5 rows × 24 columns</p>\n",
              "</div>\n",
              "      <button class=\"colab-df-convert\" onclick=\"convertToInteractive('df-fea7a8be-6739-43b3-afc7-a0fb08382abb')\"\n",
              "              title=\"Convert this dataframe to an interactive table.\"\n",
              "              style=\"display:none;\">\n",
              "        \n",
              "  <svg xmlns=\"http://www.w3.org/2000/svg\" height=\"24px\"viewBox=\"0 0 24 24\"\n",
              "       width=\"24px\">\n",
              "    <path d=\"M0 0h24v24H0V0z\" fill=\"none\"/>\n",
              "    <path d=\"M18.56 5.44l.94 2.06.94-2.06 2.06-.94-2.06-.94-.94-2.06-.94 2.06-2.06.94zm-11 1L8.5 8.5l.94-2.06 2.06-.94-2.06-.94L8.5 2.5l-.94 2.06-2.06.94zm10 10l.94 2.06.94-2.06 2.06-.94-2.06-.94-.94-2.06-.94 2.06-2.06.94z\"/><path d=\"M17.41 7.96l-1.37-1.37c-.4-.4-.92-.59-1.43-.59-.52 0-1.04.2-1.43.59L10.3 9.45l-7.72 7.72c-.78.78-.78 2.05 0 2.83L4 21.41c.39.39.9.59 1.41.59.51 0 1.02-.2 1.41-.59l7.78-7.78 2.81-2.81c.8-.78.8-2.07 0-2.86zM5.41 20L4 18.59l7.72-7.72 1.47 1.35L5.41 20z\"/>\n",
              "  </svg>\n",
              "      </button>\n",
              "      \n",
              "  <style>\n",
              "    .colab-df-container {\n",
              "      display:flex;\n",
              "      flex-wrap:wrap;\n",
              "      gap: 12px;\n",
              "    }\n",
              "\n",
              "    .colab-df-convert {\n",
              "      background-color: #E8F0FE;\n",
              "      border: none;\n",
              "      border-radius: 50%;\n",
              "      cursor: pointer;\n",
              "      display: none;\n",
              "      fill: #1967D2;\n",
              "      height: 32px;\n",
              "      padding: 0 0 0 0;\n",
              "      width: 32px;\n",
              "    }\n",
              "\n",
              "    .colab-df-convert:hover {\n",
              "      background-color: #E2EBFA;\n",
              "      box-shadow: 0px 1px 2px rgba(60, 64, 67, 0.3), 0px 1px 3px 1px rgba(60, 64, 67, 0.15);\n",
              "      fill: #174EA6;\n",
              "    }\n",
              "\n",
              "    [theme=dark] .colab-df-convert {\n",
              "      background-color: #3B4455;\n",
              "      fill: #D2E3FC;\n",
              "    }\n",
              "\n",
              "    [theme=dark] .colab-df-convert:hover {\n",
              "      background-color: #434B5C;\n",
              "      box-shadow: 0px 1px 3px 1px rgba(0, 0, 0, 0.15);\n",
              "      filter: drop-shadow(0px 1px 2px rgba(0, 0, 0, 0.3));\n",
              "      fill: #FFFFFF;\n",
              "    }\n",
              "  </style>\n",
              "\n",
              "      <script>\n",
              "        const buttonEl =\n",
              "          document.querySelector('#df-fea7a8be-6739-43b3-afc7-a0fb08382abb button.colab-df-convert');\n",
              "        buttonEl.style.display =\n",
              "          google.colab.kernel.accessAllowed ? 'block' : 'none';\n",
              "\n",
              "        async function convertToInteractive(key) {\n",
              "          const element = document.querySelector('#df-fea7a8be-6739-43b3-afc7-a0fb08382abb');\n",
              "          const dataTable =\n",
              "            await google.colab.kernel.invokeFunction('convertToInteractive',\n",
              "                                                     [key], {});\n",
              "          if (!dataTable) return;\n",
              "\n",
              "          const docLinkHtml = 'Like what you see? Visit the ' +\n",
              "            '<a target=\"_blank\" href=https://colab.research.google.com/notebooks/data_table.ipynb>data table notebook</a>'\n",
              "            + ' to learn more about interactive tables.';\n",
              "          element.innerHTML = '';\n",
              "          dataTable['output_type'] = 'display_data';\n",
              "          await google.colab.output.renderOutput(dataTable, element);\n",
              "          const docLink = document.createElement('div');\n",
              "          docLink.innerHTML = docLinkHtml;\n",
              "          element.appendChild(docLink);\n",
              "        }\n",
              "      </script>\n",
              "    </div>\n",
              "  </div>\n",
              "  "
            ]
          },
          "metadata": {},
          "execution_count": 6
        }
      ]
    },
    {
      "cell_type": "markdown",
      "source": [
        "<h1> Análisis del conjunto de datos\n",
        " <h2> Parte 1 PreProcesamiento."
      ],
      "metadata": {
        "id": "byV0dQi-yiEd"
      }
    },
    {
      "cell_type": "code",
      "source": [
        "df.shape"
      ],
      "metadata": {
        "colab": {
          "base_uri": "https://localhost:8080/"
        },
        "id": "fTHBTiNw05Nb",
        "outputId": "dbbec4b5-8072-46be-eb2c-36466cbf003c"
      },
      "execution_count": 7,
      "outputs": [
        {
          "output_type": "execute_result",
          "data": {
            "text/plain": [
              "(1000000, 24)"
            ]
          },
          "metadata": {},
          "execution_count": 7
        }
      ]
    },
    {
      "cell_type": "code",
      "source": [
        "df.columns"
      ],
      "metadata": {
        "colab": {
          "base_uri": "https://localhost:8080/"
        },
        "id": "ixu1VZip07v1",
        "outputId": "4e3eb809-3e85-4667-d436-38727eb04fef"
      },
      "execution_count": 8,
      "outputs": [
        {
          "output_type": "execute_result",
          "data": {
            "text/plain": [
              "Index(['ad_type', 'start_date', 'end_date', 'created_on', 'lat', 'lon', 'l1',\n",
              "       'l2', 'l3', 'l4', 'l5', 'l6', 'rooms', 'bedrooms', 'bathrooms',\n",
              "       'surface_total', 'surface_covered', 'price', 'currency', 'price_period',\n",
              "       'title', 'description', 'property_type', 'operation_type'],\n",
              "      dtype='object')"
            ]
          },
          "metadata": {},
          "execution_count": 8
        }
      ]
    },
    {
      "cell_type": "code",
      "source": [
        "df.info()"
      ],
      "metadata": {
        "colab": {
          "base_uri": "https://localhost:8080/"
        },
        "id": "WWYGz7Qn1aPK",
        "outputId": "106457ef-4384-4288-c209-d49e5dc53976"
      },
      "execution_count": 9,
      "outputs": [
        {
          "output_type": "stream",
          "name": "stdout",
          "text": [
            "<class 'pandas.core.frame.DataFrame'>\n",
            "Index: 1000000 entries, DyVXfkpKygVBKuUk5olH+A== to rEynGyGrrsxNeG0ib5vUBA==\n",
            "Data columns (total 24 columns):\n",
            " #   Column           Non-Null Count    Dtype  \n",
            "---  ------           --------------    -----  \n",
            " 0   ad_type          1000000 non-null  object \n",
            " 1   start_date       1000000 non-null  object \n",
            " 2   end_date         1000000 non-null  object \n",
            " 3   created_on       1000000 non-null  object \n",
            " 4   lat              894233 non-null   float64\n",
            " 5   lon              894191 non-null   float64\n",
            " 6   l1               1000000 non-null  object \n",
            " 7   l2               1000000 non-null  object \n",
            " 8   l3               965273 non-null   object \n",
            " 9   l4               306162 non-null   object \n",
            " 10  l5               5530 non-null     object \n",
            " 11  l6               0 non-null        float64\n",
            " 12  rooms            714179 non-null   float64\n",
            " 13  bedrooms         649933 non-null   float64\n",
            " 14  bathrooms        765122 non-null   float64\n",
            " 15  surface_total    477831 non-null   float64\n",
            " 16  surface_covered  487756 non-null   float64\n",
            " 17  price            958243 non-null   float64\n",
            " 18  currency         955491 non-null   object \n",
            " 19  price_period     429870 non-null   object \n",
            " 20  title            999999 non-null   object \n",
            " 21  description      999958 non-null   object \n",
            " 22  property_type    1000000 non-null  object \n",
            " 23  operation_type   1000000 non-null  object \n",
            "dtypes: float64(9), object(15)\n",
            "memory usage: 190.7+ MB\n"
          ]
        }
      ]
    },
    {
      "cell_type": "markdown",
      "source": [
        "Primeras concluciones:\n",
        "\n",
        "---\n",
        "\n",
        "\n",
        " \n",
        "\n",
        "*   l6 no tiene informacion, se dropea.\n",
        "*   hay un 10% del database sin lat y long puede evaluarse tirar las filas sin esa info.\n",
        "*   **Mas importante hay una parte del databse sin precio, eso se tira seguro.**\n",
        "\n",
        "---\n",
        "A nivel operativo las fechas hay que pasarlas a formato de fecha. <br />\n",
        "\n",
        "\n",
        "\n",
        "\n",
        "\n",
        "\n",
        "\n"
      ],
      "metadata": {
        "id": "0rq9YDs21uTp"
      }
    },
    {
      "cell_type": "markdown",
      "source": [
        "En mis datos a predecir solo hay USD asique para evitar problemas de cambio de unidades voy a eleminar las que no son en USD."
      ],
      "metadata": {
        "id": "xB40jqGL5IE-"
      }
    },
    {
      "cell_type": "code",
      "source": [
        "df.currency.value_counts()"
      ],
      "metadata": {
        "colab": {
          "base_uri": "https://localhost:8080/"
        },
        "id": "aXduj-Bo4aES",
        "outputId": "2c430475-75d5-4b45-c9e7-b6f0b8c596cc"
      },
      "execution_count": 10,
      "outputs": [
        {
          "output_type": "execute_result",
          "data": {
            "text/plain": [
              "USD    738157\n",
              "ARS    214254\n",
              "UYU      2785\n",
              "PEN       292\n",
              "COP         3\n",
              "Name: currency, dtype: int64"
            ]
          },
          "metadata": {},
          "execution_count": 10
        }
      ]
    },
    {
      "cell_type": "code",
      "source": [
        "df=df[df.currency=='USD']"
      ],
      "metadata": {
        "id": "Dh5nzv8n5h0j"
      },
      "execution_count": 11,
      "outputs": []
    },
    {
      "cell_type": "code",
      "source": [
        "df.currency.value_counts()"
      ],
      "metadata": {
        "colab": {
          "base_uri": "https://localhost:8080/"
        },
        "id": "VacXaPUj5yPn",
        "outputId": "ae5a9311-0a76-4daf-802e-3380fa278f9f"
      },
      "execution_count": 12,
      "outputs": [
        {
          "output_type": "execute_result",
          "data": {
            "text/plain": [
              "USD    738157\n",
              "Name: currency, dtype: int64"
            ]
          },
          "metadata": {},
          "execution_count": 12
        }
      ]
    },
    {
      "cell_type": "code",
      "source": [
        "df=df.drop('l6', axis=1)"
      ],
      "metadata": {
        "id": "jFewIffK4_44"
      },
      "execution_count": 13,
      "outputs": []
    },
    {
      "cell_type": "code",
      "source": [
        "df['price_period'].value_counts()"
      ],
      "metadata": {
        "colab": {
          "base_uri": "https://localhost:8080/"
        },
        "id": "cv9c8hLlAaxE",
        "outputId": "e4d64705-f592-4861-dd9c-3ab5d5cdb8dc"
      },
      "execution_count": 14,
      "outputs": [
        {
          "output_type": "execute_result",
          "data": {
            "text/plain": [
              "Mensual    299535\n",
              "Semanal        12\n",
              "Diario          1\n",
              "Name: price_period, dtype: int64"
            ]
          },
          "metadata": {},
          "execution_count": 14
        }
      ]
    },
    {
      "cell_type": "code",
      "source": [
        "df.ad_type.value_counts()"
      ],
      "metadata": {
        "colab": {
          "base_uri": "https://localhost:8080/"
        },
        "id": "9kQSCmzNFiWI",
        "outputId": "1d87d583-4a0a-48e7-fd27-32f01fe30003"
      },
      "execution_count": 15,
      "outputs": [
        {
          "output_type": "execute_result",
          "data": {
            "text/plain": [
              "Propiedad    738157\n",
              "Name: ad_type, dtype: int64"
            ]
          },
          "metadata": {},
          "execution_count": 15
        }
      ]
    },
    {
      "cell_type": "markdown",
      "source": [
        "Puedo tirar tambien el price period y ad type."
      ],
      "metadata": {
        "id": "_DFrgcCaBPBh"
      }
    },
    {
      "cell_type": "code",
      "source": [
        "df.dropna(subset=['price','lat','lon','l3'], inplace=True)"
      ],
      "metadata": {
        "id": "qZ7NDIA-8M0h"
      },
      "execution_count": 16,
      "outputs": []
    },
    {
      "cell_type": "code",
      "source": [
        "df=df.drop('price_period', axis=1)"
      ],
      "metadata": {
        "id": "LZcda2h3BODI"
      },
      "execution_count": 17,
      "outputs": []
    },
    {
      "cell_type": "code",
      "source": [
        "df=df.drop('ad_type', axis=1)"
      ],
      "metadata": {
        "id": "deFxgd_6GJO-"
      },
      "execution_count": 18,
      "outputs": []
    },
    {
      "cell_type": "code",
      "source": [
        "df['end_date'].replace('9999-12-31','1999-12-31', inplace=True)"
      ],
      "metadata": {
        "id": "V1EQS4mCE4j_"
      },
      "execution_count": 19,
      "outputs": []
    },
    {
      "cell_type": "code",
      "source": [
        "df.shape"
      ],
      "metadata": {
        "colab": {
          "base_uri": "https://localhost:8080/"
        },
        "id": "7sTGyLEDGy97",
        "outputId": "72b35216-d5ba-409c-a18f-aef4f818d6f7"
      },
      "execution_count": 20,
      "outputs": [
        {
          "output_type": "execute_result",
          "data": {
            "text/plain": [
              "(639800, 21)"
            ]
          },
          "metadata": {},
          "execution_count": 20
        }
      ]
    },
    {
      "cell_type": "markdown",
      "source": [
        "<h1>Interludio para df_pred"
      ],
      "metadata": {
        "id": "ltUZ3fNIDaSZ"
      }
    },
    {
      "cell_type": "markdown",
      "source": [
        "<h1> Análisis del conjunto de datos\n",
        " <h2> Parte 2 Analisis de datos y creación de features.\n",
        " Aca empiezo a hacer cambios en los datos, podria ya sumar lo que voy a predecir asi los concateno y despues los separo."
      ],
      "metadata": {
        "id": "2_5rvGcqFt_Y"
      }
    },
    {
      "cell_type": "code",
      "source": [
        "df['start_date']=pd.to_datetime(df['start_date'])\n",
        "df['end_date']=pd.to_datetime(df['end_date'])\n",
        "df['created_on']=pd.to_datetime(df['created_on'])"
      ],
      "metadata": {
        "id": "8-TXcJQJB4Ka"
      },
      "execution_count": 21,
      "outputs": []
    },
    {
      "cell_type": "code",
      "source": [
        "# np.log(df.rooms).plot.hist()"
      ],
      "metadata": {
        "id": "5vdqb06tGNrt"
      },
      "execution_count": 22,
      "outputs": []
    },
    {
      "cell_type": "code",
      "source": [
        "df['logr']=np.log(df.rooms)"
      ],
      "metadata": {
        "id": "p4NHoogpKggT"
      },
      "execution_count": 23,
      "outputs": []
    },
    {
      "cell_type": "code",
      "source": [
        "df.bedrooms.value_counts()"
      ],
      "metadata": {
        "colab": {
          "base_uri": "https://localhost:8080/"
        },
        "id": "2hytbjhuGqzp",
        "outputId": "ab01fa49-0d93-4710-fd97-c35916fd716e"
      },
      "execution_count": 24,
      "outputs": [
        {
          "output_type": "execute_result",
          "data": {
            "text/plain": [
              " 2.0     126875\n",
              " 1.0     123349\n",
              " 3.0     100346\n",
              " 4.0      40650\n",
              " 0.0      25611\n",
              "          ...  \n",
              " 35.0         1\n",
              " 85.0         1\n",
              " 82.0         1\n",
              " 38.0         1\n",
              "-16.0         1\n",
              "Name: bedrooms, Length: 66, dtype: int64"
            ]
          },
          "metadata": {},
          "execution_count": 24
        }
      ]
    },
    {
      "cell_type": "code",
      "source": [
        "# df.bedrooms = np.where(df.bedrooms < 1, 0.1, df.bedrooms)\n",
        "df=df[df.bedrooms>0]"
      ],
      "metadata": {
        "id": "rW8di_wYHLmC"
      },
      "execution_count": 25,
      "outputs": []
    },
    {
      "cell_type": "code",
      "source": [
        "np.log(df.bedrooms).plot.hist()"
      ],
      "metadata": {
        "colab": {
          "base_uri": "https://localhost:8080/",
          "height": 283
        },
        "id": "_KnqzsoiJXyM",
        "outputId": "56ad5b60-7f28-4757-9413-b102ee134f25"
      },
      "execution_count": 26,
      "outputs": [
        {
          "output_type": "execute_result",
          "data": {
            "text/plain": [
              "<matplotlib.axes._subplots.AxesSubplot at 0x7eff1ae1ed50>"
            ]
          },
          "metadata": {},
          "execution_count": 26
        },
        {
          "output_type": "display_data",
          "data": {
            "text/plain": [
              "<Figure size 432x288 with 1 Axes>"
            ],
            "image/png": "[encoded data removed]"
          },
          "metadata": {
            "needs_background": "light"
          }
        }
      ]
    },
    {
      "cell_type": "code",
      "source": [
        "df['logbed']=np.log(df.bedrooms)"
      ],
      "metadata": {
        "id": "ky2GlQpHKmUt"
      },
      "execution_count": 27,
      "outputs": []
    },
    {
      "cell_type": "code",
      "source": [
        "# np.log(df.bathrooms).plot.hist()"
      ],
      "metadata": {
        "id": "LePdKBVhKqSU"
      },
      "execution_count": 28,
      "outputs": []
    },
    {
      "cell_type": "code",
      "source": [
        "df.bedrooms.plot.hist()"
      ],
      "metadata": {
        "colab": {
          "base_uri": "https://localhost:8080/",
          "height": 283
        },
        "id": "PSN7rZSQKxSj",
        "outputId": "bc550689-3386-45e6-fa09-564a904a1716"
      },
      "execution_count": 29,
      "outputs": [
        {
          "output_type": "execute_result",
          "data": {
            "text/plain": [
              "<matplotlib.axes._subplots.AxesSubplot at 0x7eff1ad8ce50>"
            ]
          },
          "metadata": {},
          "execution_count": 29
        },
        {
          "output_type": "display_data",
          "data": {
            "text/plain": [
              "<Figure size 432x288 with 1 Axes>"
            ],
            "image/png": "[encoded data removed]"
          },
          "metadata": {
            "needs_background": "light"
          }
        }
      ]
    },
    {
      "cell_type": "code",
      "source": [
        "df['logbath']=np.log(df.bathrooms)"
      ],
      "metadata": {
        "id": "cqGuL_rnK0z3"
      },
      "execution_count": 30,
      "outputs": []
    },
    {
      "cell_type": "code",
      "source": [
        "df.shape"
      ],
      "metadata": {
        "colab": {
          "base_uri": "https://localhost:8080/"
        },
        "id": "8FSJqF_32Wcn",
        "outputId": "18b9f70d-097d-40f1-919b-d8e2be54fc26"
      },
      "execution_count": 31,
      "outputs": [
        {
          "output_type": "execute_result",
          "data": {
            "text/plain": [
              "(408317, 24)"
            ]
          },
          "metadata": {},
          "execution_count": 31
        }
      ]
    },
    {
      "cell_type": "code",
      "source": [
        "df.surface_covered.max()"
      ],
      "metadata": {
        "colab": {
          "base_uri": "https://localhost:8080/"
        },
        "id": "mF_tAmYjK7uK",
        "outputId": "aabfb59a-a92f-4e91-a88d-15b27445cf5a"
      },
      "execution_count": 32,
      "outputs": [
        {
          "output_type": "execute_result",
          "data": {
            "text/plain": [
              "11111111.0"
            ]
          },
          "metadata": {},
          "execution_count": 32
        }
      ]
    },
    {
      "cell_type": "code",
      "source": [
        "df.surface_covered[df.surface_covered.between(df.surface_covered.quantile(.0), df.surface_covered.quantile(.85))].plot.hist()"
      ],
      "metadata": {
        "colab": {
          "base_uri": "https://localhost:8080/",
          "height": 283
        },
        "id": "monkLgNvMw_Y",
        "outputId": "12855d87-dc2d-4eba-9a20-b0971c2d4ffc"
      },
      "execution_count": 33,
      "outputs": [
        {
          "output_type": "execute_result",
          "data": {
            "text/plain": [
              "<matplotlib.axes._subplots.AxesSubplot at 0x7eff2c9e3750>"
            ]
          },
          "metadata": {},
          "execution_count": 33
        },
        {
          "output_type": "display_data",
          "data": {
            "text/plain": [
              "<Figure size 432x288 with 1 Axes>"
            ],
            "image/png": "[encoded data removed]"
          },
          "metadata": {
            "needs_background": "light"
          }
        }
      ]
    },
    {
      "cell_type": "markdown",
      "source": [
        "Limpio algunos outliers de superficie cubierta."
      ],
      "metadata": {
        "id": "StGYBXGl2FDN"
      }
    },
    {
      "cell_type": "code",
      "source": [
        "df.surface_covered.value_counts();"
      ],
      "metadata": {
        "id": "Y1Yi3Jx_2nEy"
      },
      "execution_count": 34,
      "outputs": []
    },
    {
      "cell_type": "code",
      "source": [
        "np.log(df.surface_covered).plot.hist()"
      ],
      "metadata": {
        "colab": {
          "base_uri": "https://localhost:8080/",
          "height": 320
        },
        "id": "_EDNaRQX17__",
        "outputId": "6b9b9ac4-7c50-4a15-a45c-9bdfff64a189"
      },
      "execution_count": 35,
      "outputs": [
        {
          "output_type": "stream",
          "name": "stderr",
          "text": [
            "/usr/local/lib/python3.7/dist-packages/pandas/core/arraylike.py:364: RuntimeWarning: invalid value encountered in log\n",
            "  result = getattr(ufunc, method)(*inputs, **kwargs)\n"
          ]
        },
        {
          "output_type": "execute_result",
          "data": {
            "text/plain": [
              "<matplotlib.axes._subplots.AxesSubplot at 0x7eff1a7d94d0>"
            ]
          },
          "metadata": {},
          "execution_count": 35
        },
        {
          "output_type": "display_data",
          "data": {
            "text/plain": [
              "<Figure size 432x288 with 1 Axes>"
            ],
            "image/png": "[encoded data removed]"
          },
          "metadata": {
            "needs_background": "light"
          }
        }
      ]
    },
    {
      "cell_type": "code",
      "source": [
        "df['logsupcov']=np.log(df.surface_covered)"
      ],
      "metadata": {
        "colab": {
          "base_uri": "https://localhost:8080/"
        },
        "id": "zfSBqgCR33yK",
        "outputId": "2922160e-c2ac-47ba-a643-e0d7fc407f4f"
      },
      "execution_count": 36,
      "outputs": [
        {
          "output_type": "stream",
          "name": "stderr",
          "text": [
            "/usr/local/lib/python3.7/dist-packages/pandas/core/arraylike.py:364: RuntimeWarning: invalid value encountered in log\n",
            "  result = getattr(ufunc, method)(*inputs, **kwargs)\n"
          ]
        }
      ]
    },
    {
      "cell_type": "code",
      "source": [
        "df.shape"
      ],
      "metadata": {
        "colab": {
          "base_uri": "https://localhost:8080/"
        },
        "id": "LO5QQpDa3Jwh",
        "outputId": "8456447e-07b6-4d15-8d7f-5b55b8cd5fd3"
      },
      "execution_count": 37,
      "outputs": [
        {
          "output_type": "execute_result",
          "data": {
            "text/plain": [
              "(408317, 25)"
            ]
          },
          "metadata": {},
          "execution_count": 37
        }
      ]
    },
    {
      "cell_type": "code",
      "source": [
        "# df=df[df.surface_covered<df.surface_covered.quantile(.9999)]\n",
        "# df.surface_covered.plot.hist()\n",
        "\n",
        "# df.shape (405996, 24) de original (834056, 24)\n"
      ],
      "metadata": {
        "id": "xTYH2jLs1T4d"
      },
      "execution_count": 38,
      "outputs": []
    },
    {
      "cell_type": "code",
      "source": [
        "np.log(df.surface_total).plot.hist()"
      ],
      "metadata": {
        "colab": {
          "base_uri": "https://localhost:8080/",
          "height": 285
        },
        "id": "K4gsEmGy4DZ_",
        "outputId": "a62c237f-442d-42d7-e4a0-1831e848944e"
      },
      "execution_count": 39,
      "outputs": [
        {
          "output_type": "execute_result",
          "data": {
            "text/plain": [
              "<matplotlib.axes._subplots.AxesSubplot at 0x7eff1a788210>"
            ]
          },
          "metadata": {},
          "execution_count": 39
        },
        {
          "output_type": "display_data",
          "data": {
            "text/plain": [
              "<Figure size 432x288 with 1 Axes>"
            ],
            "image/png": "[encoded data removed]"
          },
          "metadata": {
            "needs_background": "light"
          }
        }
      ]
    },
    {
      "cell_type": "code",
      "source": [
        "df.surface_total.plot.hist()"
      ],
      "metadata": {
        "colab": {
          "base_uri": "https://localhost:8080/",
          "height": 283
        },
        "id": "nWMc6Cf94RPr",
        "outputId": "e621b75f-6161-4040-c4da-c789e882df06"
      },
      "execution_count": 40,
      "outputs": [
        {
          "output_type": "execute_result",
          "data": {
            "text/plain": [
              "<matplotlib.axes._subplots.AxesSubplot at 0x7eff1a6ba410>"
            ]
          },
          "metadata": {},
          "execution_count": 40
        },
        {
          "output_type": "display_data",
          "data": {
            "text/plain": [
              "<Figure size 432x288 with 1 Axes>"
            ],
            "image/png": "[encoded data removed]"
          },
          "metadata": {
            "needs_background": "light"
          }
        }
      ]
    },
    {
      "cell_type": "code",
      "source": [
        "df['logsuptot']=np.log(df.surface_total)"
      ],
      "metadata": {
        "id": "qWRozk8g4VTD"
      },
      "execution_count": 41,
      "outputs": []
    },
    {
      "cell_type": "code",
      "source": [
        "df.l2.unique()"
      ],
      "metadata": {
        "colab": {
          "base_uri": "https://localhost:8080/"
        },
        "id": "yJDIMNJZ9h13",
        "outputId": "ec672a28-84aa-4720-d71a-56ba9503458b"
      },
      "execution_count": 42,
      "outputs": [
        {
          "output_type": "execute_result",
          "data": {
            "text/plain": [
              "array(['Capital Federal', 'Bs.As. G.B.A. Zona Norte', 'Santa Fe',\n",
              "       'Bs.As. G.B.A. Zona Oeste', 'Bs.As. G.B.A. Zona Sur', 'Córdoba',\n",
              "       'Mendoza', 'Montevideo', 'Buenos Aires Interior', 'Misiones',\n",
              "       'Maldonado', 'Buenos Aires Costa Atlántica', 'Entre Ríos',\n",
              "       'Río Negro', 'Neuquén', 'Tucumán', 'San Luis', 'Chubut', 'Colonia',\n",
              "       'Tierra Del Fuego', 'Salta', 'La Pampa', 'Florida', 'Jujuy',\n",
              "       'Michigan', 'San Juan', 'Chaco', 'Rocha', 'Catamarca',\n",
              "       'Santa Cruz', 'La Rioja', 'Pennsylvania', 'Santa Catarina',\n",
              "       'Maryland', 'Santiago Del Estero', 'Corrientes', 'Rio de Janeiro',\n",
              "       'São Paulo', 'Formosa'], dtype=object)"
            ]
          },
          "metadata": {},
          "execution_count": 42
        }
      ]
    },
    {
      "cell_type": "code",
      "source": [
        "df.l3.value_counts()"
      ],
      "metadata": {
        "colab": {
          "base_uri": "https://localhost:8080/"
        },
        "id": "bd9XJ0oz9kwn",
        "outputId": "dc4c6802-0db8-4f6a-bd40-71628487ab04"
      },
      "execution_count": 43,
      "outputs": [
        {
          "output_type": "execute_result",
          "data": {
            "text/plain": [
              "Mar del Plata       25470\n",
              "Rosario             23614\n",
              "Tigre               22759\n",
              "Palermo             18880\n",
              "Lomas de Zamora     18723\n",
              "                    ...  \n",
              "Macachín                1\n",
              "Dos de Mayo             1\n",
              "Falda del Carmen        1\n",
              "Llambi Campbell         1\n",
              "Barranqueras            1\n",
              "Name: l3, Length: 685, dtype: int64"
            ]
          },
          "metadata": {},
          "execution_count": 43
        }
      ]
    },
    {
      "cell_type": "code",
      "source": [
        "df.property_type.unique()"
      ],
      "metadata": {
        "colab": {
          "base_uri": "https://localhost:8080/"
        },
        "id": "B8APtRu3-x6y",
        "outputId": "53dd5201-5eea-4f3d-932c-1a03a845787d"
      },
      "execution_count": 44,
      "outputs": [
        {
          "output_type": "execute_result",
          "data": {
            "text/plain": [
              "array(['PH', 'Casa', 'Lote', 'Otro', 'Departamento', 'Local comercial',\n",
              "       'Cochera', 'Oficina', 'Casa de campo', 'Depósito'], dtype=object)"
            ]
          },
          "metadata": {},
          "execution_count": 44
        }
      ]
    },
    {
      "cell_type": "markdown",
      "source": [
        "# Tratamiento de los datos"
      ],
      "metadata": {
        "id": "zjaTnfxkyvo8"
      }
    },
    {
      "cell_type": "code",
      "source": [
        "df.columns"
      ],
      "metadata": {
        "colab": {
          "base_uri": "https://localhost:8080/"
        },
        "id": "UK2upJyD9TBp",
        "outputId": "cbdbee14-c5b1-40bf-cccb-29363668f363"
      },
      "execution_count": 45,
      "outputs": [
        {
          "output_type": "execute_result",
          "data": {
            "text/plain": [
              "Index(['start_date', 'end_date', 'created_on', 'lat', 'lon', 'l1', 'l2', 'l3',\n",
              "       'l4', 'l5', 'rooms', 'bedrooms', 'bathrooms', 'surface_total',\n",
              "       'surface_covered', 'price', 'currency', 'title', 'description',\n",
              "       'property_type', 'operation_type', 'logr', 'logbed', 'logbath',\n",
              "       'logsupcov', 'logsuptot'],\n",
              "      dtype='object')"
            ]
          },
          "metadata": {},
          "execution_count": 45
        }
      ]
    },
    {
      "cell_type": "code",
      "source": [
        "# columns=['lat', 'lon', 'l1', 'l2', 'l3',\n",
        "#        'property_type', 'operation_type', 'logr', 'logbed', 'logbath',\n",
        "#        'logsupcov', 'logsuptot']"
      ],
      "metadata": {
        "id": "6WVzkjYR7sth"
      },
      "execution_count": 46,
      "outputs": []
    },
    {
      "cell_type": "code",
      "source": [
        "df.info()"
      ],
      "metadata": {
        "colab": {
          "base_uri": "https://localhost:8080/"
        },
        "id": "HS7UYzFNOvAr",
        "outputId": "21d4fd55-fdc6-4db6-db53-c8ae797dab2f"
      },
      "execution_count": 47,
      "outputs": [
        {
          "output_type": "stream",
          "name": "stdout",
          "text": [
            "<class 'pandas.core.frame.DataFrame'>\n",
            "Index: 408317 entries, viJ4KF92mAwqb4VgSO8cxQ== to rEynGyGrrsxNeG0ib5vUBA==\n",
            "Data columns (total 26 columns):\n",
            " #   Column           Non-Null Count   Dtype         \n",
            "---  ------           --------------   -----         \n",
            " 0   start_date       408317 non-null  datetime64[ns]\n",
            " 1   end_date         408317 non-null  datetime64[ns]\n",
            " 2   created_on       408317 non-null  datetime64[ns]\n",
            " 3   lat              408317 non-null  float64       \n",
            " 4   lon              408317 non-null  float64       \n",
            " 5   l1               408317 non-null  object        \n",
            " 6   l2               408317 non-null  object        \n",
            " 7   l3               408317 non-null  object        \n",
            " 8   l4               132732 non-null  object        \n",
            " 9   l5               3185 non-null    object        \n",
            " 10  rooms            363170 non-null  float64       \n",
            " 11  bedrooms         408317 non-null  float64       \n",
            " 12  bathrooms        394690 non-null  float64       \n",
            " 13  surface_total    204972 non-null  float64       \n",
            " 14  surface_covered  221403 non-null  float64       \n",
            " 15  price            408317 non-null  float64       \n",
            " 16  currency         408317 non-null  object        \n",
            " 17  title            408316 non-null  object        \n",
            " 18  description      408312 non-null  object        \n",
            " 19  property_type    408317 non-null  object        \n",
            " 20  operation_type   408317 non-null  object        \n",
            " 21  logr             363170 non-null  float64       \n",
            " 22  logbed           408317 non-null  float64       \n",
            " 23  logbath          394690 non-null  float64       \n",
            " 24  logsupcov        221402 non-null  float64       \n",
            " 25  logsuptot        204972 non-null  float64       \n",
            "dtypes: datetime64[ns](3), float64(13), object(10)\n",
            "memory usage: 84.1+ MB\n"
          ]
        }
      ]
    },
    {
      "cell_type": "markdown",
      "source": [
        "# Modelización"
      ],
      "metadata": {
        "id": "i2jRJmQ-tD4Z"
      }
    },
    {
      "cell_type": "markdown",
      "source": [
        "Primero volvemos a separar"
      ],
      "metadata": {
        "id": "xqudVpxeExkA"
      }
    },
    {
      "cell_type": "code",
      "source": [
        "from sklearn.model_selection import train_test_split\n",
        "# Separate target from predictors\n",
        "numerical_cols=['rooms', 'bedrooms', 'bathrooms',\n",
        "       'surface_total', 'surface_covered']\n",
        "categorical_cols=['l2','l3','property_type']\n",
        "my_cols = categorical_cols + numerical_cols\n",
        "y = df.price\n",
        "X = df[my_cols]\n",
        "# X = df.drop(['price'], axis=1)\n",
        "\n",
        "# Divide data into training and validation subsets\n",
        "X_train_full, X_valid_full, y_train, y_valid = train_test_split(X, y, train_size=0.8, test_size=0.2,random_state=42)\n",
        "\n",
        "\n",
        "                                                                \n",
        "\n",
        "X_train = X_train_full[my_cols].copy()\n",
        "X_valid = X_valid_full[my_cols].copy()"
      ],
      "metadata": {
        "id": "iGQiXenAAGSX"
      },
      "execution_count": 48,
      "outputs": []
    },
    {
      "cell_type": "code",
      "source": [
        "from sklearn.compose import ColumnTransformer\n",
        "from sklearn.pipeline import Pipeline\n",
        "from sklearn.impute import SimpleImputer\n",
        "from sklearn.preprocessing import OneHotEncoder\n",
        "\n",
        "# Preprocessing for numerical data\n",
        "numerical_transformer = SimpleImputer(strategy='constant')\n",
        "\n",
        "# Preprocessing for categorical data\n",
        "categorical_transformer = Pipeline(steps=[\n",
        "    ('imputer', SimpleImputer(strategy='most_frequent')),\n",
        "    ('onehot', OneHotEncoder(handle_unknown='ignore'))\n",
        "])\n",
        "\n",
        "# Bundle preprocessing for numerical and categorical data\n",
        "preprocessor = ColumnTransformer(\n",
        "    transformers=[\n",
        "        ('num', numerical_transformer, numerical_cols),\n",
        "        ('cat', categorical_transformer, categorical_cols)\n",
        "    ])"
      ],
      "metadata": {
        "id": "fbVoAKtT-VEE"
      },
      "execution_count": 49,
      "outputs": []
    },
    {
      "cell_type": "code",
      "source": [
        "from sklearn.ensemble import RandomForestRegressor\n",
        "\n",
        "model = RandomForestRegressor(n_estimators=100,max_depth=7, random_state=42, n_jobs=-1)\n"
      ],
      "metadata": {
        "id": "Yd5xRFfJ_RG9"
      },
      "execution_count": 50,
      "outputs": []
    },
    {
      "cell_type": "code",
      "source": [
        "df.shape"
      ],
      "metadata": {
        "colab": {
          "base_uri": "https://localhost:8080/"
        },
        "id": "EABa6PVMYZHB",
        "outputId": "81caa390-18c0-4e77-bab3-3fac5eefa5c5"
      },
      "execution_count": 51,
      "outputs": [
        {
          "output_type": "execute_result",
          "data": {
            "text/plain": [
              "(408317, 26)"
            ]
          },
          "metadata": {},
          "execution_count": 51
        }
      ]
    },
    {
      "cell_type": "code",
      "source": [
        "from sklearn.metrics import mean_absolute_error\n",
        "# Bundle preprocessing and modeling code in a pipeline\n",
        "my_pipeline = Pipeline(steps=[('preprocessor', preprocessor),\n",
        "                              ('model', model)\n",
        "                             ])\n",
        "\n",
        "# # Preprocessing of training data, fit model \n",
        "my_pipeline.fit(X_train, y_train)\n",
        "\n",
        "# # Preprocessing of validation data, get predictions\n",
        "preds = my_pipeline.predict(X_valid)\n",
        "\n",
        "# Evaluate the model\n",
        "score = sk.model_selection.cross_val_score(my_pipeline, X_train, y=y_train, cv=5, scoring='neg_root_mean_squared_error',error_score='raise')\n",
        "# score = mean_absolute_error(y_valid, preds)\n",
        "\n",
        "print('Score:', score)"
      ],
      "metadata": {
        "colab": {
          "base_uri": "https://localhost:8080/"
        },
        "id": "xp4hyegT9dVt",
        "outputId": "2730878d-ca20-466d-bb99-18552a296165"
      },
      "execution_count": 52,
      "outputs": [
        {
          "output_type": "stream",
          "name": "stdout",
          "text": [
            "Score: [-315678.78051444 -267221.09565355 -257656.5306755  -265166.14331039\n",
            " -317060.35706682]\n"
          ]
        }
      ]
    },
    {
      "cell_type": "markdown",
      "source": [
        "## Predicción para Kaggle\n"
      ],
      "metadata": {
        "id": "sqVkTPzj3kV0"
      }
    },
    {
      "cell_type": "code",
      "source": [
        "df_pred = pd.read_csv('/content/drive/MyDrive/a_predecir.csv', index_col=\"id\")\n",
        "df_pred.fillna(0, inplace=True)"
      ],
      "metadata": {
        "id": "01697gx81F5Z"
      },
      "execution_count": 53,
      "outputs": []
    },
    {
      "cell_type": "code",
      "source": [
        "# quedate con las mismas columnas que ar_properties\n",
        "X_pred = df_pred[X.columns]"
      ],
      "metadata": {
        "id": "xzAwUNRA1Fzb"
      },
      "execution_count": 54,
      "outputs": []
    },
    {
      "cell_type": "code",
      "source": [
        "# los mejores hiperparámetros encontrados antes\n",
        "n_estimators = 100\n",
        "max_depth = 7\n",
        "\n",
        "# entrenamiento\n",
        "# reg = sk.ensemble.RandomForestRegressor(n_estimators=n_estimators, max_depth=max_depth, random_state=42, n_jobs=-1)\n",
        "my_pipeline.fit(X, y)\n",
        "\n",
        "# predicción\n",
        "df_pred[\"price\"] = my_pipeline.predict(X_pred)"
      ],
      "metadata": {
        "id": "81dOh5WvAPMa"
      },
      "execution_count": 56,
      "outputs": []
    },
    {
      "cell_type": "code",
      "source": [
        "# grabo la solución\n",
        "df_pred[[\"price\"]].to_csv(\"solucion.csv\")"
      ],
      "metadata": {
        "id": "mU9iV6cuBwKB"
      },
      "execution_count": 57,
      "outputs": []
    },
    {
      "cell_type": "code",
      "source": [
        ""
      ],
      "metadata": {
        "id": "vhI-JzV_igWE"
      },
      "execution_count": null,
      "outputs": []
    }
  ]
}