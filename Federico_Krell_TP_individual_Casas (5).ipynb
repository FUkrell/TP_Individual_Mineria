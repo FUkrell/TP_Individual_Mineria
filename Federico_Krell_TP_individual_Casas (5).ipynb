{
  "nbformat": 4,
  "nbformat_minor": 0,
  "metadata": {
    "colab": {
      "name": "Federico Krell TP individual Casas.ipynb",
      "provenance": [],
      "collapsed_sections": []
    },
    "kernelspec": {
      "name": "python3",
      "display_name": "Python 3"
    },
    "language_info": {
      "name": "python"
    }
  },
  "cells": [
    {
      "cell_type": "code",
      "source": [
        "# # https://www.properati.com.ar/data\n",
        "# ! wget -O ar_properties.csv.gz -q https://storage.googleapis.com/properati-data-public/ar_properties.csv.gz\n",
        "# ! gzip -d -f /content/ar_properties.csv.gz"
      ],
      "metadata": {
        "id": "A7BBykw5oQNl"
      },
      "execution_count": 60,
      "outputs": []
    },
    {
      "cell_type": "code",
      "execution_count": 61,
      "metadata": {
        "id": "jw8ogMDOpvKP"
      },
      "outputs": [],
      "source": [
        "import pandas as pd\n",
        "import numpy as np\n",
        "import math\n",
        "\n",
        "import sklearn as sk\n",
        "from sklearn import model_selection\n",
        "from sklearn import ensemble\n",
        "from sklearn import metrics\n",
        "\n",
        "import matplotlib.pyplot as plt\n",
        "import seaborn as sns\n",
        "\n",
        "\n",
        "from pprint import pprint"
      ]
    },
    {
      "cell_type": "markdown",
      "source": [
        "# Lectura de datos"
      ],
      "metadata": {
        "id": "20D-m6GPyefp"
      }
    },
    {
      "cell_type": "code",
      "source": [
        "from google.colab import drive\n",
        "drive.mount('/content/drive')"
      ],
      "metadata": {
        "id": "elViU3DvxNlv",
        "colab": {
          "base_uri": "https://localhost:8080/"
        },
        "outputId": "338cfb9a-b571-4ab6-f894-71ba48b178f2"
      },
      "execution_count": 62,
      "outputs": [
        {
          "output_type": "stream",
          "name": "stdout",
          "text": [
            "Drive already mounted at /content/drive; to attempt to forcibly remount, call drive.mount(\"/content/drive\", force_remount=True).\n"
          ]
        }
      ]
    },
    {
      "cell_type": "code",
      "source": [
        "# ! gzip -d -f /content/drive/MyDrive/ar_properties.csv.gz"
      ],
      "metadata": {
        "id": "2dbybcxDyeDO"
      },
      "execution_count": 63,
      "outputs": []
    },
    {
      "cell_type": "code",
      "source": [
        "# df = pd.read_csv('/content/drive/MyDrive/ar_properties.csv', index_col=\"id\")  \n",
        "df = pd.read_csv('/content/drive/MyDrive/inmoblimpio.csv', index_col=\"id\")"
      ],
      "metadata": {
        "id": "CtV0wOGsqJLC"
      },
      "execution_count": 64,
      "outputs": []
    },
    {
      "cell_type": "code",
      "source": [
        "df.head()"
      ],
      "metadata": {
        "id": "thKYxfNuulgB",
        "colab": {
          "base_uri": "https://localhost:8080/",
          "height": 695
        },
        "outputId": "0b986637-76c1-4053-a6d6-123d975c79da"
      },
      "execution_count": 65,
      "outputs": [
        {
          "output_type": "execute_result",
          "data": {
            "text/plain": [
              "                            ad_type  start_date    end_date  created_on  \\\n",
              "id                                                                        \n",
              "hjHZd/BZqSBy3zb+RrqPYg==  Propiedad  2020-08-22  2020-09-04  2020-08-22   \n",
              "2KF4gGpEVoyqnMVFBcF7IA==  Propiedad  2020-08-22  2020-09-04  2020-08-22   \n",
              "BRbo9ohkAnogBN3vgcbh1Q==  Propiedad  2020-08-22  2020-09-04  2020-08-22   \n",
              "twX40kvJoG1MI6LVXnRKpA==  Propiedad  2020-08-22  2020-09-04  2020-08-22   \n",
              "+KGGxikZuWylLGEfAS1QQQ==  Propiedad  2020-08-22  2020-09-04  2020-08-22   \n",
              "\n",
              "                                lat        lon         l1               l2  \\\n",
              "id                                                                           \n",
              "hjHZd/BZqSBy3zb+RrqPYg== -34.638910 -58.476073  Argentina  Capital Federal   \n",
              "2KF4gGpEVoyqnMVFBcF7IA== -34.562124 -58.464449  Argentina  Capital Federal   \n",
              "BRbo9ohkAnogBN3vgcbh1Q== -34.598112 -58.400784  Argentina  Capital Federal   \n",
              "twX40kvJoG1MI6LVXnRKpA== -34.614123 -58.378985  Argentina  Capital Federal   \n",
              "+KGGxikZuWylLGEfAS1QQQ== -34.603233 -58.385218  Argentina  Capital Federal   \n",
              "\n",
              "                                   l3   l4  ...  bathrooms  surface_total  \\\n",
              "id                                          ...                             \n",
              "hjHZd/BZqSBy3zb+RrqPYg==     Floresta  NaN  ...        NaN          372.0   \n",
              "2KF4gGpEVoyqnMVFBcF7IA==     Belgrano  NaN  ...        NaN            NaN   \n",
              "BRbo9ohkAnogBN3vgcbh1Q==     Recoleta  NaN  ...        3.0          265.0   \n",
              "twX40kvJoG1MI6LVXnRKpA==    Monserrat  NaN  ...        3.0          150.0   \n",
              "+KGGxikZuWylLGEfAS1QQQ==  San Nicolás  NaN  ...        1.0            NaN   \n",
              "\n",
              "                          surface_covered     price  currency  price_period  \\\n",
              "id                                                                            \n",
              "hjHZd/BZqSBy3zb+RrqPYg==              NaN  450000.0       USD       Mensual   \n",
              "2KF4gGpEVoyqnMVFBcF7IA==              NaN   20000.0       USD       Mensual   \n",
              "BRbo9ohkAnogBN3vgcbh1Q==            265.0  600000.0       USD       Mensual   \n",
              "twX40kvJoG1MI6LVXnRKpA==            150.0  195000.0       USD       Mensual   \n",
              "+KGGxikZuWylLGEfAS1QQQ==             12.0   22000.0       USD       Mensual   \n",
              "\n",
              "                                                                      title  \\\n",
              "id                                                                            \n",
              "hjHZd/BZqSBy3zb+RrqPYg==                                  Exclente lote !!    \n",
              "2KF4gGpEVoyqnMVFBcF7IA==  Excelente cochera fija y cubierta en edificio ...   \n",
              "BRbo9ohkAnogBN3vgcbh1Q==              Oficina comercial · 265m² · 2 Cochera   \n",
              "twX40kvJoG1MI6LVXnRKpA==      Importante Oficina en Micro centro de 150 m2.   \n",
              "+KGGxikZuWylLGEfAS1QQQ==                              Oficina - San Nicolas   \n",
              "\n",
              "                                                                description  \\\n",
              "id                                                                            \n",
              "hjHZd/BZqSBy3zb+RrqPYg==  Lote 365 mts 8,90 x 43 mts C3 II.. FOT 3.6 PAR...   \n",
              "2KF4gGpEVoyqnMVFBcF7IA==  Muy buena cochera, en el 4to piso en excelente...   \n",
              "BRbo9ohkAnogBN3vgcbh1Q==  Gran Oportunidad! Unica piso de oficinas de 26...   \n",
              "twX40kvJoG1MI6LVXnRKpA==  Importante  Oficina de de 150 m2 con palier pr...   \n",
              "+KGGxikZuWylLGEfAS1QQQ==  VENTA DE OFICINA A METROS DEL PALACIO DE TRIBU...   \n",
              "\n",
              "                         property_type operation_type  \n",
              "id                                                     \n",
              "hjHZd/BZqSBy3zb+RrqPYg==          Lote          Venta  \n",
              "2KF4gGpEVoyqnMVFBcF7IA==       Cochera          Venta  \n",
              "BRbo9ohkAnogBN3vgcbh1Q==       Oficina          Venta  \n",
              "twX40kvJoG1MI6LVXnRKpA==       Oficina          Venta  \n",
              "+KGGxikZuWylLGEfAS1QQQ==       Oficina          Venta  \n",
              "\n",
              "[5 rows x 24 columns]"
            ],
            "text/html": [
              "\n",
              "  <div id=\"df-e716c789-ffaf-4fd2-8249-89197f521c57\">\n",
              "    <div class=\"colab-df-container\">\n",
              "      <div>\n",
              "<style scoped>\n",
              "    .dataframe tbody tr th:only-of-type {\n",
              "        vertical-align: middle;\n",
              "    }\n",
              "\n",
              "    .dataframe tbody tr th {\n",
              "        vertical-align: top;\n",
              "    }\n",
              "\n",
              "    .dataframe thead th {\n",
              "        text-align: right;\n",
              "    }\n",
              "</style>\n",
              "<table border=\"1\" class=\"dataframe\">\n",
              "  <thead>\n",
              "    <tr style=\"text-align: right;\">\n",
              "      <th></th>\n",
              "      <th>ad_type</th>\n",
              "      <th>start_date</th>\n",
              "      <th>end_date</th>\n",
              "      <th>created_on</th>\n",
              "      <th>lat</th>\n",
              "      <th>lon</th>\n",
              "      <th>l1</th>\n",
              "      <th>l2</th>\n",
              "      <th>l3</th>\n",
              "      <th>l4</th>\n",
              "      <th>...</th>\n",
              "      <th>bathrooms</th>\n",
              "      <th>surface_total</th>\n",
              "      <th>surface_covered</th>\n",
              "      <th>price</th>\n",
              "      <th>currency</th>\n",
              "      <th>price_period</th>\n",
              "      <th>title</th>\n",
              "      <th>description</th>\n",
              "      <th>property_type</th>\n",
              "      <th>operation_type</th>\n",
              "    </tr>\n",
              "    <tr>\n",
              "      <th>id</th>\n",
              "      <th></th>\n",
              "      <th></th>\n",
              "      <th></th>\n",
              "      <th></th>\n",
              "      <th></th>\n",
              "      <th></th>\n",
              "      <th></th>\n",
              "      <th></th>\n",
              "      <th></th>\n",
              "      <th></th>\n",
              "      <th></th>\n",
              "      <th></th>\n",
              "      <th></th>\n",
              "      <th></th>\n",
              "      <th></th>\n",
              "      <th></th>\n",
              "      <th></th>\n",
              "      <th></th>\n",
              "      <th></th>\n",
              "      <th></th>\n",
              "      <th></th>\n",
              "    </tr>\n",
              "  </thead>\n",
              "  <tbody>\n",
              "    <tr>\n",
              "      <th>hjHZd/BZqSBy3zb+RrqPYg==</th>\n",
              "      <td>Propiedad</td>\n",
              "      <td>2020-08-22</td>\n",
              "      <td>2020-09-04</td>\n",
              "      <td>2020-08-22</td>\n",
              "      <td>-34.638910</td>\n",
              "      <td>-58.476073</td>\n",
              "      <td>Argentina</td>\n",
              "      <td>Capital Federal</td>\n",
              "      <td>Floresta</td>\n",
              "      <td>NaN</td>\n",
              "      <td>...</td>\n",
              "      <td>NaN</td>\n",
              "      <td>372.0</td>\n",
              "      <td>NaN</td>\n",
              "      <td>450000.0</td>\n",
              "      <td>USD</td>\n",
              "      <td>Mensual</td>\n",
              "      <td>Exclente lote !!</td>\n",
              "      <td>Lote 365 mts 8,90 x 43 mts C3 II.. FOT 3.6 PAR...</td>\n",
              "      <td>Lote</td>\n",
              "      <td>Venta</td>\n",
              "    </tr>\n",
              "    <tr>\n",
              "      <th>2KF4gGpEVoyqnMVFBcF7IA==</th>\n",
              "      <td>Propiedad</td>\n",
              "      <td>2020-08-22</td>\n",
              "      <td>2020-09-04</td>\n",
              "      <td>2020-08-22</td>\n",
              "      <td>-34.562124</td>\n",
              "      <td>-58.464449</td>\n",
              "      <td>Argentina</td>\n",
              "      <td>Capital Federal</td>\n",
              "      <td>Belgrano</td>\n",
              "      <td>NaN</td>\n",
              "      <td>...</td>\n",
              "      <td>NaN</td>\n",
              "      <td>NaN</td>\n",
              "      <td>NaN</td>\n",
              "      <td>20000.0</td>\n",
              "      <td>USD</td>\n",
              "      <td>Mensual</td>\n",
              "      <td>Excelente cochera fija y cubierta en edificio ...</td>\n",
              "      <td>Muy buena cochera, en el 4to piso en excelente...</td>\n",
              "      <td>Cochera</td>\n",
              "      <td>Venta</td>\n",
              "    </tr>\n",
              "    <tr>\n",
              "      <th>BRbo9ohkAnogBN3vgcbh1Q==</th>\n",
              "      <td>Propiedad</td>\n",
              "      <td>2020-08-22</td>\n",
              "      <td>2020-09-04</td>\n",
              "      <td>2020-08-22</td>\n",
              "      <td>-34.598112</td>\n",
              "      <td>-58.400784</td>\n",
              "      <td>Argentina</td>\n",
              "      <td>Capital Federal</td>\n",
              "      <td>Recoleta</td>\n",
              "      <td>NaN</td>\n",
              "      <td>...</td>\n",
              "      <td>3.0</td>\n",
              "      <td>265.0</td>\n",
              "      <td>265.0</td>\n",
              "      <td>600000.0</td>\n",
              "      <td>USD</td>\n",
              "      <td>Mensual</td>\n",
              "      <td>Oficina comercial · 265m² · 2 Cochera</td>\n",
              "      <td>Gran Oportunidad! Unica piso de oficinas de 26...</td>\n",
              "      <td>Oficina</td>\n",
              "      <td>Venta</td>\n",
              "    </tr>\n",
              "    <tr>\n",
              "      <th>twX40kvJoG1MI6LVXnRKpA==</th>\n",
              "      <td>Propiedad</td>\n",
              "      <td>2020-08-22</td>\n",
              "      <td>2020-09-04</td>\n",
              "      <td>2020-08-22</td>\n",
              "      <td>-34.614123</td>\n",
              "      <td>-58.378985</td>\n",
              "      <td>Argentina</td>\n",
              "      <td>Capital Federal</td>\n",
              "      <td>Monserrat</td>\n",
              "      <td>NaN</td>\n",
              "      <td>...</td>\n",
              "      <td>3.0</td>\n",
              "      <td>150.0</td>\n",
              "      <td>150.0</td>\n",
              "      <td>195000.0</td>\n",
              "      <td>USD</td>\n",
              "      <td>Mensual</td>\n",
              "      <td>Importante Oficina en Micro centro de 150 m2.</td>\n",
              "      <td>Importante  Oficina de de 150 m2 con palier pr...</td>\n",
              "      <td>Oficina</td>\n",
              "      <td>Venta</td>\n",
              "    </tr>\n",
              "    <tr>\n",
              "      <th>+KGGxikZuWylLGEfAS1QQQ==</th>\n",
              "      <td>Propiedad</td>\n",
              "      <td>2020-08-22</td>\n",
              "      <td>2020-09-04</td>\n",
              "      <td>2020-08-22</td>\n",
              "      <td>-34.603233</td>\n",
              "      <td>-58.385218</td>\n",
              "      <td>Argentina</td>\n",
              "      <td>Capital Federal</td>\n",
              "      <td>San Nicolás</td>\n",
              "      <td>NaN</td>\n",
              "      <td>...</td>\n",
              "      <td>1.0</td>\n",
              "      <td>NaN</td>\n",
              "      <td>12.0</td>\n",
              "      <td>22000.0</td>\n",
              "      <td>USD</td>\n",
              "      <td>Mensual</td>\n",
              "      <td>Oficina - San Nicolas</td>\n",
              "      <td>VENTA DE OFICINA A METROS DEL PALACIO DE TRIBU...</td>\n",
              "      <td>Oficina</td>\n",
              "      <td>Venta</td>\n",
              "    </tr>\n",
              "  </tbody>\n",
              "</table>\n",
              "<p>5 rows × 24 columns</p>\n",
              "</div>\n",
              "      <button class=\"colab-df-convert\" onclick=\"convertToInteractive('df-e716c789-ffaf-4fd2-8249-89197f521c57')\"\n",
              "              title=\"Convert this dataframe to an interactive table.\"\n",
              "              style=\"display:none;\">\n",
              "        \n",
              "  <svg xmlns=\"http://www.w3.org/2000/svg\" height=\"24px\"viewBox=\"0 0 24 24\"\n",
              "       width=\"24px\">\n",
              "    <path d=\"M0 0h24v24H0V0z\" fill=\"none\"/>\n",
              "    <path d=\"M18.56 5.44l.94 2.06.94-2.06 2.06-.94-2.06-.94-.94-2.06-.94 2.06-2.06.94zm-11 1L8.5 8.5l.94-2.06 2.06-.94-2.06-.94L8.5 2.5l-.94 2.06-2.06.94zm10 10l.94 2.06.94-2.06 2.06-.94-2.06-.94-.94-2.06-.94 2.06-2.06.94z\"/><path d=\"M17.41 7.96l-1.37-1.37c-.4-.4-.92-.59-1.43-.59-.52 0-1.04.2-1.43.59L10.3 9.45l-7.72 7.72c-.78.78-.78 2.05 0 2.83L4 21.41c.39.39.9.59 1.41.59.51 0 1.02-.2 1.41-.59l7.78-7.78 2.81-2.81c.8-.78.8-2.07 0-2.86zM5.41 20L4 18.59l7.72-7.72 1.47 1.35L5.41 20z\"/>\n",
              "  </svg>\n",
              "      </button>\n",
              "      \n",
              "  <style>\n",
              "    .colab-df-container {\n",
              "      display:flex;\n",
              "      flex-wrap:wrap;\n",
              "      gap: 12px;\n",
              "    }\n",
              "\n",
              "    .colab-df-convert {\n",
              "      background-color: #E8F0FE;\n",
              "      border: none;\n",
              "      border-radius: 50%;\n",
              "      cursor: pointer;\n",
              "      display: none;\n",
              "      fill: #1967D2;\n",
              "      height: 32px;\n",
              "      padding: 0 0 0 0;\n",
              "      width: 32px;\n",
              "    }\n",
              "\n",
              "    .colab-df-convert:hover {\n",
              "      background-color: #E2EBFA;\n",
              "      box-shadow: 0px 1px 2px rgba(60, 64, 67, 0.3), 0px 1px 3px 1px rgba(60, 64, 67, 0.15);\n",
              "      fill: #174EA6;\n",
              "    }\n",
              "\n",
              "    [theme=dark] .colab-df-convert {\n",
              "      background-color: #3B4455;\n",
              "      fill: #D2E3FC;\n",
              "    }\n",
              "\n",
              "    [theme=dark] .colab-df-convert:hover {\n",
              "      background-color: #434B5C;\n",
              "      box-shadow: 0px 1px 3px 1px rgba(0, 0, 0, 0.15);\n",
              "      filter: drop-shadow(0px 1px 2px rgba(0, 0, 0, 0.3));\n",
              "      fill: #FFFFFF;\n",
              "    }\n",
              "  </style>\n",
              "\n",
              "      <script>\n",
              "        const buttonEl =\n",
              "          document.querySelector('#df-e716c789-ffaf-4fd2-8249-89197f521c57 button.colab-df-convert');\n",
              "        buttonEl.style.display =\n",
              "          google.colab.kernel.accessAllowed ? 'block' : 'none';\n",
              "\n",
              "        async function convertToInteractive(key) {\n",
              "          const element = document.querySelector('#df-e716c789-ffaf-4fd2-8249-89197f521c57');\n",
              "          const dataTable =\n",
              "            await google.colab.kernel.invokeFunction('convertToInteractive',\n",
              "                                                     [key], {});\n",
              "          if (!dataTable) return;\n",
              "\n",
              "          const docLinkHtml = 'Like what you see? Visit the ' +\n",
              "            '<a target=\"_blank\" href=https://colab.research.google.com/notebooks/data_table.ipynb>data table notebook</a>'\n",
              "            + ' to learn more about interactive tables.';\n",
              "          element.innerHTML = '';\n",
              "          dataTable['output_type'] = 'display_data';\n",
              "          await google.colab.output.renderOutput(dataTable, element);\n",
              "          const docLink = document.createElement('div');\n",
              "          docLink.innerHTML = docLinkHtml;\n",
              "          element.appendChild(docLink);\n",
              "        }\n",
              "      </script>\n",
              "    </div>\n",
              "  </div>\n",
              "  "
            ]
          },
          "metadata": {},
          "execution_count": 65
        }
      ]
    },
    {
      "cell_type": "markdown",
      "source": [
        "<h1> Análisis del conjunto de datos\n",
        " <h2> Parte 1 PreProcesamiento."
      ],
      "metadata": {
        "id": "byV0dQi-yiEd"
      }
    },
    {
      "cell_type": "code",
      "source": [
        "df.shape"
      ],
      "metadata": {
        "id": "fTHBTiNw05Nb",
        "colab": {
          "base_uri": "https://localhost:8080/"
        },
        "outputId": "7cd11ab0-5726-42ee-b576-a0d268fddac2"
      },
      "execution_count": 66,
      "outputs": [
        {
          "output_type": "execute_result",
          "data": {
            "text/plain": [
              "(175149, 24)"
            ]
          },
          "metadata": {},
          "execution_count": 66
        }
      ]
    },
    {
      "cell_type": "code",
      "source": [
        "df.columns"
      ],
      "metadata": {
        "id": "ixu1VZip07v1",
        "colab": {
          "base_uri": "https://localhost:8080/"
        },
        "outputId": "b45b7831-488a-43a5-b5b5-2e44823b1846"
      },
      "execution_count": 67,
      "outputs": [
        {
          "output_type": "execute_result",
          "data": {
            "text/plain": [
              "Index(['ad_type', 'start_date', 'end_date', 'created_on', 'lat', 'lon', 'l1',\n",
              "       'l2', 'l3', 'l4', 'l5', 'l6', 'rooms', 'bedrooms', 'bathrooms',\n",
              "       'surface_total', 'surface_covered', 'price', 'currency', 'price_period',\n",
              "       'title', 'description', 'property_type', 'operation_type'],\n",
              "      dtype='object')"
            ]
          },
          "metadata": {},
          "execution_count": 67
        }
      ]
    },
    {
      "cell_type": "code",
      "source": [
        "df.info()"
      ],
      "metadata": {
        "id": "WWYGz7Qn1aPK",
        "colab": {
          "base_uri": "https://localhost:8080/"
        },
        "outputId": "544b794b-3c85-43b0-acc8-9f3bb1ffe336"
      },
      "execution_count": 68,
      "outputs": [
        {
          "output_type": "stream",
          "name": "stdout",
          "text": [
            "<class 'pandas.core.frame.DataFrame'>\n",
            "Index: 175149 entries, hjHZd/BZqSBy3zb+RrqPYg== to fJLVUIziPl31ACoaE/fj1g==\n",
            "Data columns (total 24 columns):\n",
            " #   Column           Non-Null Count   Dtype  \n",
            "---  ------           --------------   -----  \n",
            " 0   ad_type          175149 non-null  object \n",
            " 1   start_date       175149 non-null  object \n",
            " 2   end_date         175149 non-null  object \n",
            " 3   created_on       175149 non-null  object \n",
            " 4   lat              165257 non-null  float64\n",
            " 5   lon              165257 non-null  float64\n",
            " 6   l1               175149 non-null  object \n",
            " 7   l2               175149 non-null  object \n",
            " 8   l3               175149 non-null  object \n",
            " 9   l4               8615 non-null    object \n",
            " 10  l5               0 non-null       float64\n",
            " 11  l6               0 non-null       float64\n",
            " 12  rooms            148869 non-null  float64\n",
            " 13  bedrooms         128525 non-null  float64\n",
            " 14  bathrooms        153305 non-null  float64\n",
            " 15  surface_total    117880 non-null  float64\n",
            " 16  surface_covered  117107 non-null  float64\n",
            " 17  price            175149 non-null  float64\n",
            " 18  currency         175149 non-null  object \n",
            " 19  price_period     85695 non-null   object \n",
            " 20  title            175149 non-null  object \n",
            " 21  description      175149 non-null  object \n",
            " 22  property_type    175149 non-null  object \n",
            " 23  operation_type   175149 non-null  object \n",
            "dtypes: float64(10), object(14)\n",
            "memory usage: 33.4+ MB\n"
          ]
        }
      ]
    },
    {
      "cell_type": "markdown",
      "source": [
        "Primeras concluciones:\n",
        "\n",
        "---\n",
        "\n",
        "\n",
        " \n",
        "\n",
        "*   l6 no tiene informacion, se dropea.\n",
        "*   hay un 10% del database sin lat y long puede evaluarse tirar las filas sin esa info.\n",
        "*   **Mas importante hay una parte del databse sin precio, eso se tira seguro.**\n",
        "\n",
        "---\n",
        "A nivel operativo las fechas hay que pasarlas a formato de fecha. <br />\n",
        "\n",
        "\n",
        "\n",
        "\n",
        "\n",
        "\n",
        "\n"
      ],
      "metadata": {
        "id": "0rq9YDs21uTp"
      }
    },
    {
      "cell_type": "markdown",
      "source": [
        "En mis datos a predecir solo hay USD asique para evitar problemas de cambio de unidades voy a eleminar las que no son en USD.\n",
        "Tambien es solo de argentina a predecir. <br />\n",
        "EL objetivo es solo precios por lo que operaciones que no sean de compra tambien se van.<br />\n",
        "Mis datos son solo de Capital Federal asique voy a filtrar tambien por eso.<br />\n",
        "Estoy buscando precios de abril del 2022 asique en principio podria ver que precios estan viejos. Mi base de datos es de mayo 2021 asique tendre que hacer ajustes con numeros conocidos de evolución de precios.\n",
        "<br />\n",
        "Por ultimo, Se busca datos de barrios especificos asique lo que este por fuera solo añade ruido."
      ],
      "metadata": {
        "id": "xB40jqGL5IE-"
      }
    },
    {
      "cell_type": "code",
      "source": [
        "df.currency.value_counts()"
      ],
      "metadata": {
        "id": "aXduj-Bo4aES",
        "colab": {
          "base_uri": "https://localhost:8080/"
        },
        "outputId": "40fb7aed-544d-45e7-bfe1-b1b76ec3461c"
      },
      "execution_count": 69,
      "outputs": [
        {
          "output_type": "execute_result",
          "data": {
            "text/plain": [
              "USD    175149\n",
              "Name: currency, dtype: int64"
            ]
          },
          "metadata": {},
          "execution_count": 69
        }
      ]
    },
    {
      "cell_type": "code",
      "source": [
        "df=df[df.currency=='USD']"
      ],
      "metadata": {
        "id": "Dh5nzv8n5h0j"
      },
      "execution_count": 70,
      "outputs": []
    },
    {
      "cell_type": "code",
      "source": [
        "df=df[df.l1=='Argentina']"
      ],
      "metadata": {
        "id": "-yIlP51jWZz6"
      },
      "execution_count": 71,
      "outputs": []
    },
    {
      "cell_type": "code",
      "source": [
        "df=df[df.l2=='Capital Federal']"
      ],
      "metadata": {
        "id": "QznHazIVSQxi"
      },
      "execution_count": 72,
      "outputs": []
    },
    {
      "cell_type": "markdown",
      "source": [
        "Estos son los barrios que vienen del set de los que quiero predecir."
      ],
      "metadata": {
        "id": "bjOh2gpwKkt3"
      }
    },
    {
      "cell_type": "code",
      "source": [
        "Barrios_pred=['Balvanera', 'Villa Urquiza', 'Palermo', 'Belgrano', 'Floresta',\n",
        "       'Villa Pueyrredon', 'Saavedra', 'Villa Devoto', 'San Nicolás',\n",
        "       'Chacarita', 'Villa Crespo', 'Boedo', 'Flores', 'Paternal', 'Boca',\n",
        "       'Recoleta', 'Caballito', 'Nuñez', 'Constitución', 'Colegiales',\n",
        "       'San Telmo', 'Monserrat', 'Puerto Madero', 'Villa del Parque',\n",
        "       'Almagro', 'Villa Ortuzar', 'Villa Lugano', 'San Cristobal',\n",
        "       'Barracas', 'Liniers', '2 Ambientes', 'Mataderos',\n",
        "       'Villa Santa Rita', 'Parque Patricios', 'Parque Chas',\n",
        "       'Villa General Mitre', 'Retiro', 'Parque Avellaneda',\n",
        "       'Monte Castro', 'Parque Chacabuco', 'Villa Luro', 'Versalles',\n",
        "       'Coghlan', 'Vélez Sarsfield', 'Nueva Pompeya', 'Agronomía',\n",
        "       'Villa Real', 'GBA Norte']"
      ],
      "metadata": {
        "id": "CBgCT4jElLCT"
      },
      "execution_count": 73,
      "outputs": []
    },
    {
      "cell_type": "code",
      "source": [
        "df = df[df['l3'].isin(Barrios_pred)]"
      ],
      "metadata": {
        "id": "eBNzqZqlk111"
      },
      "execution_count": 74,
      "outputs": []
    },
    {
      "cell_type": "code",
      "source": [
        "# df.to_csv(\"inmoblimpio.csv\")"
      ],
      "metadata": {
        "id": "nGZ1JiJT9hX_"
      },
      "execution_count": 75,
      "outputs": []
    },
    {
      "cell_type": "code",
      "source": [
        "df['start_date']=pd.to_datetime(df['start_date'])"
      ],
      "metadata": {
        "id": "UAwS1SeNa5Ai"
      },
      "execution_count": 76,
      "outputs": []
    },
    {
      "cell_type": "code",
      "source": [
        "df['start_date'].max()"
      ],
      "metadata": {
        "id": "ES6vG_T3bKUY",
        "colab": {
          "base_uri": "https://localhost:8080/"
        },
        "outputId": "619ca4c0-6001-4a97-f28d-5cd979256c6e"
      },
      "execution_count": 77,
      "outputs": [
        {
          "output_type": "execute_result",
          "data": {
            "text/plain": [
              "Timestamp('2021-06-17 00:00:00')"
            ]
          },
          "metadata": {},
          "execution_count": 77
        }
      ]
    },
    {
      "cell_type": "code",
      "source": [
        "df['start_date'].min()"
      ],
      "metadata": {
        "id": "EUMJP9t2e73s",
        "colab": {
          "base_uri": "https://localhost:8080/"
        },
        "outputId": "8d936734-83ce-416a-ad03-89e55aa60d28"
      },
      "execution_count": 78,
      "outputs": [
        {
          "output_type": "execute_result",
          "data": {
            "text/plain": [
              "Timestamp('2020-05-24 00:00:00')"
            ]
          },
          "metadata": {},
          "execution_count": 78
        }
      ]
    },
    {
      "cell_type": "code",
      "source": [
        "df['end_date'].replace('9999-12-31','2020-12-31', inplace=True)"
      ],
      "metadata": {
        "id": "V1EQS4mCE4j_"
      },
      "execution_count": 79,
      "outputs": []
    },
    {
      "cell_type": "code",
      "source": [
        "df['end_date']=pd.to_datetime(df['end_date'])\n",
        "df['end_date'].max()"
      ],
      "metadata": {
        "id": "jVqxVelNb_Mr",
        "colab": {
          "base_uri": "https://localhost:8080/"
        },
        "outputId": "70dc59a1-40f3-4be7-e805-0248224951a6"
      },
      "execution_count": 80,
      "outputs": [
        {
          "output_type": "execute_result",
          "data": {
            "text/plain": [
              "Timestamp('2021-08-16 00:00:00')"
            ]
          },
          "metadata": {},
          "execution_count": 80
        }
      ]
    },
    {
      "cell_type": "code",
      "source": [
        "df=df[df.start_date>'2021-04-01']"
      ],
      "metadata": {
        "id": "tmUqhJoSTd0d"
      },
      "execution_count": 81,
      "outputs": []
    },
    {
      "cell_type": "markdown",
      "source": [
        "Hago un ajuste preliminar de la columna precios."
      ],
      "metadata": {
        "id": "bVAzTwhxcYvd"
      }
    },
    {
      "cell_type": "code",
      "source": [
        "df.l3.unique()"
      ],
      "metadata": {
        "id": "99DGGFrq_HGk",
        "colab": {
          "base_uri": "https://localhost:8080/"
        },
        "outputId": "683feaa0-d6f1-4eba-a549-6607d40b2d0c"
      },
      "execution_count": 82,
      "outputs": [
        {
          "output_type": "execute_result",
          "data": {
            "text/plain": [
              "array(['Boedo', 'Palermo', 'Mataderos', 'Flores', 'Versalles', 'Nuñez',\n",
              "       'Almagro', 'Liniers', 'Saavedra', 'Caballito', 'Villa Real',\n",
              "       'Parque Patricios', 'Coghlan', 'San Nicolás', 'Villa Urquiza',\n",
              "       'Retiro', 'Floresta', 'Colegiales', 'Belgrano', 'Recoleta',\n",
              "       'Balvanera', 'San Telmo', 'Villa Crespo', 'Villa Devoto',\n",
              "       'Villa Lugano', 'San Cristobal', 'Villa Ortuzar', 'Boca',\n",
              "       'Monserrat', 'Villa Luro', 'Monte Castro', 'Villa del Parque',\n",
              "       'Barracas', 'Chacarita', 'Constitución', 'Puerto Madero',\n",
              "       'Villa General Mitre', 'Paternal', 'Agronomía', 'Parque Chacabuco',\n",
              "       'Parque Avellaneda', 'Parque Chas', 'Villa Santa Rita'],\n",
              "      dtype=object)"
            ]
          },
          "metadata": {},
          "execution_count": 82
        }
      ]
    },
    {
      "cell_type": "markdown",
      "source": [
        "##Ajuste por evolución de precios"
      ],
      "metadata": {
        "id": "UmHTMDtblLmj"
      }
    },
    {
      "cell_type": "code",
      "source": [
        "df.loc[df.l3 == 'Palermo', ['price']]=df.price*0.9\n",
        "df.loc[df.l3 ==  'Belgrano',['price']]=df.price*0.95\n",
        "df.loc[df.l3 == 'Recoleta', ['price']]=df.price*0.87\n",
        "df.loc[df.l3 ==  'Caballito',['price']]=df.price*0.93\n",
        "df.loc[df.l3 == 'Villa Urquiza', ['price']]=df.price*0.9\n",
        "df.loc[df.l3 ==  'Almagro',['price']]=df.price*0.922\n",
        "df.loc[df.l3 == 'Villa Crespo', ['price']]=df.price*0.824\n",
        "df.loc[df.l3 ==  'Nuñez',['price']]=df.price*0.946\n",
        "\n",
        "df.loc[df.l3 == 'Flores', ['price']]=df.price*0.94\n",
        "df.loc[df.l3 ==  'Balvanera',['price']]=df.price*0.95\n",
        "df.loc[df.l3 == 'Puerto Madero', ['price']]=df.price*0.96\n",
        "df.loc[df.l3 ==  'Colegiales',['price']]=df.price*0.91\n",
        "df.loc[df.l3 == 'Saavedra', ['price']]=df.price*0.9\n",
        "df.loc[df.l3 ==  'Villa Devoto',['price']]=df.price*0.922\n",
        "df.loc[df.l3 == 'Floresta', ['price']]=df.price*0.904\n",
        "df.loc[df.l3 ==  'Villa Del Parque',['price']]=df.price*0.894\n",
        "\n",
        "df.loc[df.l3 == 'Retiro', ['price']]=df.price*0.881\n",
        "df.loc[df.l3 ==  'Barracas',['price']]=df.price*1.08\n",
        "df.loc[df.l3 == 'San Cristobal', ['price']]=df.price*0.811\n",
        "df.loc[df.l3 ==  'San Telmo',['price']]=df.price*0.971\n",
        "df.loc[df.l3 == 'Boedo', ['price']]=df.price*0.898\n",
        "df.loc[df.l3 ==  'San Nicolas',['price']]=df.price*0.923\n",
        "df.loc[df.l3 == 'Mataderos', ['price']]=df.price*0.806\n",
        "df.loc[df.l3 ==  'Liniers',['price']]=df.price*0.854\n",
        "\n",
        "df.loc[df.l3 == 'Parque Chacabuco', ['price']]=df.price*0.885\n",
        "df.loc[df.l3 ==  'Coghlan',['price']]=df.price*1.015\n",
        "df.loc[df.l3 == 'Monserrat', ['price']]=df.price*0.951\n",
        "df.loc[df.l3 ==  'Villa Luro',['price']]=df.price*0.867\n",
        "df.loc[df.l3 == 'Parque Patricios', ['price']]=df.price*0.982\n",
        "df.loc[df.l3 ==  'Chacarita',['price']]=df.price*0.845\n",
        "df.loc[df.l3 == 'Villa Ortuzar', ['price']]=df.price*0.89\n",
        "df.loc[df.l3 ==  'Monte Castro',['price']]=df.price*0.959\n",
        "\n",
        "df.loc[df.l3 == 'Constitucion', ['price']]=df.price*0.851\n",
        "df.loc[df.l3 ==  'Paternal',['price']]=df.price*0.907\n",
        "df.loc[df.l3 == 'Villa General Mitre', ['price']]=df.price*1.088\n",
        "df.loc[df.l3 ==  'Boca',['price']]=df.price*0.98\n",
        "df.loc[df.l3 == 'Parque Avellaneda', ['price']]=df.price*0.862\n",
        "df.loc[df.l3 ==  'Villa Santa Rita',['price']]=df.price*1.04\n",
        "df.loc[df.l3 == 'Parque Chas', ['price']]=df.price*0.989\n",
        "df.loc[df.l3 ==  'Versalles',['price']]=df.price*0.936\n",
        "\n",
        "\n",
        "df.loc[df.l3 == 'Agronomia', ['price']]=df.price*0.815\n",
        "df.loc[df.l3 ==  'Villa Real',['price']]=df.price*0.851\n",
        "\n",
        "\n",
        "\n"
      ],
      "metadata": {
        "id": "cBRgo66EcdZ4",
        "colab": {
          "base_uri": "https://localhost:8080/"
        },
        "outputId": "0a34bc90-f976-4c65-c6aa-ca871d027899"
      },
      "execution_count": 83,
      "outputs": [
        {
          "output_type": "stream",
          "name": "stderr",
          "text": [
            "/usr/local/lib/python3.7/dist-packages/pandas/core/indexing.py:1835: SettingWithCopyWarning: \n",
            "A value is trying to be set on a copy of a slice from a DataFrame.\n",
            "Try using .loc[row_indexer,col_indexer] = value instead\n",
            "\n",
            "See the caveats in the documentation: https://pandas.pydata.org/pandas-docs/stable/user_guide/indexing.html#returning-a-view-versus-a-copy\n",
            "  self._setitem_single_column(loc, value[:, i].tolist(), pi)\n"
          ]
        }
      ]
    },
    {
      "cell_type": "code",
      "source": [
        "df.currency.value_counts()"
      ],
      "metadata": {
        "id": "VacXaPUj5yPn",
        "colab": {
          "base_uri": "https://localhost:8080/"
        },
        "outputId": "b1ff0e0e-cea5-4b74-9dd8-d57cd026cc36"
      },
      "execution_count": 84,
      "outputs": [
        {
          "output_type": "execute_result",
          "data": {
            "text/plain": [
              "USD    40562\n",
              "Name: currency, dtype: int64"
            ]
          },
          "metadata": {},
          "execution_count": 84
        }
      ]
    },
    {
      "cell_type": "code",
      "source": [
        "df=df.drop('l6', axis=1)"
      ],
      "metadata": {
        "id": "jFewIffK4_44"
      },
      "execution_count": 85,
      "outputs": []
    },
    {
      "cell_type": "code",
      "source": [
        "df['price_period'].value_counts()"
      ],
      "metadata": {
        "id": "cv9c8hLlAaxE",
        "colab": {
          "base_uri": "https://localhost:8080/"
        },
        "outputId": "898cd987-1dda-4871-c4b4-b763cc7ffdbc"
      },
      "execution_count": 86,
      "outputs": [
        {
          "output_type": "execute_result",
          "data": {
            "text/plain": [
              "Mensual    25061\n",
              "Name: price_period, dtype: int64"
            ]
          },
          "metadata": {},
          "execution_count": 86
        }
      ]
    },
    {
      "cell_type": "code",
      "source": [
        "df.ad_type.value_counts()"
      ],
      "metadata": {
        "id": "9kQSCmzNFiWI",
        "colab": {
          "base_uri": "https://localhost:8080/"
        },
        "outputId": "657c17b4-4fa7-40c3-aa32-942277b0ba5b"
      },
      "execution_count": 87,
      "outputs": [
        {
          "output_type": "execute_result",
          "data": {
            "text/plain": [
              "Propiedad    40562\n",
              "Name: ad_type, dtype: int64"
            ]
          },
          "metadata": {},
          "execution_count": 87
        }
      ]
    },
    {
      "cell_type": "markdown",
      "source": [
        "Puedo tirar tambien el price period y ad type."
      ],
      "metadata": {
        "id": "_DFrgcCaBPBh"
      }
    },
    {
      "cell_type": "code",
      "source": [
        "df.isnull().sum()"
      ],
      "metadata": {
        "colab": {
          "base_uri": "https://localhost:8080/"
        },
        "id": "eFpgC1a5c3wb",
        "outputId": "120a3221-753f-4ba5-9fb1-9f1a63306b8b"
      },
      "execution_count": 88,
      "outputs": [
        {
          "output_type": "execute_result",
          "data": {
            "text/plain": [
              "ad_type                0\n",
              "start_date             0\n",
              "end_date               0\n",
              "created_on             0\n",
              "lat                 1461\n",
              "lon                 1461\n",
              "l1                     0\n",
              "l2                     0\n",
              "l3                     0\n",
              "l4                 39202\n",
              "l5                 40562\n",
              "rooms               5517\n",
              "bedrooms            8510\n",
              "bathrooms           4851\n",
              "surface_total      20344\n",
              "surface_covered    19974\n",
              "price                  0\n",
              "currency               0\n",
              "price_period       15501\n",
              "title                  0\n",
              "description            0\n",
              "property_type          0\n",
              "operation_type         0\n",
              "dtype: int64"
            ]
          },
          "metadata": {},
          "execution_count": 88
        }
      ]
    },
    {
      "cell_type": "code",
      "source": [
        "df.dropna(subset=['price','lat','lon','l3','title','description','operation_type','surface_total','surface_covered'], inplace=True)"
      ],
      "metadata": {
        "id": "qZ7NDIA-8M0h"
      },
      "execution_count": 89,
      "outputs": []
    },
    {
      "cell_type": "code",
      "source": [
        "df.isnull().sum()"
      ],
      "metadata": {
        "colab": {
          "base_uri": "https://localhost:8080/"
        },
        "id": "FGA3aWIIc4WY",
        "outputId": "82b804a1-dab8-439c-cffc-5236898f4a9f"
      },
      "execution_count": 90,
      "outputs": [
        {
          "output_type": "execute_result",
          "data": {
            "text/plain": [
              "ad_type                0\n",
              "start_date             0\n",
              "end_date               0\n",
              "created_on             0\n",
              "lat                    0\n",
              "lon                    0\n",
              "l1                     0\n",
              "l2                     0\n",
              "l3                     0\n",
              "l4                 17796\n",
              "l5                 18625\n",
              "rooms               1585\n",
              "bedrooms            3633\n",
              "bathrooms            967\n",
              "surface_total          0\n",
              "surface_covered        0\n",
              "price                  0\n",
              "currency               0\n",
              "price_period        7517\n",
              "title                  0\n",
              "description            0\n",
              "property_type          0\n",
              "operation_type         0\n",
              "dtype: int64"
            ]
          },
          "metadata": {},
          "execution_count": 90
        }
      ]
    },
    {
      "cell_type": "code",
      "source": [
        "df.shape"
      ],
      "metadata": {
        "colab": {
          "base_uri": "https://localhost:8080/"
        },
        "id": "1A6GF1BTdDWx",
        "outputId": "c8d0064e-4739-4dab-8e40-12002a2e0e81"
      },
      "execution_count": 91,
      "outputs": [
        {
          "output_type": "execute_result",
          "data": {
            "text/plain": [
              "(18625, 23)"
            ]
          },
          "metadata": {},
          "execution_count": 91
        }
      ]
    },
    {
      "cell_type": "code",
      "source": [
        "df=df.drop('price_period', axis=1)"
      ],
      "metadata": {
        "id": "LZcda2h3BODI"
      },
      "execution_count": 92,
      "outputs": []
    },
    {
      "cell_type": "code",
      "source": [
        "df=df.drop('ad_type', axis=1)"
      ],
      "metadata": {
        "id": "deFxgd_6GJO-"
      },
      "execution_count": 93,
      "outputs": []
    },
    {
      "cell_type": "code",
      "source": [
        "df.operation_type.unique()"
      ],
      "metadata": {
        "colab": {
          "base_uri": "https://localhost:8080/"
        },
        "id": "8fw7YH2xhEYq",
        "outputId": "cc5df93e-66f5-431a-bf8d-f118637d4a94"
      },
      "execution_count": 94,
      "outputs": [
        {
          "output_type": "execute_result",
          "data": {
            "text/plain": [
              "array(['Venta', 'Alquiler', 'Alquiler temporal'], dtype=object)"
            ]
          },
          "metadata": {},
          "execution_count": 94
        }
      ]
    },
    {
      "cell_type": "code",
      "source": [
        "df=df[df.operation_type=='Venta']"
      ],
      "metadata": {
        "id": "1wF3gVwdhQXN"
      },
      "execution_count": 95,
      "outputs": []
    },
    {
      "cell_type": "code",
      "source": [
        "df.shape"
      ],
      "metadata": {
        "id": "7sTGyLEDGy97",
        "colab": {
          "base_uri": "https://localhost:8080/"
        },
        "outputId": "db2de650-d116-4ed4-b29b-992475cc7071"
      },
      "execution_count": 96,
      "outputs": [
        {
          "output_type": "execute_result",
          "data": {
            "text/plain": [
              "(17493, 21)"
            ]
          },
          "metadata": {},
          "execution_count": 96
        }
      ]
    },
    {
      "cell_type": "markdown",
      "source": [
        "<h1> Análisis del conjunto de datos\n",
        " <h2> Parte 2 Analisis de datos y creación de features.\n",
        " Aca empiezo a hacer cambios en los datos, podria ya sumar lo que voy a predecir asi los concateno y despues los separo."
      ],
      "metadata": {
        "id": "2_5rvGcqFt_Y"
      }
    },
    {
      "cell_type": "code",
      "source": [
        "df.info()"
      ],
      "metadata": {
        "colab": {
          "base_uri": "https://localhost:8080/"
        },
        "id": "kDaXJeoKjzed",
        "outputId": "fee68982-572e-46c9-b0da-d96ca9e336c1"
      },
      "execution_count": 97,
      "outputs": [
        {
          "output_type": "stream",
          "name": "stdout",
          "text": [
            "<class 'pandas.core.frame.DataFrame'>\n",
            "Index: 17493 entries, H2Dos+6eAwi02yiKp8oTAw== to 5LVooBaMXXxTkv2kEmBCXQ==\n",
            "Data columns (total 21 columns):\n",
            " #   Column           Non-Null Count  Dtype         \n",
            "---  ------           --------------  -----         \n",
            " 0   start_date       17493 non-null  datetime64[ns]\n",
            " 1   end_date         17493 non-null  datetime64[ns]\n",
            " 2   created_on       17493 non-null  object        \n",
            " 3   lat              17493 non-null  float64       \n",
            " 4   lon              17493 non-null  float64       \n",
            " 5   l1               17493 non-null  object        \n",
            " 6   l2               17493 non-null  object        \n",
            " 7   l3               17493 non-null  object        \n",
            " 8   l4               693 non-null    object        \n",
            " 9   l5               0 non-null      float64       \n",
            " 10  rooms            16145 non-null  float64       \n",
            " 11  bedrooms         14143 non-null  float64       \n",
            " 12  bathrooms        16548 non-null  float64       \n",
            " 13  surface_total    17493 non-null  float64       \n",
            " 14  surface_covered  17493 non-null  float64       \n",
            " 15  price            17493 non-null  float64       \n",
            " 16  currency         17493 non-null  object        \n",
            " 17  title            17493 non-null  object        \n",
            " 18  description      17493 non-null  object        \n",
            " 19  property_type    17493 non-null  object        \n",
            " 20  operation_type   17493 non-null  object        \n",
            "dtypes: datetime64[ns](2), float64(9), object(10)\n",
            "memory usage: 2.9+ MB\n"
          ]
        }
      ]
    },
    {
      "cell_type": "markdown",
      "source": [
        "##LAT y LON"
      ],
      "metadata": {
        "id": "elfYer_wIMD-"
      }
    },
    {
      "cell_type": "code",
      "source": [
        "\n",
        "\n",
        "df['rot_45_x'] = (0.707 * df['lat']) + (0.707 * df['lon'])\n",
        "df['rot_45_y'] = (0.707 * df['lon']) + (0.707 * df['lat'])\n",
        "df['rot_30_x'] = (0.866 * df['lat']) + (0.5 * df['lon'])\n",
        "df['rot_30_y'] = (0.866 * df['lon']) + (0.5 * df['lat'])\n",
        "\n",
        "\n"
      ],
      "metadata": {
        "id": "41VNjibYILze"
      },
      "execution_count": 98,
      "outputs": []
    },
    {
      "cell_type": "markdown",
      "source": [
        "##Atributos temporales"
      ],
      "metadata": {
        "id": "HDGNgWKvfVDh"
      }
    },
    {
      "cell_type": "code",
      "source": [
        "df['start_date']=pd.to_datetime(df['start_date'])\n",
        "df['anio_s']=pd.DatetimeIndex(df['start_date']).year\n",
        "df['mes_s']=pd.DatetimeIndex(df['start_date']).month\n",
        "df['end_date']=pd.to_datetime(df['end_date'])\n",
        "df['anio_e']=pd.DatetimeIndex(df['end_date']).year\n",
        "df['mes_e']=pd.DatetimeIndex(df['end_date']).month\n",
        "df['created_on']=pd.to_datetime(df['created_on'])\n",
        "df['anio_c']=pd.DatetimeIndex(df['created_on']).year\n",
        "df['mes_c']=pd.DatetimeIndex(df['created_on']).month"
      ],
      "metadata": {
        "id": "8-TXcJQJB4Ka"
      },
      "execution_count": 99,
      "outputs": []
    },
    {
      "cell_type": "markdown",
      "source": [
        "##Atributos De espacios"
      ],
      "metadata": {
        "id": "uUSo_vO1fWYZ"
      }
    },
    {
      "cell_type": "code",
      "source": [
        "df['logr']=np.log(df.rooms+1)"
      ],
      "metadata": {
        "id": "p4NHoogpKggT"
      },
      "execution_count": 100,
      "outputs": []
    },
    {
      "cell_type": "code",
      "source": [
        "df.logr.plot.hist()"
      ],
      "metadata": {
        "colab": {
          "base_uri": "https://localhost:8080/",
          "height": 283
        },
        "id": "EKbKsMD95Ivi",
        "outputId": "25ed42a0-d143-4de6-d080-f7673262362c"
      },
      "execution_count": 101,
      "outputs": [
        {
          "output_type": "execute_result",
          "data": {
            "text/plain": [
              "<matplotlib.axes._subplots.AxesSubplot at 0x7f2a613741d0>"
            ]
          },
          "metadata": {},
          "execution_count": 101
        },
        {
          "output_type": "display_data",
          "data": {
            "text/plain": [
              "<Figure size 432x288 with 1 Axes>"
            ],
            "image/png": "[encoded data removed]"
          },
          "metadata": {
            "needs_background": "light"
          }
        }
      ]
    },
    {
      "cell_type": "code",
      "source": [
        "df.bedrooms.value_counts()"
      ],
      "metadata": {
        "id": "2hytbjhuGqzp",
        "colab": {
          "base_uri": "https://localhost:8080/"
        },
        "outputId": "91f78cda-c74b-409e-bcec-9c3d85eccc66"
      },
      "execution_count": 102,
      "outputs": [
        {
          "output_type": "execute_result",
          "data": {
            "text/plain": [
              "1.0     5449\n",
              "2.0     4621\n",
              "3.0     2966\n",
              "4.0      800\n",
              "5.0      170\n",
              "6.0       49\n",
              "7.0       22\n",
              "8.0       18\n",
              "9.0        8\n",
              "10.0       8\n",
              "12.0       7\n",
              "15.0       4\n",
              "20.0       3\n",
              "24.0       2\n",
              "30.0       2\n",
              "14.0       2\n",
              "82.0       1\n",
              "27.0       1\n",
              "34.0       1\n",
              "64.0       1\n",
              "11.0       1\n",
              "32.0       1\n",
              "17.0       1\n",
              "23.0       1\n",
              "36.0       1\n",
              "16.0       1\n",
              "43.0       1\n",
              "13.0       1\n",
              "Name: bedrooms, dtype: int64"
            ]
          },
          "metadata": {},
          "execution_count": 102
        }
      ]
    },
    {
      "cell_type": "code",
      "source": [
        "# df.bedrooms = np.where(df.bedrooms < 1, 0.1, df.bedrooms)\n",
        "df=df[df.bedrooms>=0]"
      ],
      "metadata": {
        "id": "rW8di_wYHLmC"
      },
      "execution_count": 103,
      "outputs": []
    },
    {
      "cell_type": "code",
      "source": [
        "np.log(df.bedrooms+1).plot.hist()"
      ],
      "metadata": {
        "id": "_KnqzsoiJXyM",
        "colab": {
          "base_uri": "https://localhost:8080/",
          "height": 283
        },
        "outputId": "030d996b-05e7-4279-b53e-208e90eaaaeb"
      },
      "execution_count": 104,
      "outputs": [
        {
          "output_type": "execute_result",
          "data": {
            "text/plain": [
              "<matplotlib.axes._subplots.AxesSubplot at 0x7f2a615e2ed0>"
            ]
          },
          "metadata": {},
          "execution_count": 104
        },
        {
          "output_type": "display_data",
          "data": {
            "text/plain": [
              "<Figure size 432x288 with 1 Axes>"
            ],
            "image/png": "[encoded data removed]"
          },
          "metadata": {
            "needs_background": "light"
          }
        }
      ]
    },
    {
      "cell_type": "code",
      "source": [
        "df['logbed']=np.log(df.bedrooms+1)"
      ],
      "metadata": {
        "id": "ky2GlQpHKmUt"
      },
      "execution_count": 105,
      "outputs": []
    },
    {
      "cell_type": "code",
      "source": [
        "# np.log(df.bathrooms).plot.hist()"
      ],
      "metadata": {
        "id": "LePdKBVhKqSU"
      },
      "execution_count": 106,
      "outputs": []
    },
    {
      "cell_type": "code",
      "source": [
        "df.bedrooms.plot.hist()"
      ],
      "metadata": {
        "id": "PSN7rZSQKxSj",
        "colab": {
          "base_uri": "https://localhost:8080/",
          "height": 283
        },
        "outputId": "75920c9e-97e7-4f7a-91c4-09a03ab36ff6"
      },
      "execution_count": 107,
      "outputs": [
        {
          "output_type": "execute_result",
          "data": {
            "text/plain": [
              "<matplotlib.axes._subplots.AxesSubplot at 0x7f2a61736550>"
            ]
          },
          "metadata": {},
          "execution_count": 107
        },
        {
          "output_type": "display_data",
          "data": {
            "text/plain": [
              "<Figure size 432x288 with 1 Axes>"
            ],
            "image/png": "[encoded data removed]"
          },
          "metadata": {
            "needs_background": "light"
          }
        }
      ]
    },
    {
      "cell_type": "code",
      "source": [
        "df['logbath']=np.log(df.bathrooms+1)"
      ],
      "metadata": {
        "id": "cqGuL_rnK0z3"
      },
      "execution_count": 108,
      "outputs": []
    },
    {
      "cell_type": "code",
      "source": [
        "df.shape"
      ],
      "metadata": {
        "id": "8FSJqF_32Wcn",
        "colab": {
          "base_uri": "https://localhost:8080/"
        },
        "outputId": "163cbb77-f4fd-4d59-ff3b-46f2b6a6f293"
      },
      "execution_count": 109,
      "outputs": [
        {
          "output_type": "execute_result",
          "data": {
            "text/plain": [
              "(14143, 34)"
            ]
          },
          "metadata": {},
          "execution_count": 109
        }
      ]
    },
    {
      "cell_type": "markdown",
      "source": [
        "##Analisis de Superficie"
      ],
      "metadata": {
        "id": "Gb9oYud3fZgP"
      }
    },
    {
      "cell_type": "code",
      "source": [
        "fig = plt.figure(figsize =(10, 10))\n",
        "plt.boxplot(df.surface_covered);"
      ],
      "metadata": {
        "id": "mF_tAmYjK7uK",
        "colab": {
          "base_uri": "https://localhost:8080/",
          "height": 592
        },
        "outputId": "b6a776d1-9166-45b9-e179-74365e0b370b"
      },
      "execution_count": 110,
      "outputs": [
        {
          "output_type": "display_data",
          "data": {
            "text/plain": [
              "<Figure size 720x720 with 1 Axes>"
            ],
            "image/png": "[encoded data removed]"
          },
          "metadata": {
            "needs_background": "light"
          }
        }
      ]
    },
    {
      "cell_type": "markdown",
      "source": [
        "El maximo en mi prediccion es 600"
      ],
      "metadata": {
        "id": "iaXs8aGkf3TM"
      }
    },
    {
      "cell_type": "code",
      "source": [
        "df.shape"
      ],
      "metadata": {
        "colab": {
          "base_uri": "https://localhost:8080/"
        },
        "id": "o0HU_tWMgKg_",
        "outputId": "53a7ace9-8ded-4ac8-fee2-b8c0d2ccc914"
      },
      "execution_count": 111,
      "outputs": [
        {
          "output_type": "execute_result",
          "data": {
            "text/plain": [
              "(14143, 34)"
            ]
          },
          "metadata": {},
          "execution_count": 111
        }
      ]
    },
    {
      "cell_type": "code",
      "source": [
        "df=df[df.surface_covered<600]"
      ],
      "metadata": {
        "id": "xrwuoI8-f5Ma"
      },
      "execution_count": 112,
      "outputs": []
    },
    {
      "cell_type": "code",
      "source": [
        "df.shape"
      ],
      "metadata": {
        "colab": {
          "base_uri": "https://localhost:8080/"
        },
        "id": "Je-LmJclgLRt",
        "outputId": "ff10dfbf-1bec-4126-ad7a-7a42828183e3"
      },
      "execution_count": 113,
      "outputs": [
        {
          "output_type": "execute_result",
          "data": {
            "text/plain": [
              "(14099, 34)"
            ]
          },
          "metadata": {},
          "execution_count": 113
        }
      ]
    },
    {
      "cell_type": "code",
      "source": [
        "fig = plt.figure(figsize =(10, 10))\n",
        "plt.boxplot(df.surface_covered);"
      ],
      "metadata": {
        "colab": {
          "base_uri": "https://localhost:8080/",
          "height": 592
        },
        "id": "wLaFszwhl9dp",
        "outputId": "621e562b-e00f-41ae-83fe-0227127653bd"
      },
      "execution_count": 114,
      "outputs": [
        {
          "output_type": "display_data",
          "data": {
            "text/plain": [
              "<Figure size 720x720 with 1 Axes>"
            ],
            "image/png": "[encoded data removed]"
          },
          "metadata": {
            "needs_background": "light"
          }
        }
      ]
    },
    {
      "cell_type": "markdown",
      "source": [
        "Limpio algunos outliers de superficie cubierta."
      ],
      "metadata": {
        "id": "StGYBXGl2FDN"
      }
    },
    {
      "cell_type": "code",
      "source": [
        "df.shape"
      ],
      "metadata": {
        "colab": {
          "base_uri": "https://localhost:8080/"
        },
        "id": "ITyBxGhaaR4A",
        "outputId": "9bc4108f-4a05-4f4c-d4bc-04793ac69f85"
      },
      "execution_count": 115,
      "outputs": [
        {
          "output_type": "execute_result",
          "data": {
            "text/plain": [
              "(14099, 34)"
            ]
          },
          "metadata": {},
          "execution_count": 115
        }
      ]
    },
    {
      "cell_type": "code",
      "source": [
        "fig = plt.figure(figsize =(10, 10))\n",
        "plt.boxplot(df.surface_total);"
      ],
      "metadata": {
        "colab": {
          "base_uri": "https://localhost:8080/",
          "height": 592
        },
        "id": "5VeAJJPbmTsk",
        "outputId": "e357ccfc-1420-4884-92b5-74db5fc307fe"
      },
      "execution_count": 116,
      "outputs": [
        {
          "output_type": "display_data",
          "data": {
            "text/plain": [
              "<Figure size 720x720 with 1 Axes>"
            ],
            "image/png": "[encoded data removed]"
          },
          "metadata": {
            "needs_background": "light"
          }
        }
      ]
    },
    {
      "cell_type": "code",
      "source": [
        "df=df[df.surface_total<600]"
      ],
      "metadata": {
        "id": "XHtG_A1KmbOt"
      },
      "execution_count": 117,
      "outputs": []
    },
    {
      "cell_type": "code",
      "source": [
        "df.shape"
      ],
      "metadata": {
        "colab": {
          "base_uri": "https://localhost:8080/"
        },
        "id": "wP_QtrmumeIX",
        "outputId": "7127ee62-bd8e-49bf-932f-85c8bb113694"
      },
      "execution_count": 118,
      "outputs": [
        {
          "output_type": "execute_result",
          "data": {
            "text/plain": [
              "(14058, 34)"
            ]
          },
          "metadata": {},
          "execution_count": 118
        }
      ]
    },
    {
      "cell_type": "code",
      "source": [
        "fig = plt.figure(figsize =(10, 10))\n",
        "plt.boxplot(df.surface_total);"
      ],
      "metadata": {
        "colab": {
          "base_uri": "https://localhost:8080/",
          "height": 592
        },
        "id": "U-pS8EpQmhmj",
        "outputId": "0401b57f-6b58-4589-e1da-355a0a4bf176"
      },
      "execution_count": 119,
      "outputs": [
        {
          "output_type": "display_data",
          "data": {
            "text/plain": [
              "<Figure size 720x720 with 1 Axes>"
            ],
            "image/png": "[encoded data removed]"
          },
          "metadata": {
            "needs_background": "light"
          }
        }
      ]
    },
    {
      "cell_type": "code",
      "source": [
        "np.log(df.surface_covered).plot.hist()"
      ],
      "metadata": {
        "id": "_EDNaRQX17__",
        "colab": {
          "base_uri": "https://localhost:8080/",
          "height": 283
        },
        "outputId": "5243f7bf-c379-4769-fd41-918b3702c67c"
      },
      "execution_count": 120,
      "outputs": [
        {
          "output_type": "execute_result",
          "data": {
            "text/plain": [
              "<matplotlib.axes._subplots.AxesSubplot at 0x7f2a5ed4bd50>"
            ]
          },
          "metadata": {},
          "execution_count": 120
        },
        {
          "output_type": "display_data",
          "data": {
            "text/plain": [
              "<Figure size 432x288 with 1 Axes>"
            ],
            "image/png": "[encoded data removed]"
          },
          "metadata": {
            "needs_background": "light"
          }
        }
      ]
    },
    {
      "cell_type": "code",
      "source": [
        "df['logsupcov']=np.log(df.surface_covered+1)"
      ],
      "metadata": {
        "id": "zfSBqgCR33yK"
      },
      "execution_count": 121,
      "outputs": []
    },
    {
      "cell_type": "code",
      "source": [
        "df.shape"
      ],
      "metadata": {
        "id": "LO5QQpDa3Jwh",
        "colab": {
          "base_uri": "https://localhost:8080/"
        },
        "outputId": "5d06df39-a077-46b0-e7ae-379f0875c5af"
      },
      "execution_count": 122,
      "outputs": [
        {
          "output_type": "execute_result",
          "data": {
            "text/plain": [
              "(14058, 35)"
            ]
          },
          "metadata": {},
          "execution_count": 122
        }
      ]
    },
    {
      "cell_type": "code",
      "source": [
        "# df=df[df.surface_covered<df.surface_covered.quantile(.9999)]\n",
        "# df.surface_covered.plot.hist()\n",
        "\n",
        "# df.shape (405996, 24) de original (834056, 24)\n"
      ],
      "metadata": {
        "id": "xTYH2jLs1T4d"
      },
      "execution_count": 123,
      "outputs": []
    },
    {
      "cell_type": "code",
      "source": [
        "np.log(df.surface_total).plot.hist()"
      ],
      "metadata": {
        "id": "K4gsEmGy4DZ_",
        "colab": {
          "base_uri": "https://localhost:8080/",
          "height": 285
        },
        "outputId": "7f733b89-7f83-4905-80b0-4c7c1d9ad516"
      },
      "execution_count": 124,
      "outputs": [
        {
          "output_type": "execute_result",
          "data": {
            "text/plain": [
              "<matplotlib.axes._subplots.AxesSubplot at 0x7f2a5ecdae10>"
            ]
          },
          "metadata": {},
          "execution_count": 124
        },
        {
          "output_type": "display_data",
          "data": {
            "text/plain": [
              "<Figure size 432x288 with 1 Axes>"
            ],
            "image/png": "[encoded data removed]"
          },
          "metadata": {
            "needs_background": "light"
          }
        }
      ]
    },
    {
      "cell_type": "code",
      "source": [
        "df.surface_total.plot.hist()"
      ],
      "metadata": {
        "id": "nWMc6Cf94RPr",
        "colab": {
          "base_uri": "https://localhost:8080/",
          "height": 283
        },
        "outputId": "5e0e4cba-b53d-4d4d-d7e7-3bcaa950ae7d"
      },
      "execution_count": 125,
      "outputs": [
        {
          "output_type": "execute_result",
          "data": {
            "text/plain": [
              "<matplotlib.axes._subplots.AxesSubplot at 0x7f2a5ec71bd0>"
            ]
          },
          "metadata": {},
          "execution_count": 125
        },
        {
          "output_type": "display_data",
          "data": {
            "text/plain": [
              "<Figure size 432x288 with 1 Axes>"
            ],
            "image/png": "[encoded data removed]"
          },
          "metadata": {
            "needs_background": "light"
          }
        }
      ]
    },
    {
      "cell_type": "code",
      "source": [
        "df['logsuptot']=np.log(df.surface_total+1)"
      ],
      "metadata": {
        "id": "qWRozk8g4VTD"
      },
      "execution_count": 126,
      "outputs": []
    },
    {
      "cell_type": "markdown",
      "source": [
        "##Observacion de los ln"
      ],
      "metadata": {
        "id": "Xi6zIw8Qgn0Z"
      }
    },
    {
      "cell_type": "code",
      "source": [
        "df.l2.unique()"
      ],
      "metadata": {
        "id": "yJDIMNJZ9h13",
        "colab": {
          "base_uri": "https://localhost:8080/"
        },
        "outputId": "3353d62c-bd50-4ae0-a566-a2bc93dd9489"
      },
      "execution_count": 127,
      "outputs": [
        {
          "output_type": "execute_result",
          "data": {
            "text/plain": [
              "array(['Capital Federal'], dtype=object)"
            ]
          },
          "metadata": {},
          "execution_count": 127
        }
      ]
    },
    {
      "cell_type": "code",
      "source": [
        "df.l1.unique()"
      ],
      "metadata": {
        "id": "62DK8W8iU92t",
        "colab": {
          "base_uri": "https://localhost:8080/"
        },
        "outputId": "1a9005e0-235e-4dea-8485-8e28a582f26c"
      },
      "execution_count": 128,
      "outputs": [
        {
          "output_type": "execute_result",
          "data": {
            "text/plain": [
              "array(['Argentina'], dtype=object)"
            ]
          },
          "metadata": {},
          "execution_count": 128
        }
      ]
    },
    {
      "cell_type": "code",
      "source": [
        "df.l3.value_counts()"
      ],
      "metadata": {
        "id": "bd9XJ0oz9kwn",
        "colab": {
          "base_uri": "https://localhost:8080/"
        },
        "outputId": "58c9f78d-e571-4d7e-966a-0fa73c26f40d"
      },
      "execution_count": 129,
      "outputs": [
        {
          "output_type": "execute_result",
          "data": {
            "text/plain": [
              "Palermo                2194\n",
              "Belgrano               1434\n",
              "Caballito              1241\n",
              "Recoleta               1049\n",
              "Villa Urquiza           629\n",
              "Almagro                 575\n",
              "Nuñez                   528\n",
              "Flores                  511\n",
              "Villa Crespo            464\n",
              "Balvanera               412\n",
              "Colegiales              332\n",
              "Villa Devoto            313\n",
              "Villa del Parque        310\n",
              "Saavedra                299\n",
              "Puerto Madero           247\n",
              "Retiro                  240\n",
              "San Nicolás             225\n",
              "San Cristobal           213\n",
              "Barracas                212\n",
              "Boedo                   205\n",
              "San Telmo               204\n",
              "Coghlan                 196\n",
              "Floresta                188\n",
              "Parque Chacabuco        166\n",
              "Monserrat               139\n",
              "Villa Luro              139\n",
              "Mataderos               124\n",
              "Parque Patricios        123\n",
              "Villa Ortuzar           119\n",
              "Chacarita               107\n",
              "Villa Lugano            106\n",
              "Liniers                 100\n",
              "Villa General Mitre      92\n",
              "Monte Castro             86\n",
              "Parque Chas              79\n",
              "Villa Santa Rita         77\n",
              "Constitución             74\n",
              "Paternal                 72\n",
              "Parque Avellaneda        68\n",
              "Boca                     64\n",
              "Versalles                41\n",
              "Agronomía                33\n",
              "Villa Real               28\n",
              "Name: l3, dtype: int64"
            ]
          },
          "metadata": {},
          "execution_count": 129
        }
      ]
    },
    {
      "cell_type": "code",
      "source": [
        "df.property_type.unique()"
      ],
      "metadata": {
        "id": "B8APtRu3-x6y",
        "colab": {
          "base_uri": "https://localhost:8080/"
        },
        "outputId": "370eda00-b984-44f7-ad88-dd777ac1fecc"
      },
      "execution_count": 130,
      "outputs": [
        {
          "output_type": "execute_result",
          "data": {
            "text/plain": [
              "array(['PH', 'Departamento', 'Lote', 'Local comercial', 'Casa', 'Oficina',\n",
              "       'Otro', 'Depósito', 'Casa de campo'], dtype=object)"
            ]
          },
          "metadata": {},
          "execution_count": 130
        }
      ]
    },
    {
      "cell_type": "markdown",
      "source": [
        "##Palabras clave"
      ],
      "metadata": {
        "id": "ypjXJafVguD7"
      }
    },
    {
      "cell_type": "code",
      "source": [
        "df[\"Nuevo\"] = df[\"description\"].str.lower().str.contains(\"excel\")\n",
        "\n",
        "df[\"1am\"] = df[\"description\"].str.lower().str.contains(\"1 ambiente\") | df[\"description\"].str.lower().str.contains(\"Ambientes 1\")\n",
        "df[\"2am\"] = df[\"description\"].str.lower().str.contains(\"2 ambientes\") | df[\"description\"].str.lower().str.contains(\"Ambientes 2\")\n",
        "df[\"3am\"] = df[\"description\"].str.lower().str.contains(\"3 ambientes\") | df[\"description\"].str.lower().str.contains(\"Ambientes 3\")\n",
        "df[\"4am\"] = df[\"description\"].str.lower().str.contains(\"4 ambientes\") | df[\"description\"].str.lower().str.contains(\"Ambientes 4\")\n",
        "df[\"5am\"] = df[\"description\"].str.lower().str.contains(\"5 ambientes\") | df[\"description\"].str.lower().str.contains(\"Ambientes 5\")\n",
        "\n",
        "df[\"Patio\"] = df[\"description\"].str.lower().str.contains(\"patio\")\n",
        "df[\"Balcon\"] = df[\"description\"].str.lower().str.contains(\"balcon\")\n",
        "df[\"Pileta\"] = df[\"description\"].str.lower().str.contains(\"pileta\")\n",
        "df[\"Reciclado\"] = df[\"description\"].str.lower().str.contains(\"reciclado\")\n",
        "\n",
        "df[\"cocina\"] = df[\"description\"].str.lower().str.contains(\"cocina\")\n",
        "df[\"escri\"] = df[\"description\"].str.lower().str.contains(\"escritorio\")\n",
        "df[\"apto\"] = df[\"description\"].str.lower().str.contains(\"apto profesional\")\n",
        "df[\"laundry\"] = df[\"description\"].str.lower().str.contains(\"laundry\")\n",
        "df[\"parri\"] = df[\"description\"].str.lower().str.contains(\"parrilla\")\n",
        "\n",
        "df[\"mascotas\"] = df[\"description\"].str.lower().str.contains(\"mascotas\")\n",
        "df[\"Aire Acondicionado\"] = df[\"description\"].str.lower().str.contains(\"aire acondicionado\")\n",
        "df[\"famroom\"] = df[\"description\"].str.lower().str.contains(\"family room\")\n",
        "df[\"gym\"] = df[\"description\"].str.lower().str.contains(\"gimnasio\") | df[\"description\"].str.lower().str.contains(\"gym\")\n",
        "df[\"SUM\"] = df[\"description\"].str.lower().str.contains(\"SUM\")\n",
        "\n",
        "df[\"Seguridad\"] = df[\"description\"].str.lower().str.contains(\"seguridad\")\n",
        "df[\"Alarma\"] = df[\"description\"].str.lower().str.contains(\"alarma\")\n",
        "df[\"calefa\"] = df[\"description\"].str.lower().str.contains(\"calefación\") \n",
        "df[\"parri\"] = df[\"description\"].str.lower().str.contains(\"parrilla\")\n",
        "\n",
        "\n",
        "df[\"Gas\"] = df[\"description\"].str.lower().str.contains(\"gas\")\n",
        "df[\"Luz\"] = df[\"description\"].str.lower().str.contains(\"luz\")\n"
      ],
      "metadata": {
        "id": "ot_gPA5BL85w"
      },
      "execution_count": 131,
      "outputs": []
    },
    {
      "cell_type": "code",
      "source": [
        "df.Nuevo.value_counts()"
      ],
      "metadata": {
        "id": "WKv-WqcgZM77",
        "colab": {
          "base_uri": "https://localhost:8080/"
        },
        "outputId": "07cdd37b-f6d1-4135-b037-3d4631af463f"
      },
      "execution_count": 132,
      "outputs": [
        {
          "output_type": "execute_result",
          "data": {
            "text/plain": [
              "False    7209\n",
              "True     6849\n",
              "Name: Nuevo, dtype: int64"
            ]
          },
          "metadata": {},
          "execution_count": 132
        }
      ]
    },
    {
      "cell_type": "code",
      "source": [
        "df['1am'].value_counts()"
      ],
      "metadata": {
        "id": "K6bJIjL_Wjrs",
        "colab": {
          "base_uri": "https://localhost:8080/"
        },
        "outputId": "736b4eee-d028-482c-d4e8-e396867c0e7e"
      },
      "execution_count": 133,
      "outputs": [
        {
          "output_type": "execute_result",
          "data": {
            "text/plain": [
              "False    13889\n",
              "True       169\n",
              "Name: 1am, dtype: int64"
            ]
          },
          "metadata": {},
          "execution_count": 133
        }
      ]
    },
    {
      "cell_type": "code",
      "source": [
        "df['2am'].value_counts()"
      ],
      "metadata": {
        "id": "3lW_C_xEWrxS",
        "colab": {
          "base_uri": "https://localhost:8080/"
        },
        "outputId": "4caa8ae3-8e56-4f42-f790-813d0c781f25"
      },
      "execution_count": 134,
      "outputs": [
        {
          "output_type": "execute_result",
          "data": {
            "text/plain": [
              "False    11212\n",
              "True      2846\n",
              "Name: 2am, dtype: int64"
            ]
          },
          "metadata": {},
          "execution_count": 134
        }
      ]
    },
    {
      "cell_type": "code",
      "source": [
        "df['3am'].value_counts()"
      ],
      "metadata": {
        "id": "vZDzg0U8WuKr",
        "colab": {
          "base_uri": "https://localhost:8080/"
        },
        "outputId": "c5530377-f371-4fc0-a743-6b717213d6b6"
      },
      "execution_count": 135,
      "outputs": [
        {
          "output_type": "execute_result",
          "data": {
            "text/plain": [
              "False    10952\n",
              "True      3106\n",
              "Name: 3am, dtype: int64"
            ]
          },
          "metadata": {},
          "execution_count": 135
        }
      ]
    },
    {
      "cell_type": "code",
      "source": [
        "df['4am'].value_counts()"
      ],
      "metadata": {
        "colab": {
          "base_uri": "https://localhost:8080/"
        },
        "id": "EIVukwQYdmMV",
        "outputId": "fd4e9750-57e8-43c8-8d40-1229e3432a11"
      },
      "execution_count": 136,
      "outputs": [
        {
          "output_type": "execute_result",
          "data": {
            "text/plain": [
              "False    12484\n",
              "True      1574\n",
              "Name: 4am, dtype: int64"
            ]
          },
          "metadata": {},
          "execution_count": 136
        }
      ]
    },
    {
      "cell_type": "code",
      "source": [
        "df['Patio'].value_counts()"
      ],
      "metadata": {
        "colab": {
          "base_uri": "https://localhost:8080/"
        },
        "id": "ATV01r1NdzOV",
        "outputId": "ca6aa98d-2eac-4b1d-b137-dfa0d81e2986"
      },
      "execution_count": 137,
      "outputs": [
        {
          "output_type": "execute_result",
          "data": {
            "text/plain": [
              "False    11524\n",
              "True      2534\n",
              "Name: Patio, dtype: int64"
            ]
          },
          "metadata": {},
          "execution_count": 137
        }
      ]
    },
    {
      "cell_type": "code",
      "source": [
        "df['Balcon'].value_counts()"
      ],
      "metadata": {
        "colab": {
          "base_uri": "https://localhost:8080/"
        },
        "id": "qUfCwCcmeQ9G",
        "outputId": "b0bca0fa-633b-4c88-c1ee-5f109288c641"
      },
      "execution_count": 138,
      "outputs": [
        {
          "output_type": "execute_result",
          "data": {
            "text/plain": [
              "False    11423\n",
              "True      2635\n",
              "Name: Balcon, dtype: int64"
            ]
          },
          "metadata": {},
          "execution_count": 138
        }
      ]
    },
    {
      "cell_type": "code",
      "source": [
        "df['Pileta'].value_counts()"
      ],
      "metadata": {
        "colab": {
          "base_uri": "https://localhost:8080/"
        },
        "id": "-KwXqlibeYqK",
        "outputId": "9105eea4-2864-48e0-c6b5-ade7d64e0305"
      },
      "execution_count": 139,
      "outputs": [
        {
          "output_type": "execute_result",
          "data": {
            "text/plain": [
              "False    12093\n",
              "True      1965\n",
              "Name: Pileta, dtype: int64"
            ]
          },
          "metadata": {},
          "execution_count": 139
        }
      ]
    },
    {
      "cell_type": "code",
      "source": [
        "df['Reciclado'].value_counts()"
      ],
      "metadata": {
        "colab": {
          "base_uri": "https://localhost:8080/"
        },
        "id": "JRMjwTBFejHq",
        "outputId": "d4afc87f-77d3-40b8-8d85-4dda5ab3f647"
      },
      "execution_count": 140,
      "outputs": [
        {
          "output_type": "execute_result",
          "data": {
            "text/plain": [
              "False    12683\n",
              "True      1375\n",
              "Name: Reciclado, dtype: int64"
            ]
          },
          "metadata": {},
          "execution_count": 140
        }
      ]
    },
    {
      "cell_type": "markdown",
      "source": [
        "##Algunas cuentitas:"
      ],
      "metadata": {
        "id": "3GGe6TV2Y8fu"
      }
    },
    {
      "cell_type": "code",
      "source": [
        "df['r/sup']=df['rooms']/df['surface_covered']"
      ],
      "metadata": {
        "id": "tkuHKcqSY8Vq"
      },
      "execution_count": 141,
      "outputs": []
    },
    {
      "cell_type": "code",
      "source": [
        "np.log((df.bedrooms/df.rooms)+1).plot.hist()"
      ],
      "metadata": {
        "colab": {
          "base_uri": "https://localhost:8080/",
          "height": 283
        },
        "id": "Wkl8cKV07RkS",
        "outputId": "1af7486c-9bbd-40ef-eefa-cee92da049ba"
      },
      "execution_count": 142,
      "outputs": [
        {
          "output_type": "execute_result",
          "data": {
            "text/plain": [
              "<matplotlib.axes._subplots.AxesSubplot at 0x7f2a5eba3790>"
            ]
          },
          "metadata": {},
          "execution_count": 142
        },
        {
          "output_type": "display_data",
          "data": {
            "text/plain": [
              "<Figure size 432x288 with 1 Axes>"
            ],
            "image/png": "[encoded data removed]"
          },
          "metadata": {
            "needs_background": "light"
          }
        }
      ]
    },
    {
      "cell_type": "markdown",
      "source": [
        "# Tratamiento de los datos"
      ],
      "metadata": {
        "id": "zjaTnfxkyvo8"
      }
    },
    {
      "cell_type": "code",
      "source": [
        "df.columns"
      ],
      "metadata": {
        "id": "h_0l_7JYFama",
        "colab": {
          "base_uri": "https://localhost:8080/"
        },
        "outputId": "829dd0e4-83be-4f2f-ce07-fdbd7b285456"
      },
      "execution_count": 143,
      "outputs": [
        {
          "output_type": "execute_result",
          "data": {
            "text/plain": [
              "Index(['start_date', 'end_date', 'created_on', 'lat', 'lon', 'l1', 'l2', 'l3',\n",
              "       'l4', 'l5', 'rooms', 'bedrooms', 'bathrooms', 'surface_total',\n",
              "       'surface_covered', 'price', 'currency', 'title', 'description',\n",
              "       'property_type', 'operation_type', 'rot_45_x', 'rot_45_y', 'rot_30_x',\n",
              "       'rot_30_y', 'anio_s', 'mes_s', 'anio_e', 'mes_e', 'anio_c', 'mes_c',\n",
              "       'logr', 'logbed', 'logbath', 'logsupcov', 'logsuptot', 'Nuevo', '1am',\n",
              "       '2am', '3am', '4am', '5am', 'Patio', 'Balcon', 'Pileta', 'Reciclado',\n",
              "       'cocina', 'escri', 'apto', 'laundry', 'parri', 'mascotas',\n",
              "       'Aire Acondicionado', 'famroom', 'gym', 'SUM', 'Seguridad', 'Alarma',\n",
              "       'calefa', 'Gas', 'Luz', 'r/sup'],\n",
              "      dtype='object')"
            ]
          },
          "metadata": {},
          "execution_count": 143
        }
      ]
    },
    {
      "cell_type": "markdown",
      "source": [
        "Se modifica el precio usando log para aplanar."
      ],
      "metadata": {
        "id": "dAE8kUqqhGQc"
      }
    },
    {
      "cell_type": "code",
      "source": [
        "df.price=np.log(df.price)"
      ],
      "metadata": {
        "id": "RNHwuX82XQ7b"
      },
      "execution_count": 144,
      "outputs": []
    },
    {
      "cell_type": "markdown",
      "source": [
        "# Modelización"
      ],
      "metadata": {
        "id": "i2jRJmQ-tD4Z"
      }
    },
    {
      "cell_type": "code",
      "source": [
        "from sklearn.model_selection import train_test_split\n",
        "# Separate target from predictors\n",
        "numerical_cols=['rooms', 'bedrooms', 'bathrooms','r/sup']\n",
        "numerical_cols2=['logsuptot', 'logsupcov']\n",
        "numerical_cols3=['rot_45_x', 'rot_45_y', 'rot_30_x',\n",
        "       'rot_30_y']\n",
        "categorical_cols=['l3','property_type','Nuevo', '1am',\n",
        "       '2am', '3am', '4am', '5am', 'Patio', 'Balcon', 'Pileta', 'Reciclado',\n",
        "       'cocina', 'escri', 'apto', 'laundry', 'parri', 'mascotas',\n",
        "       'Aire Acondicionado', 'famroom', 'gym', 'SUM', 'Seguridad', 'Alarma',\n",
        "       'calefa', 'Gas', 'Luz']\n",
        "my_cols = categorical_cols + numerical_cols + numerical_cols2 + numerical_cols3\n",
        "y = df.price\n",
        "X = df[my_cols]\n",
        "# X = df.drop(['price'], axis=1)\n",
        "\n",
        "# Divide data into training and validation subsets\n",
        "X_train_full, X_valid_full, y_train, y_valid = train_test_split(X, y, train_size=0.8, test_size=0.2,random_state=42)\n",
        "\n",
        "\n",
        "                                                                \n",
        "\n",
        "X_train = X_train_full[my_cols].copy()\n",
        "X_valid = X_valid_full[my_cols].copy()"
      ],
      "metadata": {
        "id": "iGQiXenAAGSX"
      },
      "execution_count": 145,
      "outputs": []
    },
    {
      "cell_type": "code",
      "source": [
        "def log_transform(x):\n",
        "    return np.log(x + 1)"
      ],
      "metadata": {
        "id": "_Fu2KNNg9MZX"
      },
      "execution_count": 146,
      "outputs": []
    },
    {
      "cell_type": "code",
      "source": [
        "from sklearn.compose import ColumnTransformer\n",
        "from sklearn.pipeline import Pipeline\n",
        "from sklearn.impute import SimpleImputer\n",
        "from sklearn.preprocessing import OneHotEncoder\n",
        "from sklearn.preprocessing import RobustScaler\n",
        "from sklearn.preprocessing import FunctionTransformer\n",
        "from sklearn.preprocessing import StandardScaler\n",
        "\n",
        "\n",
        "# Preprocessing for numerical data\n",
        "scaler = StandardScaler()\n",
        "scaler2 = RobustScaler()\n",
        "# Define a pipeline to search for the best combination of PCA truncation\n",
        "# and classifier regularization.\n",
        "\n",
        "\n",
        "\n",
        "transformer = FunctionTransformer(log_transform)\n",
        "numerical_transformer = Pipeline(steps=[('numimputer', SimpleImputer(strategy='mean')),\n",
        "                                        ('scaler', scaler)])\n",
        "# Preprocessing for numerical data 2\n",
        "numerical_transformer2 = Pipeline(steps=[('numimputer2', SimpleImputer(strategy='mean'))]\n",
        "                                        )\n",
        "\n",
        "# Preprocessing for categorical data\n",
        "categorical_transformer = Pipeline(steps=[\n",
        "    ('imputer', SimpleImputer(strategy='most_frequent')),\n",
        "    ('onehot', OneHotEncoder(handle_unknown='ignore')),\n",
        "])\n",
        "\n",
        "# Bundle preprocessing for numerical and categorical data\n",
        "preprocessor = ColumnTransformer(\n",
        "    transformers=[\n",
        "        ('num', numerical_transformer, numerical_cols),\n",
        "         ('num2', numerical_transformer2, numerical_cols2),\n",
        "        #  ('num3', numerical_transformer3, numerical_cols3),\n",
        "        ('cat', categorical_transformer, categorical_cols)\n",
        "    ])"
      ],
      "metadata": {
        "id": "fbVoAKtT-VEE"
      },
      "execution_count": 147,
      "outputs": []
    },
    {
      "cell_type": "code",
      "source": [
        "from sklearn.ensemble import RandomForestRegressor\n",
        "\n",
        "model = RandomForestRegressor(n_estimators=200,max_depth=15, random_state=42, n_jobs=-1)\n"
      ],
      "metadata": {
        "id": "Yd5xRFfJ_RG9"
      },
      "execution_count": 148,
      "outputs": []
    },
    {
      "cell_type": "code",
      "source": [
        "df.shape"
      ],
      "metadata": {
        "id": "EABa6PVMYZHB",
        "colab": {
          "base_uri": "https://localhost:8080/"
        },
        "outputId": "6bac6934-2ddc-45e4-dcfa-6588630903f3"
      },
      "execution_count": 149,
      "outputs": [
        {
          "output_type": "execute_result",
          "data": {
            "text/plain": [
              "(14058, 62)"
            ]
          },
          "metadata": {},
          "execution_count": 149
        }
      ]
    },
    {
      "cell_type": "code",
      "source": [
        "\n",
        "# Bundle preprocessing and modeling code in a pipeline\n",
        "my_pipeline = Pipeline(steps=[('preprocessor', preprocessor),\n",
        "                              ('model', model)\n",
        "                             ])\n",
        "\n",
        "# # Preprocessing of training data, fit model \n",
        "my_pipeline.fit(X_train, y_train)\n",
        "\n",
        "# # Preprocessing of validation data, get predictions\n",
        "preds = my_pipeline.predict(X_valid)\n",
        "\n",
        "# Evaluate the model\n",
        "score = sk.model_selection.cross_val_score(my_pipeline, X_train, y=y_train, cv=4, scoring='neg_root_mean_squared_error',error_score='raise')\n",
        "# score = mean_absolute_error(y_valid, preds)\n",
        "\n",
        "print('Score:', score)"
      ],
      "metadata": {
        "id": "xp4hyegT9dVt",
        "colab": {
          "base_uri": "https://localhost:8080/"
        },
        "outputId": "484e9bb9-1e4d-465d-973e-089847371b0d"
      },
      "execution_count": 150,
      "outputs": [
        {
          "output_type": "stream",
          "name": "stdout",
          "text": [
            "Score: [-0.23754743 -0.24795723 -0.24564661 -0.24811277]\n"
          ]
        }
      ]
    },
    {
      "cell_type": "code",
      "source": [
        "y2=np.exp(preds)"
      ],
      "metadata": {
        "id": "fqwKfCBfl6EF"
      },
      "execution_count": 151,
      "outputs": []
    },
    {
      "cell_type": "code",
      "source": [
        "from sklearn.metrics import mean_absolute_error\n",
        "score2 = mean_absolute_error(np.exp(y_valid),np.exp(preds))\n",
        "print('Score2:', score2)"
      ],
      "metadata": {
        "id": "y_jGLsJ8Y_A9",
        "colab": {
          "base_uri": "https://localhost:8080/"
        },
        "outputId": "42bf6678-40c6-4377-a507-6262f4def582"
      },
      "execution_count": 152,
      "outputs": [
        {
          "output_type": "stream",
          "name": "stdout",
          "text": [
            "Score2: 41354.742583676656\n"
          ]
        }
      ]
    },
    {
      "cell_type": "code",
      "source": [
        "#Esto es el R^2\n",
        "score3 = my_pipeline.score(X_train,y_train)\n",
        "print('Score3:', score3)"
      ],
      "metadata": {
        "colab": {
          "base_uri": "https://localhost:8080/"
        },
        "id": "XnSZMPW8NNwy",
        "outputId": "e43007e5-df66-47d3-d7a6-0aa7580b7444"
      },
      "execution_count": 153,
      "outputs": [
        {
          "output_type": "stream",
          "name": "stdout",
          "text": [
            "Score3: 0.953992543485163\n"
          ]
        }
      ]
    },
    {
      "cell_type": "code",
      "source": [
        "from sklearn.metrics import mean_squared_error\n",
        "mse = mean_squared_error(np.exp(y_valid),np.exp(preds))\n",
        "\n",
        "score4 = -math.sqrt(mse)\n",
        "print('Score4:', score4)"
      ],
      "metadata": {
        "colab": {
          "base_uri": "https://localhost:8080/"
        },
        "id": "hX8T5MLhYLSA",
        "outputId": "1391aff7-00d5-40a1-bcb4-0add2f7def7f"
      },
      "execution_count": 154,
      "outputs": [
        {
          "output_type": "stream",
          "name": "stdout",
          "text": [
            "Score4: -95380.1530393942\n"
          ]
        }
      ]
    },
    {
      "cell_type": "code",
      "source": [
        "np.exp(y_valid.head(20))"
      ],
      "metadata": {
        "colab": {
          "base_uri": "https://localhost:8080/"
        },
        "id": "RInCUlfBcN2k",
        "outputId": "8cf088a9-729f-443d-b50a-0db6d37ab166"
      },
      "execution_count": 155,
      "outputs": [
        {
          "output_type": "execute_result",
          "data": {
            "text/plain": [
              "id\n",
              "4BrOVwsV/yoFhvp/T3LJ4Q==    1980000.0\n",
              "y0zk9jQECTig9hGxnAKLBQ==     234000.0\n",
              "S5eUp4QkKCUBsI8fKh1mxg==     235600.0\n",
              "J/ORJfJ9feuiG9/S2NYt1A==     390630.0\n",
              "OD9F2BgfzVxQHXWXZJe9Bg==     199230.0\n",
              "TESs1koxkWfe+2D3Vj1Gug==     193820.0\n",
              "AkVEoqPkVm9T9WDONtAkuw==      46145.9\n",
              "0PcHCOctnUGMfcBTr5ipHQ==     126000.0\n",
              "95S2XjF+IpQNj1SCefRCgw==     112500.0\n",
              "Ksg6FD76MIM9KeTS3oBbPg==     405000.0\n",
              "n1OKGqWZSk0vI0bLTZvEWQ==     209250.0\n",
              "ikCP3UpzfeRTciBOdiDiNg==     118016.0\n",
              "oW8ZAGG8iZVxGu+p+gFupA==     243600.0\n",
              "MXPB6HARV6YO7bxbV4RK4A==     112500.0\n",
              "nFxCJL7NxnMb+NI7vtRZpg==     207000.0\n",
              "wOe1KzEl1FMuuFr92P9Hlw==     115360.0\n",
              "jUo9Py8C/WLdfefuIBe7uA==     225000.0\n",
              "feF0LgVY6RQJv4+wSjqQvw==      80910.0\n",
              "bCtzUjKy5uQLBmoGxtelMg==      50000.0\n",
              "DO2Xt22n1V1pVYMeMieumw==     213900.0\n",
              "Name: price, dtype: float64"
            ]
          },
          "metadata": {},
          "execution_count": 155
        }
      ]
    },
    {
      "cell_type": "code",
      "source": [
        "pred=pd.DataFrame(np.exp(preds), index=y_valid.index)\n",
        "pred.head(20)"
      ],
      "metadata": {
        "colab": {
          "base_uri": "https://localhost:8080/",
          "height": 708
        },
        "id": "y04BCs3mcSkR",
        "outputId": "81b74550-1c01-46b1-da28-38b4f161c2e2"
      },
      "execution_count": 156,
      "outputs": [
        {
          "output_type": "execute_result",
          "data": {
            "text/plain": [
              "                                     0\n",
              "id                                    \n",
              "4BrOVwsV/yoFhvp/T3LJ4Q==  1.957261e+06\n",
              "y0zk9jQECTig9hGxnAKLBQ==  2.712201e+05\n",
              "S5eUp4QkKCUBsI8fKh1mxg==  1.863806e+05\n",
              "J/ORJfJ9feuiG9/S2NYt1A==  3.291811e+05\n",
              "OD9F2BgfzVxQHXWXZJe9Bg==  1.856269e+05\n",
              "TESs1koxkWfe+2D3Vj1Gug==  2.635926e+05\n",
              "AkVEoqPkVm9T9WDONtAkuw==  4.658398e+04\n",
              "0PcHCOctnUGMfcBTr5ipHQ==  1.232080e+05\n",
              "95S2XjF+IpQNj1SCefRCgw==  1.160215e+05\n",
              "Ksg6FD76MIM9KeTS3oBbPg==  3.005448e+05\n",
              "n1OKGqWZSk0vI0bLTZvEWQ==  1.934990e+05\n",
              "ikCP3UpzfeRTciBOdiDiNg==  8.798266e+04\n",
              "oW8ZAGG8iZVxGu+p+gFupA==  2.171832e+05\n",
              "MXPB6HARV6YO7bxbV4RK4A==  1.140507e+05\n",
              "nFxCJL7NxnMb+NI7vtRZpg==  2.432428e+05\n",
              "wOe1KzEl1FMuuFr92P9Hlw==  1.248654e+05\n",
              "jUo9Py8C/WLdfefuIBe7uA==  2.182584e+05\n",
              "feF0LgVY6RQJv4+wSjqQvw==  9.810468e+04\n",
              "bCtzUjKy5uQLBmoGxtelMg==  8.698647e+04\n",
              "DO2Xt22n1V1pVYMeMieumw==  2.379818e+05"
            ],
            "text/html": [
              "\n",
              "  <div id=\"df-0713cbd7-436a-4aaa-a031-a235c4f28e09\">\n",
              "    <div class=\"colab-df-container\">\n",
              "      <div>\n",
              "<style scoped>\n",
              "    .dataframe tbody tr th:only-of-type {\n",
              "        vertical-align: middle;\n",
              "    }\n",
              "\n",
              "    .dataframe tbody tr th {\n",
              "        vertical-align: top;\n",
              "    }\n",
              "\n",
              "    .dataframe thead th {\n",
              "        text-align: right;\n",
              "    }\n",
              "</style>\n",
              "<table border=\"1\" class=\"dataframe\">\n",
              "  <thead>\n",
              "    <tr style=\"text-align: right;\">\n",
              "      <th></th>\n",
              "      <th>0</th>\n",
              "    </tr>\n",
              "    <tr>\n",
              "      <th>id</th>\n",
              "      <th></th>\n",
              "    </tr>\n",
              "  </thead>\n",
              "  <tbody>\n",
              "    <tr>\n",
              "      <th>4BrOVwsV/yoFhvp/T3LJ4Q==</th>\n",
              "      <td>1.957261e+06</td>\n",
              "    </tr>\n",
              "    <tr>\n",
              "      <th>y0zk9jQECTig9hGxnAKLBQ==</th>\n",
              "      <td>2.712201e+05</td>\n",
              "    </tr>\n",
              "    <tr>\n",
              "      <th>S5eUp4QkKCUBsI8fKh1mxg==</th>\n",
              "      <td>1.863806e+05</td>\n",
              "    </tr>\n",
              "    <tr>\n",
              "      <th>J/ORJfJ9feuiG9/S2NYt1A==</th>\n",
              "      <td>3.291811e+05</td>\n",
              "    </tr>\n",
              "    <tr>\n",
              "      <th>OD9F2BgfzVxQHXWXZJe9Bg==</th>\n",
              "      <td>1.856269e+05</td>\n",
              "    </tr>\n",
              "    <tr>\n",
              "      <th>TESs1koxkWfe+2D3Vj1Gug==</th>\n",
              "      <td>2.635926e+05</td>\n",
              "    </tr>\n",
              "    <tr>\n",
              "      <th>AkVEoqPkVm9T9WDONtAkuw==</th>\n",
              "      <td>4.658398e+04</td>\n",
              "    </tr>\n",
              "    <tr>\n",
              "      <th>0PcHCOctnUGMfcBTr5ipHQ==</th>\n",
              "      <td>1.232080e+05</td>\n",
              "    </tr>\n",
              "    <tr>\n",
              "      <th>95S2XjF+IpQNj1SCefRCgw==</th>\n",
              "      <td>1.160215e+05</td>\n",
              "    </tr>\n",
              "    <tr>\n",
              "      <th>Ksg6FD76MIM9KeTS3oBbPg==</th>\n",
              "      <td>3.005448e+05</td>\n",
              "    </tr>\n",
              "    <tr>\n",
              "      <th>n1OKGqWZSk0vI0bLTZvEWQ==</th>\n",
              "      <td>1.934990e+05</td>\n",
              "    </tr>\n",
              "    <tr>\n",
              "      <th>ikCP3UpzfeRTciBOdiDiNg==</th>\n",
              "      <td>8.798266e+04</td>\n",
              "    </tr>\n",
              "    <tr>\n",
              "      <th>oW8ZAGG8iZVxGu+p+gFupA==</th>\n",
              "      <td>2.171832e+05</td>\n",
              "    </tr>\n",
              "    <tr>\n",
              "      <th>MXPB6HARV6YO7bxbV4RK4A==</th>\n",
              "      <td>1.140507e+05</td>\n",
              "    </tr>\n",
              "    <tr>\n",
              "      <th>nFxCJL7NxnMb+NI7vtRZpg==</th>\n",
              "      <td>2.432428e+05</td>\n",
              "    </tr>\n",
              "    <tr>\n",
              "      <th>wOe1KzEl1FMuuFr92P9Hlw==</th>\n",
              "      <td>1.248654e+05</td>\n",
              "    </tr>\n",
              "    <tr>\n",
              "      <th>jUo9Py8C/WLdfefuIBe7uA==</th>\n",
              "      <td>2.182584e+05</td>\n",
              "    </tr>\n",
              "    <tr>\n",
              "      <th>feF0LgVY6RQJv4+wSjqQvw==</th>\n",
              "      <td>9.810468e+04</td>\n",
              "    </tr>\n",
              "    <tr>\n",
              "      <th>bCtzUjKy5uQLBmoGxtelMg==</th>\n",
              "      <td>8.698647e+04</td>\n",
              "    </tr>\n",
              "    <tr>\n",
              "      <th>DO2Xt22n1V1pVYMeMieumw==</th>\n",
              "      <td>2.379818e+05</td>\n",
              "    </tr>\n",
              "  </tbody>\n",
              "</table>\n",
              "</div>\n",
              "      <button class=\"colab-df-convert\" onclick=\"convertToInteractive('df-0713cbd7-436a-4aaa-a031-a235c4f28e09')\"\n",
              "              title=\"Convert this dataframe to an interactive table.\"\n",
              "              style=\"display:none;\">\n",
              "        \n",
              "  <svg xmlns=\"http://www.w3.org/2000/svg\" height=\"24px\"viewBox=\"0 0 24 24\"\n",
              "       width=\"24px\">\n",
              "    <path d=\"M0 0h24v24H0V0z\" fill=\"none\"/>\n",
              "    <path d=\"M18.56 5.44l.94 2.06.94-2.06 2.06-.94-2.06-.94-.94-2.06-.94 2.06-2.06.94zm-11 1L8.5 8.5l.94-2.06 2.06-.94-2.06-.94L8.5 2.5l-.94 2.06-2.06.94zm10 10l.94 2.06.94-2.06 2.06-.94-2.06-.94-.94-2.06-.94 2.06-2.06.94z\"/><path d=\"M17.41 7.96l-1.37-1.37c-.4-.4-.92-.59-1.43-.59-.52 0-1.04.2-1.43.59L10.3 9.45l-7.72 7.72c-.78.78-.78 2.05 0 2.83L4 21.41c.39.39.9.59 1.41.59.51 0 1.02-.2 1.41-.59l7.78-7.78 2.81-2.81c.8-.78.8-2.07 0-2.86zM5.41 20L4 18.59l7.72-7.72 1.47 1.35L5.41 20z\"/>\n",
              "  </svg>\n",
              "      </button>\n",
              "      \n",
              "  <style>\n",
              "    .colab-df-container {\n",
              "      display:flex;\n",
              "      flex-wrap:wrap;\n",
              "      gap: 12px;\n",
              "    }\n",
              "\n",
              "    .colab-df-convert {\n",
              "      background-color: #E8F0FE;\n",
              "      border: none;\n",
              "      border-radius: 50%;\n",
              "      cursor: pointer;\n",
              "      display: none;\n",
              "      fill: #1967D2;\n",
              "      height: 32px;\n",
              "      padding: 0 0 0 0;\n",
              "      width: 32px;\n",
              "    }\n",
              "\n",
              "    .colab-df-convert:hover {\n",
              "      background-color: #E2EBFA;\n",
              "      box-shadow: 0px 1px 2px rgba(60, 64, 67, 0.3), 0px 1px 3px 1px rgba(60, 64, 67, 0.15);\n",
              "      fill: #174EA6;\n",
              "    }\n",
              "\n",
              "    [theme=dark] .colab-df-convert {\n",
              "      background-color: #3B4455;\n",
              "      fill: #D2E3FC;\n",
              "    }\n",
              "\n",
              "    [theme=dark] .colab-df-convert:hover {\n",
              "      background-color: #434B5C;\n",
              "      box-shadow: 0px 1px 3px 1px rgba(0, 0, 0, 0.15);\n",
              "      filter: drop-shadow(0px 1px 2px rgba(0, 0, 0, 0.3));\n",
              "      fill: #FFFFFF;\n",
              "    }\n",
              "  </style>\n",
              "\n",
              "      <script>\n",
              "        const buttonEl =\n",
              "          document.querySelector('#df-0713cbd7-436a-4aaa-a031-a235c4f28e09 button.colab-df-convert');\n",
              "        buttonEl.style.display =\n",
              "          google.colab.kernel.accessAllowed ? 'block' : 'none';\n",
              "\n",
              "        async function convertToInteractive(key) {\n",
              "          const element = document.querySelector('#df-0713cbd7-436a-4aaa-a031-a235c4f28e09');\n",
              "          const dataTable =\n",
              "            await google.colab.kernel.invokeFunction('convertToInteractive',\n",
              "                                                     [key], {});\n",
              "          if (!dataTable) return;\n",
              "\n",
              "          const docLinkHtml = 'Like what you see? Visit the ' +\n",
              "            '<a target=\"_blank\" href=https://colab.research.google.com/notebooks/data_table.ipynb>data table notebook</a>'\n",
              "            + ' to learn more about interactive tables.';\n",
              "          element.innerHTML = '';\n",
              "          dataTable['output_type'] = 'display_data';\n",
              "          await google.colab.output.renderOutput(dataTable, element);\n",
              "          const docLink = document.createElement('div');\n",
              "          docLink.innerHTML = docLinkHtml;\n",
              "          element.appendChild(docLink);\n",
              "        }\n",
              "      </script>\n",
              "    </div>\n",
              "  </div>\n",
              "  "
            ]
          },
          "metadata": {},
          "execution_count": 156
        }
      ]
    },
    {
      "cell_type": "code",
      "source": [
        "corr_matrix = df.corr()"
      ],
      "metadata": {
        "id": "ic3XRHtZoxFx"
      },
      "execution_count": 157,
      "outputs": []
    },
    {
      "cell_type": "code",
      "source": [
        "corr = df.corr()\n",
        "highly_corr_features = corr.index[abs(corr[\"price\"])>0.5]\n",
        "plt.figure(figsize=(10,10))\n",
        "map = sns.heatmap(df[highly_corr_features].corr(),annot=True,cmap=\"RdYlGn\")"
      ],
      "metadata": {
        "id": "EJ746fE_PtCl",
        "colab": {
          "base_uri": "https://localhost:8080/",
          "height": 667
        },
        "outputId": "45b9da84-3d78-4845-e66f-7cfc07c79015"
      },
      "execution_count": 158,
      "outputs": [
        {
          "output_type": "display_data",
          "data": {
            "text/plain": [
              "<Figure size 720x720 with 2 Axes>"
            ],
            "image/png": "[encoded data removed]"
          },
          "metadata": {
            "needs_background": "light"
          }
        }
      ]
    },
    {
      "cell_type": "code",
      "source": [
        "corr_matrix['price'].sort_values(ascending=False)"
      ],
      "metadata": {
        "id": "jl_dEZG-o3t4",
        "colab": {
          "base_uri": "https://localhost:8080/"
        },
        "outputId": "62650cda-15bd-442b-ffd7-339984321f7d"
      },
      "execution_count": 159,
      "outputs": [
        {
          "output_type": "execute_result",
          "data": {
            "text/plain": [
              "price                 1.000000\n",
              "logsupcov             0.841313\n",
              "logsuptot             0.828977\n",
              "surface_covered       0.779790\n",
              "surface_total         0.757929\n",
              "logbath               0.725404\n",
              "bathrooms             0.703770\n",
              "logr                  0.651626\n",
              "rooms                 0.635777\n",
              "logbed                0.633931\n",
              "bedrooms              0.585583\n",
              "rot_30_x              0.285221\n",
              "Seguridad             0.276646\n",
              "gym                   0.272681\n",
              "lat                   0.267957\n",
              "escri                 0.265858\n",
              "rot_45_y              0.247393\n",
              "rot_45_x              0.247393\n",
              "Pileta                0.204051\n",
              "rot_30_y              0.198196\n",
              "parri                 0.179388\n",
              "4am                   0.169847\n",
              "5am                   0.136573\n",
              "famroom               0.100732\n",
              "lon                   0.093831\n",
              "Alarma                0.069106\n",
              "laundry               0.050591\n",
              "Balcon                0.050400\n",
              "Reciclado             0.042678\n",
              "cocina                0.038896\n",
              "anio_e                0.031669\n",
              "Patio                 0.018928\n",
              "Nuevo                 0.010578\n",
              "Luz                   0.010556\n",
              "calefa                0.005465\n",
              "Aire Acondicionado   -0.000977\n",
              "mascotas             -0.007812\n",
              "mes_e                -0.026049\n",
              "mes_c                -0.033114\n",
              "mes_s                -0.033114\n",
              "Gas                  -0.051724\n",
              "3am                  -0.059137\n",
              "1am                  -0.082971\n",
              "apto                 -0.150730\n",
              "2am                  -0.313754\n",
              "r/sup                -0.372319\n",
              "l5                         NaN\n",
              "anio_s                     NaN\n",
              "anio_c                     NaN\n",
              "SUM                        NaN\n",
              "Name: price, dtype: float64"
            ]
          },
          "metadata": {},
          "execution_count": 159
        }
      ]
    },
    {
      "cell_type": "code",
      "source": [
        "# columnas_2=df.columns.drop('price')\n",
        "columnas_2=X.columns\n",
        "columnas_2\n",
        "diccionario = pd.DataFrame(list(zip(columnas_2,my_pipeline.steps[1][1].feature_importances_*100)), columns = ['features','importance (%)']);\n",
        "primeros = diccionario.nlargest(40,columns=['importance (%)']);\n",
        "\n",
        "plt.figure(figsize=(12,5))\n",
        "sns.barplot(x = \"features\", y = \"importance (%)\",data = primeros)\n",
        "plt.xticks(rotation = 90,fontsize = 10)\n",
        "plt.yticks(fontsize = 10)\n",
        "plt.title('Importancia de features', fontsize=20)\n",
        "plt.xlabel('features', fontsize=20)\n",
        "plt.ylabel('importance (%)', fontsize=20)\n",
        "plt.show()"
      ],
      "metadata": {
        "id": "FOs5QAZnHu3m",
        "colab": {
          "base_uri": "https://localhost:8080/",
          "height": 450
        },
        "outputId": "8151ce87-47f8-4ad3-cced-96712e036be5"
      },
      "execution_count": 160,
      "outputs": [
        {
          "output_type": "display_data",
          "data": {
            "text/plain": [
              "<Figure size 864x360 with 1 Axes>"
            ],
            "image/png": "[encoded data removed]"
          },
          "metadata": {
            "needs_background": "light"
          }
        }
      ]
    },
    {
      "cell_type": "markdown",
      "source": [
        "## Predicción para Kaggle\n"
      ],
      "metadata": {
        "id": "sqVkTPzj3kV0"
      }
    },
    {
      "cell_type": "code",
      "source": [
        "df_pred = pd.read_csv('/content/drive/MyDrive/a_predecir.csv', index_col=\"id\")\n",
        "df_pred.fillna(0, inplace=True)"
      ],
      "metadata": {
        "id": "01697gx81F5Z"
      },
      "execution_count": 161,
      "outputs": []
    },
    {
      "cell_type": "code",
      "source": [
        "\n",
        "df_pred['rot_45_x'] = (0.707 * df_pred['lat']) + (0.707 * df_pred['lon'])\n",
        "df_pred['rot_45_y'] = (0.707 * df_pred['lon']) + (0.707 * df_pred['lat'])\n",
        "df_pred['rot_30_x'] = (0.866 * df_pred['lat']) + (0.5 * df_pred['lon'])\n",
        "df_pred['rot_30_y'] = (0.866 * df_pred['lon']) + (0.5 * df_pred['lat'])\n",
        "\n",
        "\n",
        "\n",
        "df_pred['start_date']=pd.to_datetime(df_pred['start_date'])\n",
        "df_pred['anio_s']=pd.DatetimeIndex(df_pred['start_date']).year\n",
        "df_pred['mes_s']=pd.DatetimeIndex(df_pred['start_date']).month\n",
        "df_pred['end_date']=pd.to_datetime(df_pred['end_date'])\n",
        "df_pred['anio_e']=pd.DatetimeIndex(df_pred['end_date']).year\n",
        "df_pred['mes_e']=pd.DatetimeIndex(df_pred['end_date']).month\n",
        "df_pred['created_on']=pd.to_datetime(df_pred['created_on'])\n",
        "df_pred['anio_c']=pd.DatetimeIndex(df_pred['created_on']).year\n",
        "df_pred['mes_c']=pd.DatetimeIndex(df_pred['created_on']).month\n",
        "\n",
        "\n",
        "#Estos +1 son por si aparecen 0\n",
        "df_pred['logr']=np.log(df_pred.rooms+1)\n",
        "df_pred['logbed']=np.log(df_pred.bedrooms+1)\n",
        "df_pred['logbath']=np.log(df_pred.bathrooms+1)\n",
        "df_pred['logsupcov']=np.log(df_pred.surface_covered+1)\n",
        "df_pred['logsuptot']=np.log(df_pred.surface_total+1)\n",
        "\n",
        "\n",
        "df_pred[\"Nuevo\"] = df_pred[\"description\"].str.lower().str.contains(\"excel\")\n",
        "df_pred[\"1am\"] = df_pred[\"description\"].str.lower().str.contains(\"1 ambiente\") | df_pred[\"details\"].str.lower().str.contains(\"ambientes 1\")\n",
        "df_pred[\"2am\"] = df_pred[\"description\"].str.lower().str.contains(\"2 ambiente\") | df_pred[\"details\"].str.lower().str.contains(\"ambientes 2\")\n",
        "df_pred[\"3am\"] = df_pred[\"description\"].str.lower().str.contains(\"3 ambiente\") | df_pred[\"details\"].str.lower().str.contains(\"ambientes 3\")\n",
        "df_pred[\"4am\"] = df_pred[\"description\"].str.lower().str.contains(\"4 ambiente\") | df_pred[\"details\"].str.lower().str.contains(\"ambientes 4\")\n",
        "df_pred[\"5am\"] = df_pred[\"description\"].str.lower().str.contains(\"5 ambiente\") | df_pred[\"details\"].str.lower().str.contains(\"ambientes 5\")\n",
        "df_pred[\"Patio\"] = df_pred[\"description\"].str.lower().str.contains(\"patio\") | df_pred[\"details\"].str.lower().str.contains(\"patio\")\n",
        "df_pred[\"Balcon\"] = df_pred[\"description\"].str.lower().str.contains(\"balcon\") | df_pred[\"details\"].str.lower().str.contains(\"balcon\")\n",
        "df_pred[\"Pileta\"] = df_pred[\"description\"].str.lower().str.contains(\"pileta\") | df_pred[\"details\"].str.lower().str.contains(\"pileta\")\n",
        "df_pred[\"Reciclado\"] = df_pred[\"description\"].str.lower().str.contains(\"reciclado\")\n",
        "df_pred[\"cocina\"] = df_pred[\"description\"].str.lower().str.contains(\"cocina\") | df_pred[\"details\"].str.lower().str.contains(\"cocina\")\n",
        "df_pred[\"escri\"] = df_pred[\"description\"].str.lower().str.contains(\"escritorio\") | df_pred[\"details\"].str.lower().str.contains(\"escritorio\")\n",
        "df_pred[\"apto\"] = df_pred[\"description\"].str.lower().str.contains(\"apto profesional\") \n",
        "df_pred[\"laundry\"] = df_pred[\"description\"].str.lower().str.contains(\"laundry\") \n",
        "df_pred[\"parri\"] = df_pred[\"description\"].str.lower().str.contains(\"parrilla\")  | df_pred[\"details\"].str.lower().str.contains(\"parrilla\")\n",
        "df_pred[\"mascotas\"] = df_pred[\"description\"].str.lower().str.contains(\"mascotas\") | df_pred[\"details\"].str.lower().str.contains(\"mascotas\")\n",
        "df_pred[\"Aire Acondicionado\"] = df_pred[\"description\"].str.lower().str.contains(\"aire acondicionado\")  | df_pred[\"details\"].str.lower().str.contains(\"aire acondicionado\")\n",
        "df_pred[\"famroom\"] = df_pred[\"description\"].str.lower().str.contains(\"family room\")| df_pred[\"details\"].str.lower().str.contains(\"family room\")\n",
        "df_pred[\"gym\"] = df_pred[\"description\"].str.lower().str.contains(\"gimnasio\") | df_pred[\"description\"].str.lower().str.contains(\"gym\") | df_pred[\"details\"].str.lower().str.contains(\"gimnasio\")\n",
        "df_pred[\"SUM\"] = df_pred[\"description\"].str.lower().str.contains(\"SUM\") | df_pred[\"details\"].str.lower().str.contains(\"SUM\")\n",
        "df_pred[\"Seguridad\"] = df_pred[\"description\"].str.lower().str.contains(\"seguridad\") | df_pred[\"details\"].str.lower().str.contains(\"Seguridad\")\n",
        "df_pred[\"Alarma\"] = df_pred[\"description\"].str.lower().str.contains(\"alarma\") | df_pred[\"details\"].str.lower().str.contains(\"alarma\")\n",
        "df_pred[\"calefa\"] = df_pred[\"description\"].str.lower().str.contains(\"calefación\")  | df_pred[\"details\"].str.lower().str.contains(\"calefación\")\n",
        "df_pred[\"Gas\"] = df_pred[\"description\"].str.lower().str.contains(\"gas\")  | df_pred[\"services\"].str.lower().str.contains(\"gas\")\n",
        "df_pred[\"Luz\"] = df_pred[\"description\"].str.lower().str.contains(\"luz\")  | df_pred[\"services\"].str.lower().str.contains(\"gas\")\n",
        "\n",
        "\n",
        "\n",
        "\n",
        "df[\"Gas\"] = df[\"description\"].str.lower().str.contains(\"gas\")\n",
        "df[\"Luz\"] = df[\"description\"].str.lower().str.contains(\"luz\")\n",
        "\n",
        "\n",
        "df_pred['r/sup']=df_pred['rooms']/df_pred['surface_covered']"
      ],
      "metadata": {
        "id": "Kfgbq-2y27z4"
      },
      "execution_count": 162,
      "outputs": []
    },
    {
      "cell_type": "code",
      "source": [
        "df_pred['1am'].value_counts()"
      ],
      "metadata": {
        "id": "7_VBMIubiGIO",
        "colab": {
          "base_uri": "https://localhost:8080/"
        },
        "outputId": "251ba62f-0aa0-4e08-95ee-8e50273669d8"
      },
      "execution_count": 163,
      "outputs": [
        {
          "output_type": "execute_result",
          "data": {
            "text/plain": [
              "False    887\n",
              "True     200\n",
              "Name: 1am, dtype: int64"
            ]
          },
          "metadata": {},
          "execution_count": 163
        }
      ]
    },
    {
      "cell_type": "code",
      "source": [
        "df_pred.l3.unique()"
      ],
      "metadata": {
        "id": "IKtV8uOvfq_I",
        "colab": {
          "base_uri": "https://localhost:8080/"
        },
        "outputId": "a59dbadf-4417-4ab3-d35b-b05980e907d6"
      },
      "execution_count": 164,
      "outputs": [
        {
          "output_type": "execute_result",
          "data": {
            "text/plain": [
              "array(['Balvanera', 'Villa Urquiza', 'Palermo', 'Belgrano', 'Floresta',\n",
              "       'Villa Pueyrredon', 'Saavedra', 'Villa Devoto', 'San Nicolás',\n",
              "       'Chacarita', 'Villa Crespo', 'Boedo', 'Flores', 'Paternal', 'Boca',\n",
              "       'Recoleta', 'Caballito', 'Nuñez', 'Constitución', 'Colegiales',\n",
              "       'San Telmo', 'Monserrat', 'Puerto Madero', 'Villa del Parque',\n",
              "       'Almagro', 'Villa Ortuzar', 'Villa Lugano', 'San Cristobal',\n",
              "       'Barracas', 'Liniers', '2 Ambientes', 'Mataderos',\n",
              "       'Villa Santa Rita', 'Parque Patricios', 'Parque Chas',\n",
              "       'Villa General Mitre', 'Retiro', 'Parque Avellaneda',\n",
              "       'Monte Castro', 'Parque Chacabuco', 'Villa Luro', 'Versalles',\n",
              "       'Coghlan', 'Vélez Sarsfield', 'Nueva Pompeya', 'Agronomía',\n",
              "       'Villa Real', 'GBA Norte'], dtype=object)"
            ]
          },
          "metadata": {},
          "execution_count": 164
        }
      ]
    },
    {
      "cell_type": "code",
      "source": [
        "# quedate con las mismas columnas que ar_properties\n",
        "X_pred = df_pred[X.columns]"
      ],
      "metadata": {
        "id": "xzAwUNRA1Fzb"
      },
      "execution_count": 165,
      "outputs": []
    },
    {
      "cell_type": "code",
      "source": [
        "from sklearn import set_config\n",
        "set_config(display='diagram')\n",
        "my_pipeline"
      ],
      "metadata": {
        "id": "pFLjRlW36JXE",
        "colab": {
          "base_uri": "https://localhost:8080/",
          "height": 228
        },
        "outputId": "00cfa7bf-5999-49ab-e89d-3fba59422666"
      },
      "execution_count": 166,
      "outputs": [
        {
          "output_type": "execute_result",
          "data": {
            "text/plain": [
              "Pipeline(steps=[('preprocessor',\n",
              "                 ColumnTransformer(transformers=[('num',\n",
              "                                                  Pipeline(steps=[('numimputer',\n",
              "                                                                   SimpleImputer()),\n",
              "                                                                  ('scaler',\n",
              "                                                                   StandardScaler())]),\n",
              "                                                  ['rooms', 'bedrooms',\n",
              "                                                   'bathrooms', 'r/sup']),\n",
              "                                                 ('num2',\n",
              "                                                  Pipeline(steps=[('numimputer2',\n",
              "                                                                   SimpleImputer())]),\n",
              "                                                  ['logsuptot', 'logsupcov']),\n",
              "                                                 ('cat',\n",
              "                                                  Pipeline(steps=[('imputer',\n",
              "                                                                   SimpleImputer(strategy='most_frequent')),...\n",
              "                                                                   OneHotEncoder(handle_unknown='ignore'))]),\n",
              "                                                  ['l3', 'property_type',\n",
              "                                                   'Nuevo', '1am', '2am', '3am',\n",
              "                                                   '4am', '5am', 'Patio',\n",
              "                                                   'Balcon', 'Pileta',\n",
              "                                                   'Reciclado', 'cocina',\n",
              "                                                   'escri', 'apto', 'laundry',\n",
              "                                                   'parri', 'mascotas',\n",
              "                                                   'Aire Acondicionado',\n",
              "                                                   'famroom', 'gym', 'SUM',\n",
              "                                                   'Seguridad', 'Alarma',\n",
              "                                                   'calefa', 'Gas', 'Luz'])])),\n",
              "                ('model',\n",
              "                 RandomForestRegressor(max_depth=15, n_estimators=200,\n",
              "                                       n_jobs=-1, random_state=42))])"
            ],
            "text/html": [
              "<style>#sk-e7bbb9e0-f935-4cc5-baf0-232ce7bd02ec {color: black;background-color: white;}#sk-e7bbb9e0-f935-4cc5-baf0-232ce7bd02ec pre{padding: 0;}#sk-e7bbb9e0-f935-4cc5-baf0-232ce7bd02ec div.sk-toggleable {background-color: white;}#sk-e7bbb9e0-f935-4cc5-baf0-232ce7bd02ec label.sk-toggleable__label {cursor: pointer;display: block;width: 100%;margin-bottom: 0;padding: 0.3em;box-sizing: border-box;text-align: center;}#sk-e7bbb9e0-f935-4cc5-baf0-232ce7bd02ec label.sk-toggleable__label-arrow:before {content: \"▸\";float: left;margin-right: 0.25em;color: #696969;}#sk-e7bbb9e0-f935-4cc5-baf0-232ce7bd02ec label.sk-toggleable__label-arrow:hover:before {color: black;}#sk-e7bbb9e0-f935-4cc5-baf0-232ce7bd02ec div.sk-estimator:hover label.sk-toggleable__label-arrow:before {color: black;}#sk-e7bbb9e0-f935-4cc5-baf0-232ce7bd02ec div.sk-toggleable__content {max-height: 0;max-width: 0;overflow: hidden;text-align: left;background-color: #f0f8ff;}#sk-e7bbb9e0-f935-4cc5-baf0-232ce7bd02ec div.sk-toggleable__content pre {margin: 0.2em;color: black;border-radius: 0.25em;background-color: #f0f8ff;}#sk-e7bbb9e0-f935-4cc5-baf0-232ce7bd02ec input.sk-toggleable__control:checked~div.sk-toggleable__content {max-height: 200px;max-width: 100%;overflow: auto;}#sk-e7bbb9e0-f935-4cc5-baf0-232ce7bd02ec input.sk-toggleable__control:checked~label.sk-toggleable__label-arrow:before {content: \"▾\";}#sk-e7bbb9e0-f935-4cc5-baf0-232ce7bd02ec div.sk-estimator input.sk-toggleable__control:checked~label.sk-toggleable__label {background-color: #d4ebff;}#sk-e7bbb9e0-f935-4cc5-baf0-232ce7bd02ec div.sk-label input.sk-toggleable__control:checked~label.sk-toggleable__label {background-color: #d4ebff;}#sk-e7bbb9e0-f935-4cc5-baf0-232ce7bd02ec input.sk-hidden--visually {border: 0;clip: rect(1px 1px 1px 1px);clip: rect(1px, 1px, 1px, 1px);height: 1px;margin: -1px;overflow: hidden;padding: 0;position: absolute;width: 1px;}#sk-e7bbb9e0-f935-4cc5-baf0-232ce7bd02ec div.sk-estimator {font-family: monospace;background-color: #f0f8ff;border: 1px dotted black;border-radius: 0.25em;box-sizing: border-box;margin-bottom: 0.5em;}#sk-e7bbb9e0-f935-4cc5-baf0-232ce7bd02ec div.sk-estimator:hover {background-color: #d4ebff;}#sk-e7bbb9e0-f935-4cc5-baf0-232ce7bd02ec div.sk-parallel-item::after {content: \"\";width: 100%;border-bottom: 1px solid gray;flex-grow: 1;}#sk-e7bbb9e0-f935-4cc5-baf0-232ce7bd02ec div.sk-label:hover label.sk-toggleable__label {background-color: #d4ebff;}#sk-e7bbb9e0-f935-4cc5-baf0-232ce7bd02ec div.sk-serial::before {content: \"\";position: absolute;border-left: 1px solid gray;box-sizing: border-box;top: 2em;bottom: 0;left: 50%;}#sk-e7bbb9e0-f935-4cc5-baf0-232ce7bd02ec div.sk-serial {display: flex;flex-direction: column;align-items: center;background-color: white;padding-right: 0.2em;padding-left: 0.2em;}#sk-e7bbb9e0-f935-4cc5-baf0-232ce7bd02ec div.sk-item {z-index: 1;}#sk-e7bbb9e0-f935-4cc5-baf0-232ce7bd02ec div.sk-parallel {display: flex;align-items: stretch;justify-content: center;background-color: white;}#sk-e7bbb9e0-f935-4cc5-baf0-232ce7bd02ec div.sk-parallel::before {content: \"\";position: absolute;border-left: 1px solid gray;box-sizing: border-box;top: 2em;bottom: 0;left: 50%;}#sk-e7bbb9e0-f935-4cc5-baf0-232ce7bd02ec div.sk-parallel-item {display: flex;flex-direction: column;position: relative;background-color: white;}#sk-e7bbb9e0-f935-4cc5-baf0-232ce7bd02ec div.sk-parallel-item:first-child::after {align-self: flex-end;width: 50%;}#sk-e7bbb9e0-f935-4cc5-baf0-232ce7bd02ec div.sk-parallel-item:last-child::after {align-self: flex-start;width: 50%;}#sk-e7bbb9e0-f935-4cc5-baf0-232ce7bd02ec div.sk-parallel-item:only-child::after {width: 0;}#sk-e7bbb9e0-f935-4cc5-baf0-232ce7bd02ec div.sk-dashed-wrapped {border: 1px dashed gray;margin: 0 0.4em 0.5em 0.4em;box-sizing: border-box;padding-bottom: 0.4em;background-color: white;position: relative;}#sk-e7bbb9e0-f935-4cc5-baf0-232ce7bd02ec div.sk-label label {font-family: monospace;font-weight: bold;background-color: white;display: inline-block;line-height: 1.2em;}#sk-e7bbb9e0-f935-4cc5-baf0-232ce7bd02ec div.sk-label-container {position: relative;z-index: 2;text-align: center;}#sk-e7bbb9e0-f935-4cc5-baf0-232ce7bd02ec div.sk-container {/* jupyter's `normalize.less` sets `[hidden] { display: none; }` but bootstrap.min.css set `[hidden] { display: none !important; }` so we also need the `!important` here to be able to override the default hidden behavior on the sphinx rendered scikit-learn.org. See: https://github.com/scikit-learn/scikit-learn/issues/21755 */display: inline-block !important;position: relative;}#sk-e7bbb9e0-f935-4cc5-baf0-232ce7bd02ec div.sk-text-repr-fallback {display: none;}</style><div id=\"sk-e7bbb9e0-f935-4cc5-baf0-232ce7bd02ec\" class=\"sk-top-container\"><div class=\"sk-text-repr-fallback\"><pre>Pipeline(steps=[(&#x27;preprocessor&#x27;,\n",
              "                 ColumnTransformer(transformers=[(&#x27;num&#x27;,\n",
              "                                                  Pipeline(steps=[(&#x27;numimputer&#x27;,\n",
              "                                                                   SimpleImputer()),\n",
              "                                                                  (&#x27;scaler&#x27;,\n",
              "                                                                   StandardScaler())]),\n",
              "                                                  [&#x27;rooms&#x27;, &#x27;bedrooms&#x27;,\n",
              "                                                   &#x27;bathrooms&#x27;, &#x27;r/sup&#x27;]),\n",
              "                                                 (&#x27;num2&#x27;,\n",
              "                                                  Pipeline(steps=[(&#x27;numimputer2&#x27;,\n",
              "                                                                   SimpleImputer())]),\n",
              "                                                  [&#x27;logsuptot&#x27;, &#x27;logsupcov&#x27;]),\n",
              "                                                 (&#x27;cat&#x27;,\n",
              "                                                  Pipeline(steps=[(&#x27;imputer&#x27;,\n",
              "                                                                   SimpleImputer(strategy=&#x27;most_frequent&#x27;)),...\n",
              "                                                                   OneHotEncoder(handle_unknown=&#x27;ignore&#x27;))]),\n",
              "                                                  [&#x27;l3&#x27;, &#x27;property_type&#x27;,\n",
              "                                                   &#x27;Nuevo&#x27;, &#x27;1am&#x27;, &#x27;2am&#x27;, &#x27;3am&#x27;,\n",
              "                                                   &#x27;4am&#x27;, &#x27;5am&#x27;, &#x27;Patio&#x27;,\n",
              "                                                   &#x27;Balcon&#x27;, &#x27;Pileta&#x27;,\n",
              "                                                   &#x27;Reciclado&#x27;, &#x27;cocina&#x27;,\n",
              "                                                   &#x27;escri&#x27;, &#x27;apto&#x27;, &#x27;laundry&#x27;,\n",
              "                                                   &#x27;parri&#x27;, &#x27;mascotas&#x27;,\n",
              "                                                   &#x27;Aire Acondicionado&#x27;,\n",
              "                                                   &#x27;famroom&#x27;, &#x27;gym&#x27;, &#x27;SUM&#x27;,\n",
              "                                                   &#x27;Seguridad&#x27;, &#x27;Alarma&#x27;,\n",
              "                                                   &#x27;calefa&#x27;, &#x27;Gas&#x27;, &#x27;Luz&#x27;])])),\n",
              "                (&#x27;model&#x27;,\n",
              "                 RandomForestRegressor(max_depth=15, n_estimators=200,\n",
              "                                       n_jobs=-1, random_state=42))])</pre><b>Please rerun this cell to show the HTML repr or trust the notebook.</b></div><div class=\"sk-container\" hidden><div class=\"sk-item sk-dashed-wrapped\"><div class=\"sk-label-container\"><div class=\"sk-label sk-toggleable\"><input class=\"sk-toggleable__control sk-hidden--visually\" id=\"bdcbf9d9-d42f-4b12-8321-30f9f7e87135\" type=\"checkbox\" ><label for=\"bdcbf9d9-d42f-4b12-8321-30f9f7e87135\" class=\"sk-toggleable__label sk-toggleable__label-arrow\">Pipeline</label><div class=\"sk-toggleable__content\"><pre>Pipeline(steps=[(&#x27;preprocessor&#x27;,\n",
              "                 ColumnTransformer(transformers=[(&#x27;num&#x27;,\n",
              "                                                  Pipeline(steps=[(&#x27;numimputer&#x27;,\n",
              "                                                                   SimpleImputer()),\n",
              "                                                                  (&#x27;scaler&#x27;,\n",
              "                                                                   StandardScaler())]),\n",
              "                                                  [&#x27;rooms&#x27;, &#x27;bedrooms&#x27;,\n",
              "                                                   &#x27;bathrooms&#x27;, &#x27;r/sup&#x27;]),\n",
              "                                                 (&#x27;num2&#x27;,\n",
              "                                                  Pipeline(steps=[(&#x27;numimputer2&#x27;,\n",
              "                                                                   SimpleImputer())]),\n",
              "                                                  [&#x27;logsuptot&#x27;, &#x27;logsupcov&#x27;]),\n",
              "                                                 (&#x27;cat&#x27;,\n",
              "                                                  Pipeline(steps=[(&#x27;imputer&#x27;,\n",
              "                                                                   SimpleImputer(strategy=&#x27;most_frequent&#x27;)),...\n",
              "                                                                   OneHotEncoder(handle_unknown=&#x27;ignore&#x27;))]),\n",
              "                                                  [&#x27;l3&#x27;, &#x27;property_type&#x27;,\n",
              "                                                   &#x27;Nuevo&#x27;, &#x27;1am&#x27;, &#x27;2am&#x27;, &#x27;3am&#x27;,\n",
              "                                                   &#x27;4am&#x27;, &#x27;5am&#x27;, &#x27;Patio&#x27;,\n",
              "                                                   &#x27;Balcon&#x27;, &#x27;Pileta&#x27;,\n",
              "                                                   &#x27;Reciclado&#x27;, &#x27;cocina&#x27;,\n",
              "                                                   &#x27;escri&#x27;, &#x27;apto&#x27;, &#x27;laundry&#x27;,\n",
              "                                                   &#x27;parri&#x27;, &#x27;mascotas&#x27;,\n",
              "                                                   &#x27;Aire Acondicionado&#x27;,\n",
              "                                                   &#x27;famroom&#x27;, &#x27;gym&#x27;, &#x27;SUM&#x27;,\n",
              "                                                   &#x27;Seguridad&#x27;, &#x27;Alarma&#x27;,\n",
              "                                                   &#x27;calefa&#x27;, &#x27;Gas&#x27;, &#x27;Luz&#x27;])])),\n",
              "                (&#x27;model&#x27;,\n",
              "                 RandomForestRegressor(max_depth=15, n_estimators=200,\n",
              "                                       n_jobs=-1, random_state=42))])</pre></div></div></div><div class=\"sk-serial\"><div class=\"sk-item sk-dashed-wrapped\"><div class=\"sk-label-container\"><div class=\"sk-label sk-toggleable\"><input class=\"sk-toggleable__control sk-hidden--visually\" id=\"5412cd32-cf5b-4ef1-8683-577aaf0831c6\" type=\"checkbox\" ><label for=\"5412cd32-cf5b-4ef1-8683-577aaf0831c6\" class=\"sk-toggleable__label sk-toggleable__label-arrow\">preprocessor: ColumnTransformer</label><div class=\"sk-toggleable__content\"><pre>ColumnTransformer(transformers=[(&#x27;num&#x27;,\n",
              "                                 Pipeline(steps=[(&#x27;numimputer&#x27;,\n",
              "                                                  SimpleImputer()),\n",
              "                                                 (&#x27;scaler&#x27;, StandardScaler())]),\n",
              "                                 [&#x27;rooms&#x27;, &#x27;bedrooms&#x27;, &#x27;bathrooms&#x27;, &#x27;r/sup&#x27;]),\n",
              "                                (&#x27;num2&#x27;,\n",
              "                                 Pipeline(steps=[(&#x27;numimputer2&#x27;,\n",
              "                                                  SimpleImputer())]),\n",
              "                                 [&#x27;logsuptot&#x27;, &#x27;logsupcov&#x27;]),\n",
              "                                (&#x27;cat&#x27;,\n",
              "                                 Pipeline(steps=[(&#x27;imputer&#x27;,\n",
              "                                                  SimpleImputer(strategy=&#x27;most_frequent&#x27;)),\n",
              "                                                 (&#x27;onehot&#x27;,\n",
              "                                                  OneHotEncoder(handle_unknown=&#x27;ignore&#x27;))]),\n",
              "                                 [&#x27;l3&#x27;, &#x27;property_type&#x27;, &#x27;Nuevo&#x27;, &#x27;1am&#x27;, &#x27;2am&#x27;,\n",
              "                                  &#x27;3am&#x27;, &#x27;4am&#x27;, &#x27;5am&#x27;, &#x27;Patio&#x27;, &#x27;Balcon&#x27;,\n",
              "                                  &#x27;Pileta&#x27;, &#x27;Reciclado&#x27;, &#x27;cocina&#x27;, &#x27;escri&#x27;,\n",
              "                                  &#x27;apto&#x27;, &#x27;laundry&#x27;, &#x27;parri&#x27;, &#x27;mascotas&#x27;,\n",
              "                                  &#x27;Aire Acondicionado&#x27;, &#x27;famroom&#x27;, &#x27;gym&#x27;, &#x27;SUM&#x27;,\n",
              "                                  &#x27;Seguridad&#x27;, &#x27;Alarma&#x27;, &#x27;calefa&#x27;, &#x27;Gas&#x27;,\n",
              "                                  &#x27;Luz&#x27;])])</pre></div></div></div><div class=\"sk-parallel\"><div class=\"sk-parallel-item\"><div class=\"sk-item\"><div class=\"sk-label-container\"><div class=\"sk-label sk-toggleable\"><input class=\"sk-toggleable__control sk-hidden--visually\" id=\"585ffeed-e9be-42dd-ba37-eb30db31eee2\" type=\"checkbox\" ><label for=\"585ffeed-e9be-42dd-ba37-eb30db31eee2\" class=\"sk-toggleable__label sk-toggleable__label-arrow\">num</label><div class=\"sk-toggleable__content\"><pre>[&#x27;rooms&#x27;, &#x27;bedrooms&#x27;, &#x27;bathrooms&#x27;, &#x27;r/sup&#x27;]</pre></div></div></div><div class=\"sk-serial\"><div class=\"sk-item\"><div class=\"sk-serial\"><div class=\"sk-item\"><div class=\"sk-estimator sk-toggleable\"><input class=\"sk-toggleable__control sk-hidden--visually\" id=\"e2a9787d-ffc3-4b53-89e7-125b2d594cda\" type=\"checkbox\" ><label for=\"e2a9787d-ffc3-4b53-89e7-125b2d594cda\" class=\"sk-toggleable__label sk-toggleable__label-arrow\">SimpleImputer</label><div class=\"sk-toggleable__content\"><pre>SimpleImputer()</pre></div></div></div><div class=\"sk-item\"><div class=\"sk-estimator sk-toggleable\"><input class=\"sk-toggleable__control sk-hidden--visually\" id=\"3d809fcc-5560-4447-8569-f7d9047ae012\" type=\"checkbox\" ><label for=\"3d809fcc-5560-4447-8569-f7d9047ae012\" class=\"sk-toggleable__label sk-toggleable__label-arrow\">StandardScaler</label><div class=\"sk-toggleable__content\"><pre>StandardScaler()</pre></div></div></div></div></div></div></div></div><div class=\"sk-parallel-item\"><div class=\"sk-item\"><div class=\"sk-label-container\"><div class=\"sk-label sk-toggleable\"><input class=\"sk-toggleable__control sk-hidden--visually\" id=\"0bb8f9e4-7f81-463a-8452-be6f355cc8a4\" type=\"checkbox\" ><label for=\"0bb8f9e4-7f81-463a-8452-be6f355cc8a4\" class=\"sk-toggleable__label sk-toggleable__label-arrow\">num2</label><div class=\"sk-toggleable__content\"><pre>[&#x27;logsuptot&#x27;, &#x27;logsupcov&#x27;]</pre></div></div></div><div class=\"sk-serial\"><div class=\"sk-item\"><div class=\"sk-serial\"><div class=\"sk-item\"><div class=\"sk-estimator sk-toggleable\"><input class=\"sk-toggleable__control sk-hidden--visually\" id=\"114c8942-c5a8-4ec0-a62a-1d33f98c409c\" type=\"checkbox\" ><label for=\"114c8942-c5a8-4ec0-a62a-1d33f98c409c\" class=\"sk-toggleable__label sk-toggleable__label-arrow\">SimpleImputer</label><div class=\"sk-toggleable__content\"><pre>SimpleImputer()</pre></div></div></div></div></div></div></div></div><div class=\"sk-parallel-item\"><div class=\"sk-item\"><div class=\"sk-label-container\"><div class=\"sk-label sk-toggleable\"><input class=\"sk-toggleable__control sk-hidden--visually\" id=\"6040d229-ea80-481b-af95-626428dfe743\" type=\"checkbox\" ><label for=\"6040d229-ea80-481b-af95-626428dfe743\" class=\"sk-toggleable__label sk-toggleable__label-arrow\">cat</label><div class=\"sk-toggleable__content\"><pre>[&#x27;l3&#x27;, &#x27;property_type&#x27;, &#x27;Nuevo&#x27;, &#x27;1am&#x27;, &#x27;2am&#x27;, &#x27;3am&#x27;, &#x27;4am&#x27;, &#x27;5am&#x27;, &#x27;Patio&#x27;, &#x27;Balcon&#x27;, &#x27;Pileta&#x27;, &#x27;Reciclado&#x27;, &#x27;cocina&#x27;, &#x27;escri&#x27;, &#x27;apto&#x27;, &#x27;laundry&#x27;, &#x27;parri&#x27;, &#x27;mascotas&#x27;, &#x27;Aire Acondicionado&#x27;, &#x27;famroom&#x27;, &#x27;gym&#x27;, &#x27;SUM&#x27;, &#x27;Seguridad&#x27;, &#x27;Alarma&#x27;, &#x27;calefa&#x27;, &#x27;Gas&#x27;, &#x27;Luz&#x27;]</pre></div></div></div><div class=\"sk-serial\"><div class=\"sk-item\"><div class=\"sk-serial\"><div class=\"sk-item\"><div class=\"sk-estimator sk-toggleable\"><input class=\"sk-toggleable__control sk-hidden--visually\" id=\"ae7c2923-00a4-4121-826b-bbf0c39b8a13\" type=\"checkbox\" ><label for=\"ae7c2923-00a4-4121-826b-bbf0c39b8a13\" class=\"sk-toggleable__label sk-toggleable__label-arrow\">SimpleImputer</label><div class=\"sk-toggleable__content\"><pre>SimpleImputer(strategy=&#x27;most_frequent&#x27;)</pre></div></div></div><div class=\"sk-item\"><div class=\"sk-estimator sk-toggleable\"><input class=\"sk-toggleable__control sk-hidden--visually\" id=\"4cc5c28a-5313-4b77-b92b-e27cc9a1cbfd\" type=\"checkbox\" ><label for=\"4cc5c28a-5313-4b77-b92b-e27cc9a1cbfd\" class=\"sk-toggleable__label sk-toggleable__label-arrow\">OneHotEncoder</label><div class=\"sk-toggleable__content\"><pre>OneHotEncoder(handle_unknown=&#x27;ignore&#x27;)</pre></div></div></div></div></div></div></div></div></div></div><div class=\"sk-item\"><div class=\"sk-estimator sk-toggleable\"><input class=\"sk-toggleable__control sk-hidden--visually\" id=\"f7e8e0ad-5241-431a-a693-b4998e3c5297\" type=\"checkbox\" ><label for=\"f7e8e0ad-5241-431a-a693-b4998e3c5297\" class=\"sk-toggleable__label sk-toggleable__label-arrow\">RandomForestRegressor</label><div class=\"sk-toggleable__content\"><pre>RandomForestRegressor(max_depth=15, n_estimators=200, n_jobs=-1,\n",
              "                      random_state=42)</pre></div></div></div></div></div></div></div>"
            ]
          },
          "metadata": {},
          "execution_count": 166
        }
      ]
    },
    {
      "cell_type": "code",
      "source": [
        "# los mejores hiperparámetros encontrados antes\n",
        "n_estimators = 350\n",
        "max_depth = 15\n",
        "\n",
        "# entrenamiento\n",
        "# reg = sk.ensemble.RandomForestRegressor(n_estimators=n_estimators, max_depth=max_depth, random_state=42, n_jobs=-1)\n",
        "my_pipeline.fit(X, y)\n",
        "\n",
        "# predicción\n",
        "df_pred[\"price\"] = my_pipeline.predict(X_pred)"
      ],
      "metadata": {
        "id": "81dOh5WvAPMa"
      },
      "execution_count": 167,
      "outputs": []
    },
    {
      "cell_type": "code",
      "source": [
        "# grabo la solución Despues de convertirla\n",
        "df_pred[\"price\"]=np.exp(df_pred[\"price\"])\n",
        "df_pred[[\"price\"]].to_csv(\"solucion.csv\")"
      ],
      "metadata": {
        "id": "mU9iV6cuBwKB"
      },
      "execution_count": 168,
      "outputs": []
    },
    {
      "cell_type": "code",
      "source": [
        ""
      ],
      "metadata": {
        "id": "vhI-JzV_igWE"
      },
      "execution_count": 168,
      "outputs": []
    }
  ]
}